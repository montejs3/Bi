{
 "cells": [
  {
   "cell_type": "markdown",
   "metadata": {
    "tags": []
   },
   "source": [
    "# Laboratorio 2: CompuAlpes\n",
    "\n",
    "- Juan Camilo Colmenares - 202011866\n",
    "- Juan Montealegre - 202012723\n",
    "- David Gonzalez - 201815834\n",
    "\n",
    "CompuAlpes es una reconocida tienda minorista que vende computadores portátiles de diferentes fabricantes y especificaciones técnicas. Con el auge de la tecnología y el creciente número de productos en el mercado, la empresa busca optimizar sus estrategias de fijación de precios y promociones para seguir siendo competitiva. Es en este último punto, donde ha identificado un reto relacionado con **determinar el precio adecuado para un portatil** ya que el mercado es dinámico y la valoración de las características técnicas cambia con el tiempo. Poner un precio demasiado alto puede alejar a los clientes, mientras que ponerlo demasiado bajo puede reducir los márgenes de ganancia.\n",
    "\n",
    "Esto motivó a CompuAlpes a proponer el objetivo de este proyecto, en el cual se desea **construir un modelo de regresión que permita estimar el precio de un portátil a partir de sus especificaciones técnicas, determinando las que más impactan en el precio o que son, de acuerdo a la evidencia, irrelevantes para la estimación**. Este modelo permitirá a CompuAlpes tener una base objetiva y cuantitativa al momento de establecer precios para sus productos."
   ]
  },
  {
   "cell_type": "code",
   "execution_count": 1,
   "metadata": {},
   "outputs": [],
   "source": [
    "import numpy as np\n",
    "import pandas as pd\n",
    "\n",
    "from joblib import dump, load\n",
    "\n",
    "import matplotlib.pyplot as plt\n",
    "import seaborn as sns\n",
    "\n",
    "from sklearn.model_selection import train_test_split\n",
    "from sklearn.linear_model import LinearRegression\n",
    "from sklearn.pipeline import Pipeline\n",
    "from sklearn.compose import ColumnTransformer\n",
    "from sklearn.preprocessing import StandardScaler\n",
    "from sklearn.preprocessing import PolynomialFeatures\n",
    "from sklearn.metrics import mean_absolute_error, mean_squared_error, r2_score\n",
    "import scipy.stats as stats"
   ]
  },
  {
   "cell_type": "markdown",
   "metadata": {},
   "source": [
    "### Carga de los datos"
   ]
  },
  {
   "cell_type": "code",
   "execution_count": 2,
   "metadata": {},
   "outputs": [],
   "source": [
    "df = pd.read_csv('./data/202320_Laboratorio 2 - Regresión_data_laptop_data_train.csv')"
   ]
  },
  {
   "cell_type": "markdown",
   "metadata": {},
   "source": [
    "## 1. Entendimiento de los datos\n",
    "\n",
    "En esta etapa es importante saber si los datos son o no suficientes para el alcance del proyecto y, en caso de serlo, entender bien sus características para poder definir el camino de limpieza y preparación para lograr el objetivo del proyecto.\n",
    "\n",
    "En particular, es importante realizar un perfilamiento donde se incluye estadística descriptiva y gráficos sobre los datos, señalando sus principales estadísticos. Debido a que el objetivo es crear un modelo de regresión solo haremos uso de las variables númericas. Hay que tener en cuenta que el objetivo fundamental de esta etapa está relacionada con el análisis a nivel de calidad de datos y, en particular, a nivel de las dimensiones de calidad (completitud, unicidad, consistencia, validez) para identificar las actividades de preparación que requieren los datos."
   ]
  },
  {
   "cell_type": "markdown",
   "metadata": {},
   "source": [
    "### 1.1 Perfilamiento de datos"
   ]
  },
  {
   "cell_type": "code",
   "execution_count": 3,
   "metadata": {},
   "outputs": [
    {
     "data": {
      "text/plain": [
       "(1216, 14)"
      ]
     },
     "execution_count": 3,
     "metadata": {},
     "output_type": "execute_result"
    }
   ],
   "source": [
    "df.shape"
   ]
  },
  {
   "cell_type": "code",
   "execution_count": 4,
   "metadata": {},
   "outputs": [
    {
     "data": {
      "text/plain": [
       "id               int64\n",
       "Company         object\n",
       "TypeName        object\n",
       "Ram              int64\n",
       "Weight         float64\n",
       "Price          float64\n",
       "TouchScreen      int64\n",
       "Ips              int64\n",
       "Ppi            float64\n",
       "Cpu_brand       object\n",
       "HDD            float64\n",
       "SSD              int64\n",
       "Gpu_brand       object\n",
       "Os              object\n",
       "dtype: object"
      ]
     },
     "execution_count": 4,
     "metadata": {},
     "output_type": "execute_result"
    }
   ],
   "source": [
    "df.dtypes"
   ]
  },
  {
   "cell_type": "code",
   "execution_count": 5,
   "metadata": {},
   "outputs": [
    {
     "data": {
      "text/html": [
       "<div>\n",
       "<style scoped>\n",
       "    .dataframe tbody tr th:only-of-type {\n",
       "        vertical-align: middle;\n",
       "    }\n",
       "\n",
       "    .dataframe tbody tr th {\n",
       "        vertical-align: top;\n",
       "    }\n",
       "\n",
       "    .dataframe thead th {\n",
       "        text-align: right;\n",
       "    }\n",
       "</style>\n",
       "<table border=\"1\" class=\"dataframe\">\n",
       "  <thead>\n",
       "    <tr style=\"text-align: right;\">\n",
       "      <th></th>\n",
       "      <th>id</th>\n",
       "      <th>Company</th>\n",
       "      <th>TypeName</th>\n",
       "      <th>Ram</th>\n",
       "      <th>Weight</th>\n",
       "      <th>Price</th>\n",
       "      <th>TouchScreen</th>\n",
       "      <th>Ips</th>\n",
       "      <th>Ppi</th>\n",
       "      <th>Cpu_brand</th>\n",
       "      <th>HDD</th>\n",
       "      <th>SSD</th>\n",
       "      <th>Gpu_brand</th>\n",
       "      <th>Os</th>\n",
       "    </tr>\n",
       "  </thead>\n",
       "  <tbody>\n",
       "    <tr>\n",
       "      <th>217</th>\n",
       "      <td>431</td>\n",
       "      <td>Lenovo</td>\n",
       "      <td>Notebook</td>\n",
       "      <td>8</td>\n",
       "      <td>1.40</td>\n",
       "      <td>10.893267</td>\n",
       "      <td>0</td>\n",
       "      <td>1</td>\n",
       "      <td>165.632118</td>\n",
       "      <td>Intel Core i7</td>\n",
       "      <td>0.0</td>\n",
       "      <td>256</td>\n",
       "      <td>Intel</td>\n",
       "      <td>Windows</td>\n",
       "    </tr>\n",
       "    <tr>\n",
       "      <th>223</th>\n",
       "      <td>632</td>\n",
       "      <td>Lenovo</td>\n",
       "      <td>Notebook</td>\n",
       "      <td>4</td>\n",
       "      <td>1.80</td>\n",
       "      <td>10.695781</td>\n",
       "      <td>0</td>\n",
       "      <td>0</td>\n",
       "      <td>141.211998</td>\n",
       "      <td>Intel Core i5</td>\n",
       "      <td>0.0</td>\n",
       "      <td>256</td>\n",
       "      <td>Intel</td>\n",
       "      <td>Windows</td>\n",
       "    </tr>\n",
       "    <tr>\n",
       "      <th>767</th>\n",
       "      <td>764</td>\n",
       "      <td>Dell</td>\n",
       "      <td>Notebook</td>\n",
       "      <td>4</td>\n",
       "      <td>1.65</td>\n",
       "      <td>10.719620</td>\n",
       "      <td>0</td>\n",
       "      <td>0</td>\n",
       "      <td>117.826530</td>\n",
       "      <td>Intel Core i3</td>\n",
       "      <td>500.0</td>\n",
       "      <td>0</td>\n",
       "      <td>Intel</td>\n",
       "      <td>Windows</td>\n",
       "    </tr>\n",
       "    <tr>\n",
       "      <th>786</th>\n",
       "      <td>1084</td>\n",
       "      <td>Dell</td>\n",
       "      <td>Notebook</td>\n",
       "      <td>8</td>\n",
       "      <td>2.18</td>\n",
       "      <td>10.595634</td>\n",
       "      <td>0</td>\n",
       "      <td>0</td>\n",
       "      <td>141.211998</td>\n",
       "      <td>Intel Core i5</td>\n",
       "      <td>0.0</td>\n",
       "      <td>256</td>\n",
       "      <td>Intel</td>\n",
       "      <td>Windows</td>\n",
       "    </tr>\n",
       "    <tr>\n",
       "      <th>776</th>\n",
       "      <td>832</td>\n",
       "      <td>Asus</td>\n",
       "      <td>Notebook</td>\n",
       "      <td>4</td>\n",
       "      <td>2.10</td>\n",
       "      <td>10.227465</td>\n",
       "      <td>0</td>\n",
       "      <td>0</td>\n",
       "      <td>141.211998</td>\n",
       "      <td>Intel Core i5</td>\n",
       "      <td>1000.0</td>\n",
       "      <td>0</td>\n",
       "      <td>Nvidia</td>\n",
       "      <td>Others</td>\n",
       "    </tr>\n",
       "  </tbody>\n",
       "</table>\n",
       "</div>"
      ],
      "text/plain": [
       "       id Company  TypeName  Ram  Weight      Price  TouchScreen  Ips  \\\n",
       "217   431  Lenovo  Notebook    8    1.40  10.893267            0    1   \n",
       "223   632  Lenovo  Notebook    4    1.80  10.695781            0    0   \n",
       "767   764    Dell  Notebook    4    1.65  10.719620            0    0   \n",
       "786  1084    Dell  Notebook    8    2.18  10.595634            0    0   \n",
       "776   832    Asus  Notebook    4    2.10  10.227465            0    0   \n",
       "\n",
       "            Ppi      Cpu_brand     HDD  SSD Gpu_brand       Os  \n",
       "217  165.632118  Intel Core i7     0.0  256     Intel  Windows  \n",
       "223  141.211998  Intel Core i5     0.0  256     Intel  Windows  \n",
       "767  117.826530  Intel Core i3   500.0    0     Intel  Windows  \n",
       "786  141.211998  Intel Core i5     0.0  256     Intel  Windows  \n",
       "776  141.211998  Intel Core i5  1000.0    0    Nvidia   Others  "
      ]
     },
     "execution_count": 5,
     "metadata": {},
     "output_type": "execute_result"
    }
   ],
   "source": [
    "df.sample(5)"
   ]
  },
  {
   "cell_type": "code",
   "execution_count": 6,
   "metadata": {},
   "outputs": [
    {
     "name": "stdout",
     "output_type": "stream",
     "text": [
      "<class 'pandas.core.frame.DataFrame'>\n",
      "RangeIndex: 1216 entries, 0 to 1215\n",
      "Data columns (total 14 columns):\n",
      " #   Column       Non-Null Count  Dtype  \n",
      "---  ------       --------------  -----  \n",
      " 0   id           1216 non-null   int64  \n",
      " 1   Company      1216 non-null   object \n",
      " 2   TypeName     1216 non-null   object \n",
      " 3   Ram          1216 non-null   int64  \n",
      " 4   Weight       1193 non-null   float64\n",
      " 5   Price        1201 non-null   float64\n",
      " 6   TouchScreen  1216 non-null   int64  \n",
      " 7   Ips          1216 non-null   int64  \n",
      " 8   Ppi          1204 non-null   float64\n",
      " 9   Cpu_brand    1216 non-null   object \n",
      " 10  HDD          1200 non-null   float64\n",
      " 11  SSD          1216 non-null   int64  \n",
      " 12  Gpu_brand    1216 non-null   object \n",
      " 13  Os           1216 non-null   object \n",
      "dtypes: float64(4), int64(5), object(5)\n",
      "memory usage: 133.1+ KB\n"
     ]
    }
   ],
   "source": [
    "df.info()"
   ]
  },
  {
   "cell_type": "code",
   "execution_count": 7,
   "metadata": {},
   "outputs": [
    {
     "data": {
      "text/html": [
       "<div>\n",
       "<style scoped>\n",
       "    .dataframe tbody tr th:only-of-type {\n",
       "        vertical-align: middle;\n",
       "    }\n",
       "\n",
       "    .dataframe tbody tr th {\n",
       "        vertical-align: top;\n",
       "    }\n",
       "\n",
       "    .dataframe thead th {\n",
       "        text-align: right;\n",
       "    }\n",
       "</style>\n",
       "<table border=\"1\" class=\"dataframe\">\n",
       "  <thead>\n",
       "    <tr style=\"text-align: right;\">\n",
       "      <th></th>\n",
       "      <th>id</th>\n",
       "      <th>Ram</th>\n",
       "      <th>Weight</th>\n",
       "      <th>Price</th>\n",
       "      <th>TouchScreen</th>\n",
       "      <th>Ips</th>\n",
       "      <th>Ppi</th>\n",
       "      <th>HDD</th>\n",
       "      <th>SSD</th>\n",
       "    </tr>\n",
       "  </thead>\n",
       "  <tbody>\n",
       "    <tr>\n",
       "      <th>count</th>\n",
       "      <td>1216.000000</td>\n",
       "      <td>1216.000000</td>\n",
       "      <td>1193.000000</td>\n",
       "      <td>1201.000000</td>\n",
       "      <td>1216.000000</td>\n",
       "      <td>1216.000000</td>\n",
       "      <td>1204.000000</td>\n",
       "      <td>1200.000000</td>\n",
       "      <td>1216.000000</td>\n",
       "    </tr>\n",
       "    <tr>\n",
       "      <th>mean</th>\n",
       "      <td>637.925164</td>\n",
       "      <td>8.458882</td>\n",
       "      <td>2.401572</td>\n",
       "      <td>13.114402</td>\n",
       "      <td>0.145559</td>\n",
       "      <td>0.285362</td>\n",
       "      <td>183.830716</td>\n",
       "      <td>441.218800</td>\n",
       "      <td>187.529605</td>\n",
       "    </tr>\n",
       "    <tr>\n",
       "      <th>std</th>\n",
       "      <td>367.482876</td>\n",
       "      <td>5.094332</td>\n",
       "      <td>4.844791</td>\n",
       "      <td>28.659102</td>\n",
       "      <td>0.352809</td>\n",
       "      <td>0.451772</td>\n",
       "      <td>449.708876</td>\n",
       "      <td>927.052855</td>\n",
       "      <td>186.902926</td>\n",
       "    </tr>\n",
       "    <tr>\n",
       "      <th>min</th>\n",
       "      <td>0.000000</td>\n",
       "      <td>2.000000</td>\n",
       "      <td>0.690000</td>\n",
       "      <td>9.134616</td>\n",
       "      <td>0.000000</td>\n",
       "      <td>0.000000</td>\n",
       "      <td>90.583402</td>\n",
       "      <td>0.000000</td>\n",
       "      <td>0.000000</td>\n",
       "    </tr>\n",
       "    <tr>\n",
       "      <th>25%</th>\n",
       "      <td>319.750000</td>\n",
       "      <td>4.000000</td>\n",
       "      <td>1.500000</td>\n",
       "      <td>10.403650</td>\n",
       "      <td>0.000000</td>\n",
       "      <td>0.000000</td>\n",
       "      <td>127.335675</td>\n",
       "      <td>0.000000</td>\n",
       "      <td>0.000000</td>\n",
       "    </tr>\n",
       "    <tr>\n",
       "      <th>50%</th>\n",
       "      <td>638.500000</td>\n",
       "      <td>8.000000</td>\n",
       "      <td>2.040000</td>\n",
       "      <td>10.882316</td>\n",
       "      <td>0.000000</td>\n",
       "      <td>0.000000</td>\n",
       "      <td>141.211998</td>\n",
       "      <td>0.000000</td>\n",
       "      <td>256.000000</td>\n",
       "    </tr>\n",
       "    <tr>\n",
       "      <th>75%</th>\n",
       "      <td>954.250000</td>\n",
       "      <td>8.000000</td>\n",
       "      <td>2.320000</td>\n",
       "      <td>11.288115</td>\n",
       "      <td>0.000000</td>\n",
       "      <td>1.000000</td>\n",
       "      <td>157.350512</td>\n",
       "      <td>1000.000000</td>\n",
       "      <td>256.000000</td>\n",
       "    </tr>\n",
       "    <tr>\n",
       "      <th>max</th>\n",
       "      <td>1272.000000</td>\n",
       "      <td>64.000000</td>\n",
       "      <td>97.729949</td>\n",
       "      <td>499.766079</td>\n",
       "      <td>1.000000</td>\n",
       "      <td>1.000000</td>\n",
       "      <td>7328.468865</td>\n",
       "      <td>24127.543112</td>\n",
       "      <td>1024.000000</td>\n",
       "    </tr>\n",
       "  </tbody>\n",
       "</table>\n",
       "</div>"
      ],
      "text/plain": [
       "                id          Ram       Weight        Price  TouchScreen  \\\n",
       "count  1216.000000  1216.000000  1193.000000  1201.000000  1216.000000   \n",
       "mean    637.925164     8.458882     2.401572    13.114402     0.145559   \n",
       "std     367.482876     5.094332     4.844791    28.659102     0.352809   \n",
       "min       0.000000     2.000000     0.690000     9.134616     0.000000   \n",
       "25%     319.750000     4.000000     1.500000    10.403650     0.000000   \n",
       "50%     638.500000     8.000000     2.040000    10.882316     0.000000   \n",
       "75%     954.250000     8.000000     2.320000    11.288115     0.000000   \n",
       "max    1272.000000    64.000000    97.729949   499.766079     1.000000   \n",
       "\n",
       "               Ips          Ppi           HDD          SSD  \n",
       "count  1216.000000  1204.000000   1200.000000  1216.000000  \n",
       "mean      0.285362   183.830716    441.218800   187.529605  \n",
       "std       0.451772   449.708876    927.052855   186.902926  \n",
       "min       0.000000    90.583402      0.000000     0.000000  \n",
       "25%       0.000000   127.335675      0.000000     0.000000  \n",
       "50%       0.000000   141.211998      0.000000   256.000000  \n",
       "75%       1.000000   157.350512   1000.000000   256.000000  \n",
       "max       1.000000  7328.468865  24127.543112  1024.000000  "
      ]
     },
     "execution_count": 7,
     "metadata": {},
     "output_type": "execute_result"
    }
   ],
   "source": [
    "df.describe()"
   ]
  },
  {
   "cell_type": "markdown",
   "metadata": {},
   "source": [
    "### Análisis de variables categoricas\n",
    "\n",
    "A continuación analizaremos las variables categóricas con el fin de encontrar si es necesario usarlas en nuestro modelo de regresión.En caso de seleccionar alguna variables categórica se tendra hacer uso de técnicas como Label Encoding o One Hot Encoding para pasar los valores categóricos a númericos, ya que el modelo solo recibe este tipo de datos."
   ]
  },
  {
   "cell_type": "code",
   "execution_count": 8,
   "metadata": {},
   "outputs": [
    {
     "data": {
      "image/png": "[encoded data removed]",
      "text/plain": [
       "<Figure size 864x432 with 1 Axes>"
      ]
     },
     "metadata": {
      "needs_background": "light"
     },
     "output_type": "display_data"
    }
   ],
   "source": [
    "plt.figure(figsize=(12, 6))\n",
    "sns.countplot(x='Gpu_brand', data=df)\n",
    "plt.show()"
   ]
  },
  {
   "cell_type": "code",
   "execution_count": 9,
   "metadata": {},
   "outputs": [
    {
     "data": {
      "image/png": "[encoded data removed]",
      "text/plain": [
       "<Figure size 1008x432 with 1 Axes>"
      ]
     },
     "metadata": {
      "needs_background": "light"
     },
     "output_type": "display_data"
    }
   ],
   "source": [
    "plt.figure(figsize=(14, 6))\n",
    "sns.countplot(x='Company', data=df)\n",
    "plt.show()"
   ]
  },
  {
   "cell_type": "code",
   "execution_count": 10,
   "metadata": {},
   "outputs": [
    {
     "data": {
      "image/png": "[encoded data removed]",
      "text/plain": [
       "<Figure size 1008x432 with 1 Axes>"
      ]
     },
     "metadata": {
      "needs_background": "light"
     },
     "output_type": "display_data"
    }
   ],
   "source": [
    "plt.figure(figsize=(14, 6))\n",
    "sns.countplot(x='TypeName', data=df)\n",
    "plt.show()"
   ]
  },
  {
   "cell_type": "code",
   "execution_count": 11,
   "metadata": {},
   "outputs": [
    {
     "data": {
      "image/png": "[encoded data removed]",
      "text/plain": [
       "<Figure size 720x432 with 1 Axes>"
      ]
     },
     "metadata": {
      "needs_background": "light"
     },
     "output_type": "display_data"
    }
   ],
   "source": [
    "plt.figure(figsize=(10, 6))\n",
    "sns.countplot(x='Os', data=df)\n",
    "plt.show()"
   ]
  },
  {
   "cell_type": "markdown",
   "metadata": {},
   "source": [
    "Anteriormente se mostraron gráficas para las 4 variables categoricas presentes `Company`, `TypeName`, `Os` y `Gpu_brand`. Todas a excepción de `Os` presentan errores de consistencia ya que hay nombres que son iguales pero con errores de tipografía.\n",
    "\n",
    "Al realizar un análisis detallado sobre estas 4 variables, como equipo consultor, tomamos la decisión de no usarlas para el modelo. El principal motivo es que no aportan valor a la estimación de la variable objetvio `Price`. La mejor forma de entender el por qué el impacto es tan bajo sería la siguiente, supongamos que los precios solo tienen tres categorias, bajo, medio y alto. Teniendo en cuenta lo anterior si examinamos `Company` veremos que casi todas las compañias presentan computadores con los tres rangos de precios. Lo mismo pasa si solo vemos el `TypeName`, `Os` y `Gpu_bran`, esto no ayuda a la estimación del target, por ende, llegamos a la decisión de prescindir de estas variables de entrada categóricas. "
   ]
  },
  {
   "cell_type": "markdown",
   "metadata": {},
   "source": [
    "### Análisis de variables númericas"
   ]
  },
  {
   "cell_type": "code",
   "execution_count": 12,
   "metadata": {},
   "outputs": [],
   "source": [
    "vars_numericas = ['Ram', 'Weight', 'Price', 'Ppi', 'HDD', 'SSD']"
   ]
  },
  {
   "cell_type": "code",
   "execution_count": 13,
   "metadata": {},
   "outputs": [
    {
     "data": {
      "image/png": "[encoded data removed]",
      "text/plain": [
       "<Figure size 1728x576 with 6 Axes>"
      ]
     },
     "metadata": {
      "needs_background": "light"
     },
     "output_type": "display_data"
    }
   ],
   "source": [
    "fig, axes = plt.subplots(ncols=len(vars_numericas), figsize=(24,8))\n",
    "for i, col in enumerate(vars_numericas):\n",
    "    ax = sns.boxplot(data=df[col], ax=axes[i])\n",
    "    ax.set_ylim(df[col].min(), df[col].max())\n",
    "    axes[i].set_xlabel(vars_numericas[i])\n",
    "plt.show()"
   ]
  },
  {
   "cell_type": "code",
   "execution_count": 14,
   "metadata": {},
   "outputs": [
    {
     "data": {
      "text/plain": [
       "<AxesSubplot:>"
      ]
     },
     "execution_count": 14,
     "metadata": {},
     "output_type": "execute_result"
    },
    {
     "data": {
      "image/png": "[encoded data removed]",
      "text/plain": [
       "<Figure size 864x720 with 2 Axes>"
      ]
     },
     "metadata": {
      "needs_background": "light"
     },
     "output_type": "display_data"
    }
   ],
   "source": [
    "plt.figure(figsize = (12, 10))\n",
    "sns.heatmap(df.drop(['Price'], axis=1).corr(), annot=True, cmap = 'vlag', vmin = -1, vmax = 1)"
   ]
  },
  {
   "cell_type": "markdown",
   "metadata": {},
   "source": [
    "Por un lado tenemos un boxplot ajustado con los diferentes ejes en y de las diferentes variables númericas (se exceptuaron `Ips` y `TouchScreen` debido a que son binarias). Esto nos permite inspeccionar con más detalle valores atípicos y outliers. Podemos observar que todas las variables numéricas presentan outliers, sin embargo, algunas presentan outliers más preocupantes que otros. Este es el caso de `Price`, `Weight` y `Ppi`, ya que en estas los outliers son valores tan altos que ni siquiera se aprecia la diferencia entre los valores de los cuartiles bajos y altos.\n",
    "\n",
    "Por otra parte exploramos las variables numéricas (exceptuando `Price` ya que esta es el target) haciendo uso de un heatmap, esto con el intención de ver la correlación entre las variables, además de cerciorarnos de que no haya una fuerte correlación entre alguna de ellas. Al revisar con detalle confirmamos que no hay ninguna correlación mayor a 0.8 (de lo contrario esta variable se debería ser eliminada, ya que [una alta correlación afecta el modelo](https://towardsdatascience.com/why-exclude-highly-correlated-features-when-building-regression-model-34d77a90ea8e) ) "
   ]
  },
  {
   "cell_type": "markdown",
   "metadata": {},
   "source": [
    "### 1.2 Seleccion de features \n",
    "\n",
    "Para entrenar un modelo de regresión todas las variables de entrada (features) deben ser numéricas. Para el primer modelo que vamos a construir nuestras features seran todas las variables númericas con las que contamos a excepción de `id` debido a que esta no aporta valor para la construcción del modelo. Todo lo anterior debido a que consideramos que cada una de estas son importantes para la estimación de la variable objetivo (target) `Price`.\n",
    "\n",
    "Adicionalmente, como equipo analizamos y concluimios que no le aporta mucho al modelo planeado realizar una conversión de variables categóricas a numéricas para `Company`, `TypeName`, `OS` y `Gpu_brand` (esta decisión se analizó con más detalle en la sección 1.1). Por otro lado están las varibales `Ips` y `TouchScreen`, estas en realidad se tratan como categóricas aunque en el dataset que se nos da vengan como numéricas (con valores de 0 o 1). Sin embargo, el motivo por el cual se decidió incluir estas dos variables dentro de las features, a pesar de ser booleanas, es que consideramos que ambas influyen directamente en el precio de un computador."
   ]
  },
  {
   "cell_type": "code",
   "execution_count": 15,
   "metadata": {},
   "outputs": [],
   "source": [
    "features = ['Ram', 'Weight', 'SSD','TouchScreen','Ips','HDD','Ppi']"
   ]
  },
  {
   "cell_type": "code",
   "execution_count": 16,
   "metadata": {},
   "outputs": [
    {
     "data": {
      "text/plain": [
       "<seaborn.axisgrid.PairGrid at 0x2b4805390a0>"
      ]
     },
     "execution_count": 16,
     "metadata": {},
     "output_type": "execute_result"
    },
    {
     "data": {
      "image/png": "[encoded data removed]",
      "text/plain": [
       "<Figure size 2016x288 with 7 Axes>"
      ]
     },
     "metadata": {
      "needs_background": "light"
     },
     "output_type": "display_data"
    }
   ],
   "source": [
    "sns.pairplot(df, height = 4, y_vars = 'Price', x_vars = features, kind = 'scatter')"
   ]
  },
  {
   "cell_type": "markdown",
   "metadata": {},
   "source": [
    "### 1.3 Análisis de calidad de datos\n",
    "\n",
    "Es importante recalcar que este análisis se hará solo con las features y la variable objetivo ya que estas son las que nos interesan para construir el modelo. Las demás variables no se tendrán en cuenta."
   ]
  },
  {
   "cell_type": "markdown",
   "metadata": {},
   "source": [
    "### 1.3.1 Completitud"
   ]
  },
  {
   "cell_type": "code",
   "execution_count": 17,
   "metadata": {},
   "outputs": [
    {
     "data": {
      "text/plain": [
       "Price          0.012336\n",
       "Ram            0.000000\n",
       "Weight         0.018914\n",
       "SSD            0.000000\n",
       "TouchScreen    0.000000\n",
       "Ips            0.000000\n",
       "HDD            0.013158\n",
       "Ppi            0.009868\n",
       "dtype: float64"
      ]
     },
     "execution_count": 17,
     "metadata": {},
     "output_type": "execute_result"
    }
   ],
   "source": [
    "df[['Price'] + features].isnull().sum() / df.shape[0]"
   ]
  },
  {
   "cell_type": "markdown",
   "metadata": {},
   "source": [
    "Los datos con los que trabajaremos presentan bajo procentaje de valores nulos, lo cual implica buen grado de completitud"
   ]
  },
  {
   "cell_type": "markdown",
   "metadata": {},
   "source": [
    "### 1.3.2 Unicidad"
   ]
  },
  {
   "cell_type": "code",
   "execution_count": 18,
   "metadata": {},
   "outputs": [
    {
     "data": {
      "text/html": [
       "<div>\n",
       "<style scoped>\n",
       "    .dataframe tbody tr th:only-of-type {\n",
       "        vertical-align: middle;\n",
       "    }\n",
       "\n",
       "    .dataframe tbody tr th {\n",
       "        vertical-align: top;\n",
       "    }\n",
       "\n",
       "    .dataframe thead th {\n",
       "        text-align: right;\n",
       "    }\n",
       "</style>\n",
       "<table border=\"1\" class=\"dataframe\">\n",
       "  <thead>\n",
       "    <tr style=\"text-align: right;\">\n",
       "      <th></th>\n",
       "      <th>id</th>\n",
       "      <th>Company</th>\n",
       "      <th>TypeName</th>\n",
       "      <th>Ram</th>\n",
       "      <th>Weight</th>\n",
       "      <th>Price</th>\n",
       "      <th>TouchScreen</th>\n",
       "      <th>Ips</th>\n",
       "      <th>Ppi</th>\n",
       "      <th>Cpu_brand</th>\n",
       "      <th>HDD</th>\n",
       "      <th>SSD</th>\n",
       "      <th>Gpu_brand</th>\n",
       "      <th>Os</th>\n",
       "    </tr>\n",
       "  </thead>\n",
       "  <tbody>\n",
       "    <tr>\n",
       "      <th>546</th>\n",
       "      <td>1126</td>\n",
       "      <td>Lenovo</td>\n",
       "      <td>2 in 1 Convertible</td>\n",
       "      <td>4</td>\n",
       "      <td>0.690</td>\n",
       "      <td>10.147262</td>\n",
       "      <td>1</td>\n",
       "      <td>1</td>\n",
       "      <td>224.173809</td>\n",
       "      <td>Other Intel Processor</td>\n",
       "      <td>0.0</td>\n",
       "      <td>0</td>\n",
       "      <td>Intel</td>\n",
       "      <td>Windows</td>\n",
       "    </tr>\n",
       "    <tr>\n",
       "      <th>930</th>\n",
       "      <td>1082</td>\n",
       "      <td>Lenovo</td>\n",
       "      <td>&amp;&amp;2 in 1 Convertible</td>\n",
       "      <td>4</td>\n",
       "      <td>0.690</td>\n",
       "      <td>10.446778</td>\n",
       "      <td>1</td>\n",
       "      <td>1</td>\n",
       "      <td>224.173809</td>\n",
       "      <td>Other Intel Processor</td>\n",
       "      <td>0.0</td>\n",
       "      <td>0</td>\n",
       "      <td>Intel</td>\n",
       "      <td>Windows</td>\n",
       "    </tr>\n",
       "    <tr>\n",
       "      <th>181</th>\n",
       "      <td>959</td>\n",
       "      <td>Acer</td>\n",
       "      <td>2 in 1 Convertible</td>\n",
       "      <td>4</td>\n",
       "      <td>1.250</td>\n",
       "      <td>9.939140</td>\n",
       "      <td>1</td>\n",
       "      <td>1</td>\n",
       "      <td>135.094211</td>\n",
       "      <td>Other Intel Processor</td>\n",
       "      <td>0.0</td>\n",
       "      <td>0</td>\n",
       "      <td>Intel</td>\n",
       "      <td>Others</td>\n",
       "    </tr>\n",
       "    <tr>\n",
       "      <th>1016</th>\n",
       "      <td>619</td>\n",
       "      <td>Acer</td>\n",
       "      <td>2 in 1 Convertible</td>\n",
       "      <td>4</td>\n",
       "      <td>1.250</td>\n",
       "      <td>9.913097</td>\n",
       "      <td>1</td>\n",
       "      <td>1</td>\n",
       "      <td>135.094211</td>\n",
       "      <td>Other Intel Processor</td>\n",
       "      <td>0.0</td>\n",
       "      <td>0</td>\n",
       "      <td>Intel</td>\n",
       "      <td>Others</td>\n",
       "    </tr>\n",
       "    <tr>\n",
       "      <th>373</th>\n",
       "      <td>457</td>\n",
       "      <td>Microsoft</td>\n",
       "      <td>Ultrabook</td>\n",
       "      <td>4</td>\n",
       "      <td>1.252</td>\n",
       "      <td>10.872255</td>\n",
       "      <td>1</td>\n",
       "      <td>0</td>\n",
       "      <td>200.842560</td>\n",
       "      <td>Other Intel Processor</td>\n",
       "      <td>0.0</td>\n",
       "      <td>128</td>\n",
       "      <td>Intel</td>\n",
       "      <td>Windows</td>\n",
       "    </tr>\n",
       "    <tr>\n",
       "      <th>502</th>\n",
       "      <td>70</td>\n",
       "      <td>Microsoft</td>\n",
       "      <td>Ultrabook</td>\n",
       "      <td>4</td>\n",
       "      <td>1.252</td>\n",
       "      <td>10.968576</td>\n",
       "      <td>1</td>\n",
       "      <td>0</td>\n",
       "      <td>200.842560</td>\n",
       "      <td>Intel Core i5</td>\n",
       "      <td>0.0</td>\n",
       "      <td>128</td>\n",
       "      <td>Intel</td>\n",
       "      <td>Windows</td>\n",
       "    </tr>\n",
       "  </tbody>\n",
       "</table>\n",
       "</div>"
      ],
      "text/plain": [
       "        id    Company              TypeName  Ram  Weight      Price  \\\n",
       "546   1126     Lenovo    2 in 1 Convertible    4   0.690  10.147262   \n",
       "930   1082     Lenovo  &&2 in 1 Convertible    4   0.690  10.446778   \n",
       "181    959       Acer    2 in 1 Convertible    4   1.250   9.939140   \n",
       "1016   619       Acer    2 in 1 Convertible    4   1.250   9.913097   \n",
       "373    457  Microsoft             Ultrabook    4   1.252  10.872255   \n",
       "502     70  Microsoft             Ultrabook    4   1.252  10.968576   \n",
       "\n",
       "      TouchScreen  Ips         Ppi              Cpu_brand  HDD  SSD Gpu_brand  \\\n",
       "546             1    1  224.173809  Other Intel Processor  0.0    0     Intel   \n",
       "930             1    1  224.173809  Other Intel Processor  0.0    0     Intel   \n",
       "181             1    1  135.094211  Other Intel Processor  0.0    0     Intel   \n",
       "1016            1    1  135.094211  Other Intel Processor  0.0    0     Intel   \n",
       "373             1    0  200.842560  Other Intel Processor  0.0  128     Intel   \n",
       "502             1    0  200.842560          Intel Core i5  0.0  128     Intel   \n",
       "\n",
       "           Os  \n",
       "546   Windows  \n",
       "930   Windows  \n",
       "181    Others  \n",
       "1016   Others  \n",
       "373   Windows  \n",
       "502   Windows  "
      ]
     },
     "execution_count": 18,
     "metadata": {},
     "output_type": "execute_result"
    }
   ],
   "source": [
    "df.loc[df.duplicated(subset=features, keep=False)].sort_values(by=features).head(6)"
   ]
  },
  {
   "cell_type": "code",
   "execution_count": 19,
   "metadata": {},
   "outputs": [
    {
     "data": {
      "text/plain": [
       "542"
      ]
     },
     "execution_count": 19,
     "metadata": {},
     "output_type": "execute_result"
    }
   ],
   "source": [
    "duplicated_rows = df.loc[df.duplicated(subset = features, keep = False)].shape[0]\n",
    "duplicated_rows"
   ]
  },
  {
   "cell_type": "code",
   "execution_count": 20,
   "metadata": {},
   "outputs": [
    {
     "name": "stdout",
     "output_type": "stream",
     "text": [
      "Duplicates %: 44.57236842105263\n"
     ]
    }
   ],
   "source": [
    "print('Duplicates %:', (duplicated_rows / df.shape[0])*100)"
   ]
  },
  {
   "cell_type": "code",
   "execution_count": 21,
   "metadata": {},
   "outputs": [
    {
     "data": {
      "text/html": [
       "<div>\n",
       "<style scoped>\n",
       "    .dataframe tbody tr th:only-of-type {\n",
       "        vertical-align: middle;\n",
       "    }\n",
       "\n",
       "    .dataframe tbody tr th {\n",
       "        vertical-align: top;\n",
       "    }\n",
       "\n",
       "    .dataframe thead th {\n",
       "        text-align: right;\n",
       "    }\n",
       "</style>\n",
       "<table border=\"1\" class=\"dataframe\">\n",
       "  <thead>\n",
       "    <tr style=\"text-align: right;\">\n",
       "      <th></th>\n",
       "      <th>id</th>\n",
       "      <th>Company</th>\n",
       "      <th>TypeName</th>\n",
       "      <th>Ram</th>\n",
       "      <th>Weight</th>\n",
       "      <th>Price</th>\n",
       "      <th>TouchScreen</th>\n",
       "      <th>Ips</th>\n",
       "      <th>Ppi</th>\n",
       "      <th>Cpu_brand</th>\n",
       "      <th>HDD</th>\n",
       "      <th>SSD</th>\n",
       "      <th>Gpu_brand</th>\n",
       "      <th>Os</th>\n",
       "    </tr>\n",
       "  </thead>\n",
       "  <tbody>\n",
       "    <tr>\n",
       "      <th>128</th>\n",
       "      <td>645</td>\n",
       "      <td>Lenovo</td>\n",
       "      <td>Notebook</td>\n",
       "      <td>4</td>\n",
       "      <td>1.43</td>\n",
       "      <td>9.588689</td>\n",
       "      <td>0</td>\n",
       "      <td>0</td>\n",
       "      <td>111.935204</td>\n",
       "      <td>Other Intel Processor</td>\n",
       "      <td>0.0</td>\n",
       "      <td>0</td>\n",
       "      <td>Intel</td>\n",
       "      <td>Windows</td>\n",
       "    </tr>\n",
       "    <tr>\n",
       "      <th>1096</th>\n",
       "      <td>645</td>\n",
       "      <td>Lenovo</td>\n",
       "      <td>Notebook</td>\n",
       "      <td>4</td>\n",
       "      <td>1.43</td>\n",
       "      <td>9.588689</td>\n",
       "      <td>0</td>\n",
       "      <td>0</td>\n",
       "      <td>111.935204</td>\n",
       "      <td>Other Intel Processor</td>\n",
       "      <td>0.0</td>\n",
       "      <td>0</td>\n",
       "      <td>Intel</td>\n",
       "      <td>Windows</td>\n",
       "    </tr>\n",
       "    <tr>\n",
       "      <th>395</th>\n",
       "      <td>212</td>\n",
       "      <td>HP</td>\n",
       "      <td>Notebook</td>\n",
       "      <td>4</td>\n",
       "      <td>2.10</td>\n",
       "      <td>9.830633</td>\n",
       "      <td>0</td>\n",
       "      <td>0</td>\n",
       "      <td>141.211998</td>\n",
       "      <td>Intel Core i3</td>\n",
       "      <td>500.0</td>\n",
       "      <td>0</td>\n",
       "      <td>Intel</td>\n",
       "      <td>Others</td>\n",
       "    </tr>\n",
       "    <tr>\n",
       "      <th>999</th>\n",
       "      <td>101</td>\n",
       "      <td>HP</td>\n",
       "      <td>Notebook</td>\n",
       "      <td>4</td>\n",
       "      <td>2.10</td>\n",
       "      <td>9.830633</td>\n",
       "      <td>0</td>\n",
       "      <td>0</td>\n",
       "      <td>141.211998</td>\n",
       "      <td>AMD Processor</td>\n",
       "      <td>500.0</td>\n",
       "      <td>0</td>\n",
       "      <td>AMD</td>\n",
       "      <td>Windows</td>\n",
       "    </tr>\n",
       "    <tr>\n",
       "      <th>422</th>\n",
       "      <td>884</td>\n",
       "      <td>Dell</td>\n",
       "      <td>&amp;&amp;Notebook</td>\n",
       "      <td>4</td>\n",
       "      <td>2.20</td>\n",
       "      <td>9.886358</td>\n",
       "      <td>0</td>\n",
       "      <td>0</td>\n",
       "      <td>100.454670</td>\n",
       "      <td>Other Intel Processor</td>\n",
       "      <td>500.0</td>\n",
       "      <td>0</td>\n",
       "      <td>Intel</td>\n",
       "      <td>Windows</td>\n",
       "    </tr>\n",
       "    <tr>\n",
       "      <th>622</th>\n",
       "      <td>1172</td>\n",
       "      <td>Asus</td>\n",
       "      <td>Notebook</td>\n",
       "      <td>4</td>\n",
       "      <td>2.20</td>\n",
       "      <td>9.886358</td>\n",
       "      <td>0</td>\n",
       "      <td>0</td>\n",
       "      <td>100.454670</td>\n",
       "      <td>Other Intel Processor</td>\n",
       "      <td>500.0</td>\n",
       "      <td>0</td>\n",
       "      <td>Intel</td>\n",
       "      <td>Windows</td>\n",
       "    </tr>\n",
       "  </tbody>\n",
       "</table>\n",
       "</div>"
      ],
      "text/plain": [
       "        id Company    TypeName  Ram  Weight     Price  TouchScreen  Ips  \\\n",
       "128    645  Lenovo    Notebook    4    1.43  9.588689            0    0   \n",
       "1096   645  Lenovo    Notebook    4    1.43  9.588689            0    0   \n",
       "395    212      HP    Notebook    4    2.10  9.830633            0    0   \n",
       "999    101      HP    Notebook    4    2.10  9.830633            0    0   \n",
       "422    884    Dell  &&Notebook    4    2.20  9.886358            0    0   \n",
       "622   1172    Asus    Notebook    4    2.20  9.886358            0    0   \n",
       "\n",
       "             Ppi              Cpu_brand    HDD  SSD Gpu_brand       Os  \n",
       "128   111.935204  Other Intel Processor    0.0    0     Intel  Windows  \n",
       "1096  111.935204  Other Intel Processor    0.0    0     Intel  Windows  \n",
       "395   141.211998          Intel Core i3  500.0    0     Intel   Others  \n",
       "999   141.211998          AMD Processor  500.0    0       AMD  Windows  \n",
       "422   100.454670  Other Intel Processor  500.0    0     Intel  Windows  \n",
       "622   100.454670  Other Intel Processor  500.0    0     Intel  Windows  "
      ]
     },
     "execution_count": 21,
     "metadata": {},
     "output_type": "execute_result"
    }
   ],
   "source": [
    "df.loc[df.duplicated(subset = features+['Price'], keep = False)].sort_values(by=features).head(6)"
   ]
  },
  {
   "cell_type": "code",
   "execution_count": 22,
   "metadata": {},
   "outputs": [
    {
     "data": {
      "text/plain": [
       "20"
      ]
     },
     "execution_count": 22,
     "metadata": {},
     "output_type": "execute_result"
    }
   ],
   "source": [
    "duplicated_rows = df.loc[df.duplicated(subset = features + ['Price'], keep = False)].shape[0]\n",
    "duplicated_rows"
   ]
  },
  {
   "cell_type": "code",
   "execution_count": 23,
   "metadata": {},
   "outputs": [
    {
     "name": "stdout",
     "output_type": "stream",
     "text": [
      "Duplicates %: 1.644736842105263\n"
     ]
    }
   ],
   "source": [
    "print('Duplicates %:', (duplicated_rows / df.shape[0])*100)"
   ]
  },
  {
   "cell_type": "markdown",
   "metadata": {},
   "source": [
    "Aquí hay dos escenarios a analizar:\n",
    "\n",
    "1. Existe un 44.6% de registros con variables de entrada duplicadas pero con variable objetivo diferente. Una cantidad un poco preocupante, por lo cual requeriría de un proceso complementario de limpieza de datos para evitar confundir al modelo al momento de aprender la función de estimación.\n",
    "\n",
    "2. Al incluir la variable objetivo dentro del análisis de duplicados, se obtiene el 1.6% registros duplicados adicionales. Para un porcentaje mayor esto representaría potencialmente otro problema obligando al algoritmo de optimización a enfocarse más en aquellos registros duplicados en lugar de ponderar todos los registros por igual.\n",
    "\n",
    "Evaluando la situación con mayor detalle, la mejor opción es limpiar estos duplicados en la fase de preparación, otra opción podría ser agregar más features pero el problema es que estamos usando todas la features númericas posibles. Para agregar más features se podrían pasar las 4 categoricas que anteriormente excluimos pero al revisar con mayor detalle, esto no ayudaría de mucho, ya que al revisar las tuplas que estan repetidas vemos que en la mayoría tambien se repiten los datos categoricos. Esto podría ser porque se tienen el mismo computador con las mismas especificaciones varias veces."
   ]
  },
  {
   "cell_type": "markdown",
   "metadata": {},
   "source": [
    "### 1.3.3 Consistencia"
   ]
  },
  {
   "cell_type": "code",
   "execution_count": 24,
   "metadata": {},
   "outputs": [
    {
     "data": {
      "image/png": "[encoded data removed]",
      "text/plain": [
       "<Figure size 1440x576 with 1 Axes>"
      ]
     },
     "metadata": {
      "needs_background": "light"
     },
     "output_type": "display_data"
    }
   ],
   "source": [
    "fig=plt.figure(figsize=(20,8))\n",
    "ax = sns.boxplot(data=df.Weight, orient=\"h\")"
   ]
  },
  {
   "cell_type": "code",
   "execution_count": 25,
   "metadata": {},
   "outputs": [
    {
     "data": {
      "image/png": "[encoded data removed]",
      "text/plain": [
       "<Figure size 1440x576 with 1 Axes>"
      ]
     },
     "metadata": {
      "needs_background": "light"
     },
     "output_type": "display_data"
    }
   ],
   "source": [
    "fig=plt.figure(figsize=(20,8))\n",
    "ax = sns.boxplot(data=df.Ppi, orient=\"h\")"
   ]
  },
  {
   "cell_type": "markdown",
   "metadata": {},
   "source": [
    "Al revisar con detalle los atributos `Weight` y `Ppi` encontramos inconsistencias:\n",
    "\n",
    "- `Weight`: en el diccinario no se indica que este atributo describe el peso del computador en kg. Al ver la gráfica de peso vemos que los outliers son computadores que pesan más de 40 kg lo cual no es posible\n",
    "\n",
    "- `Ppi`: este atributo representa los pixeles por pulgada de la pantalla del computador. Vemos que los outliers son valores mayores a 2000 ppi, y al realizar una investigación al respecto, nos dimos cuenta de que para una pantalla es muy díficl tener una cantidad mayor a 2000 ppi. Por esto somos muy escepticos con estos valores y consideramos que estos probablemente son errores debido a que se salen por mucho de [las medias comunes de las pantallas.](https://artegence.com/blog/ppi-the-final-unknown-parameter-of-a-devices-screen-quality/#:~:text=For%20modern%20laptops%3A%20~%20130%20PPI,%2F%20~%2080%20PPI%20(4K))"
   ]
  },
  {
   "cell_type": "markdown",
   "metadata": {},
   "source": [
    "### 1.3.4 Validez\n",
    "\n",
    "Al examinar los datos proporcionados por la empresa vemos que estos son muy validos aunque hay varias cosas por mejorar. Hay que tener cuidado con los outliers y hay que corregir los errores mencionados anteriormente de consistencia y unicidad. Todo esto se hara en la fase de preparación de datos buscando tener todo listo para arrancar con la creación del modelo"
   ]
  },
  {
   "cell_type": "markdown",
   "metadata": {},
   "source": [
    "## 2. Preparación de datos"
   ]
  },
  {
   "cell_type": "code",
   "execution_count": 26,
   "metadata": {},
   "outputs": [
    {
     "data": {
      "text/plain": [
       "(1216, 14)"
      ]
     },
     "execution_count": 26,
     "metadata": {},
     "output_type": "execute_result"
    }
   ],
   "source": [
    "df.shape"
   ]
  },
  {
   "cell_type": "code",
   "execution_count": 27,
   "metadata": {},
   "outputs": [],
   "source": [
    "df = df.dropna(subset = ['Price'] + features)"
   ]
  },
  {
   "cell_type": "code",
   "execution_count": 28,
   "metadata": {},
   "outputs": [
    {
     "data": {
      "text/plain": [
       "(1170, 14)"
      ]
     },
     "execution_count": 28,
     "metadata": {},
     "output_type": "execute_result"
    }
   ],
   "source": [
    "df.shape"
   ]
  },
  {
   "cell_type": "code",
   "execution_count": 29,
   "metadata": {},
   "outputs": [
    {
     "data": {
      "text/plain": [
       "Price          0.0\n",
       "Ram            0.0\n",
       "Weight         0.0\n",
       "SSD            0.0\n",
       "TouchScreen    0.0\n",
       "Ips            0.0\n",
       "HDD            0.0\n",
       "Ppi            0.0\n",
       "dtype: float64"
      ]
     },
     "execution_count": 29,
     "metadata": {},
     "output_type": "execute_result"
    }
   ],
   "source": [
    "df[['Price'] + features].isnull().sum() / df.shape[0]"
   ]
  },
  {
   "cell_type": "code",
   "execution_count": 34,
   "metadata": {},
   "outputs": [
    {
     "name": "stderr",
     "output_type": "stream",
     "text": [
      "C:\\Users\\USER\\AppData\\Local\\Temp\\ipykernel_9584\\1425202420.py:1: SettingWithCopyWarning: \n",
      "A value is trying to be set on a copy of a slice from a DataFrame\n",
      "\n",
      "See the caveats in the documentation: https://pandas.pydata.org/pandas-docs/stable/user_guide/indexing.html#returning-a-view-versus-a-copy\n",
      "  df.drop_duplicates(subset=features, inplace=True)\n",
      "C:\\Users\\USER\\AppData\\Local\\Temp\\ipykernel_9584\\1425202420.py:2: SettingWithCopyWarning: \n",
      "A value is trying to be set on a copy of a slice from a DataFrame\n",
      "\n",
      "See the caveats in the documentation: https://pandas.pydata.org/pandas-docs/stable/user_guide/indexing.html#returning-a-view-versus-a-copy\n",
      "  df.drop_duplicates(subset=['Price'] + features, inplace=True)\n"
     ]
    }
   ],
   "source": [
    "df.drop_duplicates(subset=features, inplace=True)\n",
    "df.drop_duplicates(subset=['Price'] + features, inplace=True)"
   ]
  },
  {
   "cell_type": "code",
   "execution_count": 33,
   "metadata": {},
   "outputs": [
    {
     "data": {
      "text/plain": [
       "0"
      ]
     },
     "execution_count": 33,
     "metadata": {},
     "output_type": "execute_result"
    }
   ],
   "source": [
    "duplicated_rows = df.loc[df.duplicated(subset = features, keep = False)].shape[0]\n",
    "duplicated_rows"
   ]
  },
  {
   "cell_type": "markdown",
   "metadata": {},
   "source": [
    "## 3. Modelado"
   ]
  },
  {
   "cell_type": "markdown",
   "metadata": {},
   "source": [
    "### 3.1 Particionamiento del conjunto de datos en entrenamiento y prueba"
   ]
  },
  {
   "cell_type": "code",
   "execution_count": 487,
   "metadata": {},
   "outputs": [],
   "source": [
    "X_train, X_test, y_train, y_test = train_test_split(df[features],df['Price'], test_size=0.3, random_state=1)"
   ]
  },
  {
   "cell_type": "code",
   "execution_count": 488,
   "metadata": {},
   "outputs": [
    {
     "data": {
      "text/plain": [
       "((569, 7), (569,))"
      ]
     },
     "execution_count": 488,
     "metadata": {},
     "output_type": "execute_result"
    }
   ],
   "source": [
    "X_train.shape, y_train.shape"
   ]
  },
  {
   "cell_type": "code",
   "execution_count": 489,
   "metadata": {},
   "outputs": [
    {
     "data": {
      "text/plain": [
       "((244, 7), (244,))"
      ]
     },
     "execution_count": 489,
     "metadata": {},
     "output_type": "execute_result"
    }
   ],
   "source": [
    "X_test.shape, y_test.shape  "
   ]
  },
  {
   "cell_type": "markdown",
   "metadata": {},
   "source": [
    "### 3.2 Entrenamiento de un primer modelo de regresión lineal"
   ]
  },
  {
   "cell_type": "code",
   "execution_count": 490,
   "metadata": {},
   "outputs": [],
   "source": [
    "regression= LinearRegression()  "
   ]
  },
  {
   "cell_type": "code",
   "execution_count": 491,
   "metadata": {},
   "outputs": [
    {
     "data": {
      "text/plain": [
       "LinearRegression()"
      ]
     },
     "execution_count": 491,
     "metadata": {},
     "output_type": "execute_result"
    }
   ],
   "source": [
    "regression.fit(X_train, y_train)"
   ]
  },
  {
   "cell_type": "markdown",
   "metadata": {},
   "source": [
    "### 3.3 Interpretación de los coeficientes y del intercepto\n",
    "\n",
    "Antes de entrar en detalles con el análisis, vale la pena recordar la forma en la que esta dado el modelo de regresión lineal:\n",
    "\n",
    "$$ y = {\\beta_{0} + \\beta_{1}x_{1} + \\beta_{2}x_{2} + \\beta_{3}x_{3} + \\beta_{4}x_{4} + \\beta_{5}x_{5}} $$\n",
    "\n",
    "siendo $\\beta_{0}$ el intercepto (bias) y $\\beta_{1}$, $\\beta_{2}$, $\\beta_{3}$, $\\beta_{4}$ y $\\beta_{5}$ los coeficientes o parámetros correspondientes a las variables de entrada en el mismo orden."
   ]
  },
  {
   "cell_type": "code",
   "execution_count": 492,
   "metadata": {},
   "outputs": [
    {
     "data": {
      "text/html": [
       "<div>\n",
       "<style scoped>\n",
       "    .dataframe tbody tr th:only-of-type {\n",
       "        vertical-align: middle;\n",
       "    }\n",
       "\n",
       "    .dataframe tbody tr th {\n",
       "        vertical-align: top;\n",
       "    }\n",
       "\n",
       "    .dataframe thead th {\n",
       "        text-align: right;\n",
       "    }\n",
       "</style>\n",
       "<table border=\"1\" class=\"dataframe\">\n",
       "  <thead>\n",
       "    <tr style=\"text-align: right;\">\n",
       "      <th></th>\n",
       "      <th>features</th>\n",
       "      <th>coef</th>\n",
       "    </tr>\n",
       "  </thead>\n",
       "  <tbody>\n",
       "    <tr>\n",
       "      <th>0</th>\n",
       "      <td>Ram</td>\n",
       "      <td>0.039478</td>\n",
       "    </tr>\n",
       "    <tr>\n",
       "      <th>1</th>\n",
       "      <td>Weight</td>\n",
       "      <td>-0.017352</td>\n",
       "    </tr>\n",
       "    <tr>\n",
       "      <th>2</th>\n",
       "      <td>SSD</td>\n",
       "      <td>0.001269</td>\n",
       "    </tr>\n",
       "    <tr>\n",
       "      <th>3</th>\n",
       "      <td>TouchScreen</td>\n",
       "      <td>-0.708663</td>\n",
       "    </tr>\n",
       "    <tr>\n",
       "      <th>4</th>\n",
       "      <td>Ips</td>\n",
       "      <td>1.313501</td>\n",
       "    </tr>\n",
       "    <tr>\n",
       "      <th>5</th>\n",
       "      <td>HDD</td>\n",
       "      <td>-0.000523</td>\n",
       "    </tr>\n",
       "    <tr>\n",
       "      <th>6</th>\n",
       "      <td>Ppi</td>\n",
       "      <td>0.000062</td>\n",
       "    </tr>\n",
       "  </tbody>\n",
       "</table>\n",
       "</div>"
      ],
      "text/plain": [
       "      features      coef\n",
       "0          Ram  0.039478\n",
       "1       Weight -0.017352\n",
       "2          SSD  0.001269\n",
       "3  TouchScreen -0.708663\n",
       "4          Ips  1.313501\n",
       "5          HDD -0.000523\n",
       "6          Ppi  0.000062"
      ]
     },
     "execution_count": 492,
     "metadata": {},
     "output_type": "execute_result"
    }
   ],
   "source": [
    "pd.DataFrame({'features': features, 'coef': regression.coef_})  "
   ]
  },
  {
   "cell_type": "markdown",
   "metadata": {},
   "source": [
    "Revisar los coeficientes brindan una intuición del impacto o la fuerza de una variable de entrada en la estimación de la variable objetivo. En este caso vemos que `TouchScreen` y `Ips` resaltan sobre el resto de variables significativamente. Esto puede ser debido a que ambas tienen gran impacto a la hora de decidir el precio de un producto. Otra hipotesis es que ambos son los únicos que son binarios, esto implica que no tienen outliers,mientras que el resto de variables tiene outliers lo cual podría estar afectando el modelo"
   ]
  },
  {
   "cell_type": "code",
   "execution_count": 493,
   "metadata": {},
   "outputs": [
    {
     "data": {
      "text/plain": [
       "10.610608267227532"
      ]
     },
     "execution_count": 493,
     "metadata": {},
     "output_type": "execute_result"
    }
   ],
   "source": [
    "regression.intercept_"
   ]
  },
  {
   "cell_type": "markdown",
   "metadata": {},
   "source": [
    "En este caso no tiene sentido [interpretar el intercepto](https://www.statology.org/intercept-in-regression/)  $\\beta_{0}$ ya que este representa la respuesta cuando todas las variables de predición en el modelo son igual a 0. En nuestro caso no tiene mucho sentido ya que si suponemos que un computador tiene 0 en Ram, HHD o SSD, Ppi y en el resto de variables su precio no podría ser de 10.6k rupias. De todos modos, por más que no tenga sentido interpretarlo, este es crucial para realizar las predicciones de la variable objetivo"
   ]
  },
  {
   "cell_type": "code",
   "execution_count": 494,
   "metadata": {},
   "outputs": [
    {
     "data": {
      "image/png": "[encoded data removed]",
      "text/plain": [
       "<Figure size 1440x288 with 7 Axes>"
      ]
     },
     "metadata": {
      "needs_background": "light"
     },
     "output_type": "display_data"
    }
   ],
   "source": [
    "f, axs = plt.subplots(1, len(features), sharey=True, figsize=(20, 4))\n",
    "\n",
    "for i in range(len(features)):\n",
    "    col = features[i]\n",
    "    x = X_train[col]\n",
    "    m = regression.coef_[i]\n",
    "    b = regression.intercept_\n",
    "\n",
    "    axs[i].plot(x, y_train, \"o\", alpha=0.1)\n",
    "    axs[i].plot(x, x * m + b)\n",
    "    axs[i].set_title(col)"
   ]
  },
  {
   "cell_type": "markdown",
   "metadata": {},
   "source": [
    "Cabe aclarar que por más de que `TouchScreen` y `Ips` aparentemente tengan mayor impacto sobre la estimación de la variable objetivo, esto no es 100% seguro. Esto se debe a que las variables de entrada no se encuentran en la misma escala, rangos o grados de magnitud. Debido a esto, las magnitudes o valores de los coeficientes no son directamente comparables entre sí, es decir, no es posible afirmar que `TouchScreen` tiene mayor impacto que `Ram` o `Weight` sobre la variable objetivo. Aunque si se podría afirmar que `Weight` tiene un impacto negativo en la estimación   "
   ]
  },
  {
   "cell_type": "markdown",
   "metadata": {},
   "source": [
    "## 4. Evaluación cuantitativa\n"
   ]
  },
  {
   "cell_type": "markdown",
   "metadata": {},
   "source": [
    "### 4.1 Métricas para evaluar el modelo "
   ]
  },
  {
   "cell_type": "markdown",
   "metadata": {},
   "source": [
    "**R-squared** ($R^2$)\n",
    "$$ R^2 = {\\sum_{i=1}^n {(y_{i} - y_{i}')}^2 \\over \\sum_{i=1}^n {(y_{i} - y')}^2} $$\n",
    "\n",
    "El $R^2$ nos permite medir que tanta variabilidad in la variable dependiente pude ser explicada por el modelo. El valor de esta es de 0 a 1 y entre más alto indica que el fit entre la predicción y el valor actual es mejor. Esta métrica nos va a permitir determinar que tan bien el modelo hace fit de las variables dependientes, aunque hay que tener en cuenta que esta métrica no toma en consideración el problema de overfitting"
   ]
  },
  {
   "cell_type": "code",
   "execution_count": 495,
   "metadata": {},
   "outputs": [
    {
     "name": "stdout",
     "output_type": "stream",
     "text": [
      "Train: 0.009524309195093394\n",
      "Test: -0.00048375179107518207\n"
     ]
    }
   ],
   "source": [
    "print(\"Train:\", r2_score(y_train, regression.predict(X_train)))\n",
    "print(\"Test:\", r2_score(y_test, regression.predict(X_test)))"
   ]
  },
  {
   "cell_type": "markdown",
   "metadata": {},
   "source": [
    "**Mean Absolute Error (MAE)**\n",
    "$$ MAE = {1 \\over n}{\\sum_{i=1}^n {|y_{i} - y_{i}'|} } $$\n",
    "\n",
    "El MAE trata todos los errores igual y es bueno para comparar el desempeño de nuestro modelo con otros modelos."
   ]
  },
  {
   "cell_type": "code",
   "execution_count": 496,
   "metadata": {},
   "outputs": [
    {
     "name": "stdout",
     "output_type": "stream",
     "text": [
      "Train: 1.055848556033859\n",
      "Test: 4.375334905787383\n"
     ]
    }
   ],
   "source": [
    "print(\"Train:\", mean_absolute_error(y_train, regression.predict(X_train)))\n",
    "print(\"Test:\", mean_absolute_error(y_test, regression.predict(X_test)))"
   ]
  },
  {
   "cell_type": "markdown",
   "metadata": {},
   "source": [
    "**Root Mean Squeared Error (RMSE)**\n",
    "$$ RMSE = {1 \\over n}{\\sum_{i=1}^n {(y_{i} - y_{i}')^2} } $$\n",
    "\n",
    "El RMSE a diferencia del MAE castiga de forma más dura predicciones con mayor error, esto implica que si se tienen muchos outliers en nuestro modelo estos tendran una mayor penalización que los otros. Esta metrica tambien es muy usada para comparar el desempeño entre diferentes modelos"
   ]
  },
  {
   "cell_type": "code",
   "execution_count": 497,
   "metadata": {},
   "outputs": [
    {
     "name": "stdout",
     "output_type": "stream",
     "text": [
      "Train: 8.83263273220091\n",
      "Test: 40.58846061400504\n"
     ]
    }
   ],
   "source": [
    "print(\"Train:\", np.sqrt(mean_squared_error(y_train, regression.predict(X_train))))\n",
    "print(\"Test:\", np.sqrt(mean_squared_error(y_test, regression.predict(X_test))))"
   ]
  },
  {
   "cell_type": "markdown",
   "metadata": {},
   "source": [
    "### 4.2 Análisis del error"
   ]
  },
  {
   "cell_type": "code",
   "execution_count": 498,
   "metadata": {},
   "outputs": [
    {
     "data": {
      "image/png": "[encoded data removed]",
      "text/plain": [
       "<Figure size 1440x216 with 1 Axes>"
      ]
     },
     "metadata": {
      "needs_background": "light"
     },
     "output_type": "display_data"
    }
   ],
   "source": [
    "plt.figure(figsize=(20, 3))\n",
    "sns.boxplot(x=y_test, showmeans=True, orient=\"h\")\n",
    "plt.title(\"Valor real de $\\t{Price}$ en el conjunto de prueba\")\n",
    "plt.grid()\n",
    "plt.show()"
   ]
  },
  {
   "cell_type": "code",
   "execution_count": 499,
   "metadata": {},
   "outputs": [
    {
     "data": {
      "text/plain": [
       "count    244.000000\n",
       "mean      14.577525\n",
       "std       40.662056\n",
       "min        9.268866\n",
       "25%       10.525212\n",
       "50%       10.943206\n",
       "75%       11.303603\n",
       "99%       12.382475\n",
       "max      499.766079\n",
       "Name: Price, dtype: float64"
      ]
     },
     "execution_count": 499,
     "metadata": {},
     "output_type": "execute_result"
    }
   ],
   "source": [
    "y_test.describe(percentiles=[0.25, 0.5, 0.75, 0.99])"
   ]
  },
  {
   "cell_type": "markdown",
   "metadata": {},
   "source": [
    "- ¿Su equipo recomienda utlizar en producción el modelo de estimación de precios de portátiles o es preferible continuar haciendo estimaciones de forma manual?\n",
    "\n",
    "Con el modelo actual no recomendamos que se use para la estimación de precios ya que de momento puede ser más fiable hacer las estimaciones de manera manual. Esto se debe a que el error en las estimaciones es alto. Primero al revisar el $R^2$ vemos que llega a ser negativo lo cual implica que la linea no esta haciendo un fit correcto de los datos, el MAE es decente pero al ver el RMSE y ver que a diferencia del MAE los valores son altos, nos indica que hay outliers.\n",
    "\n",
    "- ¿Qué recomendaciones haría para continuar iterando con el objetivo de la construcción de un mejor modelo?\n",
    "\n",
    "Como se empezaba a intuir en la pregunta anterior al analizar el $R^2$, el MAE y el RMSE, una de las fallas más grandes en el modelo podría ser que hay outliers con cantidades desproporcionadas, la cuales afectan el modelo. Estos outliers se habían mencionado cuando se realizó el perfilamiento de datos. Ahora que vemos que estos outliers podian ser la causa del bajo desempeño de este primer modelo, vamos a iterar y hacer otro modelo en donde pongamos a prueba este supuesto"
   ]
  },
  {
   "cell_type": "markdown",
   "metadata": {},
   "source": [
    "## 5. Evaluación cualitativa"
   ]
  },
  {
   "cell_type": "markdown",
   "metadata": {},
   "source": [
    "### 5.1 Validación de supuestos\n",
    "\n",
    "Al final de la sección 4 se llegó a la conclusión de que uno de los principales defectos en la construcción del primer modelo fue el no quitar todos los outliers. En la sección 1.3.3 se evaluó bien el tema de outliers para las variables `Weight` y `Ppi`, en donde miramos a fondo y vimos que no eran true outliers sino inconsistencias de los datos. Pero adicional a estos outliers, vamos a eliminar outliers en el precio ya que en este tambien hay algunas inconsistencias las cuales no se han estudiado a detalle"
   ]
  },
  {
   "cell_type": "code",
   "execution_count": 511,
   "metadata": {},
   "outputs": [
    {
     "data": {
      "text/plain": [
       "count    813.000000\n",
       "mean      12.266245\n",
       "std       23.500784\n",
       "min        9.134616\n",
       "25%       10.466285\n",
       "50%       10.964896\n",
       "75%       11.395541\n",
       "max      499.766079\n",
       "Name: Price, dtype: float64"
      ]
     },
     "execution_count": 511,
     "metadata": {},
     "output_type": "execute_result"
    }
   ],
   "source": [
    "df.Price.describe()"
   ]
  },
  {
   "cell_type": "code",
   "execution_count": 514,
   "metadata": {},
   "outputs": [
    {
     "data": {
      "text/html": [
       "<div>\n",
       "<style scoped>\n",
       "    .dataframe tbody tr th:only-of-type {\n",
       "        vertical-align: middle;\n",
       "    }\n",
       "\n",
       "    .dataframe tbody tr th {\n",
       "        vertical-align: top;\n",
       "    }\n",
       "\n",
       "    .dataframe thead th {\n",
       "        text-align: right;\n",
       "    }\n",
       "</style>\n",
       "<table border=\"1\" class=\"dataframe\">\n",
       "  <thead>\n",
       "    <tr style=\"text-align: right;\">\n",
       "      <th></th>\n",
       "      <th>id</th>\n",
       "      <th>Company</th>\n",
       "      <th>TypeName</th>\n",
       "      <th>Ram</th>\n",
       "      <th>Weight</th>\n",
       "      <th>Price</th>\n",
       "      <th>TouchScreen</th>\n",
       "      <th>Ips</th>\n",
       "      <th>Ppi</th>\n",
       "      <th>Cpu_brand</th>\n",
       "      <th>HDD</th>\n",
       "      <th>SSD</th>\n",
       "      <th>Gpu_brand</th>\n",
       "      <th>Os</th>\n",
       "    </tr>\n",
       "  </thead>\n",
       "  <tbody>\n",
       "    <tr>\n",
       "      <th>545</th>\n",
       "      <td>385</td>\n",
       "      <td>Lenovo</td>\n",
       "      <td>Ultrabook</td>\n",
       "      <td>8</td>\n",
       "      <td>1.13</td>\n",
       "      <td>499.766079</td>\n",
       "      <td>0</td>\n",
       "      <td>1</td>\n",
       "      <td>209.800683</td>\n",
       "      <td>Intel Core i7</td>\n",
       "      <td>0.0</td>\n",
       "      <td>512</td>\n",
       "      <td>Intel</td>\n",
       "      <td>Windows</td>\n",
       "    </tr>\n",
       "    <tr>\n",
       "      <th>556</th>\n",
       "      <td>1229</td>\n",
       "      <td>Lenovo</td>\n",
       "      <td>Netbook</td>\n",
       "      <td>16</td>\n",
       "      <td>1.30</td>\n",
       "      <td>418.329347</td>\n",
       "      <td>1</td>\n",
       "      <td>1</td>\n",
       "      <td>176.232574</td>\n",
       "      <td>Intel Core i7</td>\n",
       "      <td>0.0</td>\n",
       "      <td>512</td>\n",
       "      <td>Intel</td>\n",
       "      <td>Windows</td>\n",
       "    </tr>\n",
       "    <tr>\n",
       "      <th>842</th>\n",
       "      <td>103</td>\n",
       "      <td>HP</td>\n",
       "      <td>Ultrabook</td>\n",
       "      <td>8</td>\n",
       "      <td>1.38</td>\n",
       "      <td>222.239809</td>\n",
       "      <td>0</td>\n",
       "      <td>1</td>\n",
       "      <td>165.632118</td>\n",
       "      <td>Intel Core i7</td>\n",
       "      <td>0.0</td>\n",
       "      <td>256</td>\n",
       "      <td>Nvidia</td>\n",
       "      <td>Windows</td>\n",
       "    </tr>\n",
       "  </tbody>\n",
       "</table>\n",
       "</div>"
      ],
      "text/plain": [
       "       id Company   TypeName  Ram  Weight       Price  TouchScreen  Ips  \\\n",
       "545   385  Lenovo  Ultrabook    8    1.13  499.766079            0    1   \n",
       "556  1229  Lenovo    Netbook   16    1.30  418.329347            1    1   \n",
       "842   103      HP  Ultrabook    8    1.38  222.239809            0    1   \n",
       "\n",
       "            Ppi      Cpu_brand  HDD  SSD Gpu_brand       Os  \n",
       "545  209.800683  Intel Core i7  0.0  512     Intel  Windows  \n",
       "556  176.232574  Intel Core i7  0.0  512     Intel  Windows  \n",
       "842  165.632118  Intel Core i7  0.0  256    Nvidia  Windows  "
      ]
     },
     "execution_count": 514,
     "metadata": {},
     "output_type": "execute_result"
    }
   ],
   "source": [
    "df_price_outliers = df[df.Price > 13]\n",
    "df_price_outliers"
   ]
  },
  {
   "cell_type": "markdown",
   "metadata": {},
   "source": [
    "La media de precios es 12.26k rupias mientras que aquí vemos computadores de hasta 499k rupias, lo cual no tiene mucho sentido con las especificaicones que tienen los computadores. [Aquí se encuentran los computadores más caros que ofrece lenovo](https://www.lenovo.com/gb/en/laptops/results/?visibleDatas=2529%3A2500.0-1.000000000000001E12&sortBy=Recommended). Como podemos ver un computador de 4.6k euros tiene muchas más capacidades que uno los de lenovo que aparecen en la lista por precios de hasta 5.6k euros (499.7k rupias). Es por esto que se llegó a la conclusión de que es mejor eliminar estos ouliers ya que no son naturales "
   ]
  },
  {
   "cell_type": "code",
   "execution_count": 500,
   "metadata": {},
   "outputs": [],
   "source": [
    "df_no_outliers=df[(df.Price < 13) & (df.Ppi < 2000) & (df.Weight < 50)]"
   ]
  },
  {
   "cell_type": "code",
   "execution_count": 501,
   "metadata": {},
   "outputs": [
    {
     "data": {
      "text/plain": [
       "(808, 14)"
      ]
     },
     "execution_count": 501,
     "metadata": {},
     "output_type": "execute_result"
    }
   ],
   "source": [
    "df_no_outliers.shape"
   ]
  },
  {
   "cell_type": "code",
   "execution_count": 502,
   "metadata": {},
   "outputs": [
    {
     "data": {
      "image/png": "[encoded data removed]",
      "text/plain": [
       "<Figure size 1728x576 with 6 Axes>"
      ]
     },
     "metadata": {
      "needs_background": "light"
     },
     "output_type": "display_data"
    }
   ],
   "source": [
    "vars_numericas = ['Ram', 'Weight', 'Price', 'Ppi', 'HDD', 'SSD']\n",
    "fig, axes = plt.subplots(ncols=len(vars_numericas), figsize=(24,8))\n",
    "for i, col in enumerate(vars_numericas):\n",
    "    ax = sns.boxplot(data=df_no_outliers[col], ax=axes[i])\n",
    "    ax.set_ylim(df_no_outliers[col].min(), df_no_outliers[col].max())\n",
    "    axes[i].set_xlabel(vars_numericas[i])\n",
    "plt.show()"
   ]
  },
  {
   "cell_type": "markdown",
   "metadata": {},
   "source": [
    "### 5.2 Entrenamiento de un segundo modelo de regresión lineal"
   ]
  },
  {
   "cell_type": "code",
   "execution_count": 503,
   "metadata": {},
   "outputs": [],
   "source": [
    "X_train, X_test, y_train, y_test = train_test_split(df_no_outliers[features],df_no_outliers['Price'],\n",
    "                                                     test_size=0.3, random_state=1)"
   ]
  },
  {
   "cell_type": "code",
   "execution_count": 504,
   "metadata": {},
   "outputs": [],
   "source": [
    "regression= LinearRegression()  "
   ]
  },
  {
   "cell_type": "code",
   "execution_count": 505,
   "metadata": {},
   "outputs": [
    {
     "data": {
      "text/plain": [
       "LinearRegression()"
      ]
     },
     "execution_count": 505,
     "metadata": {},
     "output_type": "execute_result"
    }
   ],
   "source": [
    "regression.fit(X_train, y_train)"
   ]
  },
  {
   "cell_type": "markdown",
   "metadata": {},
   "source": [
    "### 5.2 Interpretación de los coeficientes"
   ]
  },
  {
   "cell_type": "code",
   "execution_count": 506,
   "metadata": {},
   "outputs": [
    {
     "data": {
      "text/html": [
       "<div>\n",
       "<style scoped>\n",
       "    .dataframe tbody tr th:only-of-type {\n",
       "        vertical-align: middle;\n",
       "    }\n",
       "\n",
       "    .dataframe tbody tr th {\n",
       "        vertical-align: top;\n",
       "    }\n",
       "\n",
       "    .dataframe thead th {\n",
       "        text-align: right;\n",
       "    }\n",
       "</style>\n",
       "<table border=\"1\" class=\"dataframe\">\n",
       "  <thead>\n",
       "    <tr style=\"text-align: right;\">\n",
       "      <th></th>\n",
       "      <th>features</th>\n",
       "      <th>coef</th>\n",
       "    </tr>\n",
       "  </thead>\n",
       "  <tbody>\n",
       "    <tr>\n",
       "      <th>0</th>\n",
       "      <td>Ram</td>\n",
       "      <td>0.036737</td>\n",
       "    </tr>\n",
       "    <tr>\n",
       "      <th>1</th>\n",
       "      <td>Weight</td>\n",
       "      <td>0.133758</td>\n",
       "    </tr>\n",
       "    <tr>\n",
       "      <th>2</th>\n",
       "      <td>SSD</td>\n",
       "      <td>0.001079</td>\n",
       "    </tr>\n",
       "    <tr>\n",
       "      <th>3</th>\n",
       "      <td>TouchScreen</td>\n",
       "      <td>0.040809</td>\n",
       "    </tr>\n",
       "    <tr>\n",
       "      <th>4</th>\n",
       "      <td>Ips</td>\n",
       "      <td>0.069886</td>\n",
       "    </tr>\n",
       "    <tr>\n",
       "      <th>5</th>\n",
       "      <td>HDD</td>\n",
       "      <td>0.000026</td>\n",
       "    </tr>\n",
       "    <tr>\n",
       "      <th>6</th>\n",
       "      <td>Ppi</td>\n",
       "      <td>0.002856</td>\n",
       "    </tr>\n",
       "  </tbody>\n",
       "</table>\n",
       "</div>"
      ],
      "text/plain": [
       "      features      coef\n",
       "0          Ram  0.036737\n",
       "1       Weight  0.133758\n",
       "2          SSD  0.001079\n",
       "3  TouchScreen  0.040809\n",
       "4          Ips  0.069886\n",
       "5          HDD  0.000026\n",
       "6          Ppi  0.002856"
      ]
     },
     "execution_count": 506,
     "metadata": {},
     "output_type": "execute_result"
    }
   ],
   "source": [
    "pd.DataFrame({'features': features, 'coef': regression.coef_})  "
   ]
  },
  {
   "cell_type": "code",
   "execution_count": 507,
   "metadata": {},
   "outputs": [
    {
     "data": {
      "text/plain": [
       "9.600655933993673"
      ]
     },
     "execution_count": 507,
     "metadata": {},
     "output_type": "execute_result"
    }
   ],
   "source": [
    "regression.intercept_"
   ]
  },
  {
   "cell_type": "code",
   "execution_count": 508,
   "metadata": {},
   "outputs": [
    {
     "data": {
      "image/png": "[encoded data removed]",
      "text/plain": [
       "<Figure size 1440x288 with 7 Axes>"
      ]
     },
     "metadata": {
      "needs_background": "light"
     },
     "output_type": "display_data"
    }
   ],
   "source": [
    "f, axs = plt.subplots(1, len(features), sharey=True, figsize=(20, 4))\n",
    "\n",
    "for i in range(len(features)):\n",
    "    col = features[i]\n",
    "    x = X_train[col]\n",
    "    m = regression.coef_[i]\n",
    "    b = regression.intercept_\n",
    "\n",
    "    axs[i].plot(x, y_train, \"o\", alpha=0.1)\n",
    "    axs[i].plot(x, x * m + b)\n",
    "    axs[i].set_title(col)"
   ]
  },
  {
   "cell_type": "code",
   "execution_count": 518,
   "metadata": {},
   "outputs": [
    {
     "name": "stdout",
     "output_type": "stream",
     "text": [
      "MSA\n",
      "Train: 0.31771620067721185\n",
      "Test: 0.32208149988323276 \n",
      "\n",
      "RMSE\n",
      "Train: 0.39980042699193596\n",
      "Test: 0.39673339679942865 \n",
      "\n",
      "R^2\n",
      "Train: 0.5964047084118285\n",
      "Test: 0.6061032162954679\n"
     ]
    }
   ],
   "source": [
    "print(\"MSA\")\n",
    "print(\"Train:\", mean_absolute_error(y_train, regression.predict(X_train)))\n",
    "print(\"Test:\", mean_absolute_error(y_test, regression.predict(X_test)), \"\\n\")\n",
    "print(\"RMSE\")\n",
    "print(\"Train:\", np.sqrt(mean_squared_error(y_train, regression.predict(X_train))))\n",
    "print(\"Test:\", np.sqrt(mean_squared_error(y_test, regression.predict(X_test))), \"\\n\")\n",
    "print(\"R^2\")\n",
    "print(\"Train:\", r2_score(y_train, regression.predict(X_train)))\n",
    "print(\"Test:\", r2_score(y_test, regression.predict(X_test)))"
   ]
  },
  {
   "cell_type": "markdown",
   "metadata": {},
   "source": [
    "## 7. Pipelines y exportación"
   ]
  },
  {
   "cell_type": "markdown",
   "metadata": {},
   "source": [
    "### 7.1 Creación Pipeline"
   ]
  },
  {
   "cell_type": "code",
   "execution_count": 519,
   "metadata": {},
   "outputs": [],
   "source": [
    "pipeline = Pipeline(\n",
    "    [\n",
    "        (\"scaler\", StandardScaler()),\n",
    "        (\"model\", LinearRegression())\n",
    "    ]\n",
    ")"
   ]
  },
  {
   "cell_type": "code",
   "execution_count": 520,
   "metadata": {},
   "outputs": [
    {
     "data": {
      "text/plain": [
       "Pipeline(steps=[('scaler', StandardScaler()), ('model', LinearRegression())])"
      ]
     },
     "execution_count": 520,
     "metadata": {},
     "output_type": "execute_result"
    }
   ],
   "source": [
    "pipeline.fit(X_train, y_train)"
   ]
  },
  {
   "cell_type": "code",
   "execution_count": 521,
   "metadata": {},
   "outputs": [
    {
     "data": {
      "text/html": [
       "<div>\n",
       "<style scoped>\n",
       "    .dataframe tbody tr th:only-of-type {\n",
       "        vertical-align: middle;\n",
       "    }\n",
       "\n",
       "    .dataframe tbody tr th {\n",
       "        vertical-align: top;\n",
       "    }\n",
       "\n",
       "    .dataframe thead th {\n",
       "        text-align: right;\n",
       "    }\n",
       "</style>\n",
       "<table border=\"1\" class=\"dataframe\">\n",
       "  <thead>\n",
       "    <tr style=\"text-align: right;\">\n",
       "      <th></th>\n",
       "      <th>features</th>\n",
       "      <th>coef</th>\n",
       "    </tr>\n",
       "  </thead>\n",
       "  <tbody>\n",
       "    <tr>\n",
       "      <th>0</th>\n",
       "      <td>Ram</td>\n",
       "      <td>0.214183</td>\n",
       "    </tr>\n",
       "    <tr>\n",
       "      <th>1</th>\n",
       "      <td>Weight</td>\n",
       "      <td>0.101783</td>\n",
       "    </tr>\n",
       "    <tr>\n",
       "      <th>2</th>\n",
       "      <td>SSD</td>\n",
       "      <td>0.214926</td>\n",
       "    </tr>\n",
       "    <tr>\n",
       "      <th>3</th>\n",
       "      <td>TouchScreen</td>\n",
       "      <td>0.015636</td>\n",
       "    </tr>\n",
       "    <tr>\n",
       "      <th>4</th>\n",
       "      <td>Ips</td>\n",
       "      <td>0.032415</td>\n",
       "    </tr>\n",
       "    <tr>\n",
       "      <th>5</th>\n",
       "      <td>HDD</td>\n",
       "      <td>0.014077</td>\n",
       "    </tr>\n",
       "    <tr>\n",
       "      <th>6</th>\n",
       "      <td>Ppi</td>\n",
       "      <td>0.130845</td>\n",
       "    </tr>\n",
       "  </tbody>\n",
       "</table>\n",
       "</div>"
      ],
      "text/plain": [
       "      features      coef\n",
       "0          Ram  0.214183\n",
       "1       Weight  0.101783\n",
       "2          SSD  0.214926\n",
       "3  TouchScreen  0.015636\n",
       "4          Ips  0.032415\n",
       "5          HDD  0.014077\n",
       "6          Ppi  0.130845"
      ]
     },
     "execution_count": 521,
     "metadata": {},
     "output_type": "execute_result"
    }
   ],
   "source": [
    "pd.DataFrame({'features': features, 'coef': pipeline['model'].coef_})"
   ]
  },
  {
   "cell_type": "code",
   "execution_count": 522,
   "metadata": {},
   "outputs": [
    {
     "data": {
      "text/plain": [
       "10.911754865179178"
      ]
     },
     "execution_count": 522,
     "metadata": {},
     "output_type": "execute_result"
    }
   ],
   "source": [
    "pipeline['model'].intercept_"
   ]
  },
  {
   "cell_type": "code",
   "execution_count": 523,
   "metadata": {},
   "outputs": [
    {
     "data": {
      "text/plain": [
       "(10.911754865179178, 10.888516311012788)"
      ]
     },
     "execution_count": 523,
     "metadata": {},
     "output_type": "execute_result"
    }
   ],
   "source": [
    "y_train.mean(), y_test.mean()"
   ]
  },
  {
   "cell_type": "code",
   "execution_count": 528,
   "metadata": {},
   "outputs": [
    {
     "name": "stdout",
     "output_type": "stream",
     "text": [
      "MAE:\n",
      "Train: 0.31771620067721207\n",
      "Test: 0.32208149988323614\n",
      "\n",
      "RMSE:\n",
      "Train: 0.39980042699193585\n",
      "Test: 0.39673339679942954\n",
      "\n",
      "R^2\n",
      "Train: 0.5964047084118285\n",
      "Test: 0.6061032162954663\n"
     ]
    }
   ],
   "source": [
    "print(\"MAE:\")\n",
    "print(\"Train:\", mean_absolute_error(y_train, pipeline.predict(X_train)))\n",
    "print(\"Test:\", mean_absolute_error(y_test, pipeline.predict(X_test)))\n",
    "print(\"\\nRMSE:\")\n",
    "print(\"Train:\", np.sqrt(mean_squared_error(y_train, pipeline.predict(X_train))))\n",
    "print(\"Test:\", np.sqrt(mean_squared_error(y_test, pipeline.predict(X_test))))\n",
    "print(\"\\nR^2\")\n",
    "print(\"Train:\", r2_score(y_train, pipeline.predict(X_train)))\n",
    "print(\"Test:\", r2_score(y_test, pipeline.predict(X_test)))"
   ]
  },
  {
   "cell_type": "markdown",
   "metadata": {},
   "source": [
    "### 7.2 Normalidad de los errores"
   ]
  },
  {
   "cell_type": "code",
   "execution_count": 526,
   "metadata": {},
   "outputs": [],
   "source": [
    "errors =(pipeline.predict(X_train[features]) - y_train).values"
   ]
  },
  {
   "cell_type": "code",
   "execution_count": 527,
   "metadata": {},
   "outputs": [
    {
     "data": {
      "image/png": "[encoded data removed]",
      "text/plain": [
       "<Figure size 864x288 with 2 Axes>"
      ]
     },
     "metadata": {
      "needs_background": "light"
     },
     "output_type": "display_data"
    }
   ],
   "source": [
    "fig, axes = plt.subplots(1, 2, figsize = (12, 4))\n",
    "\n",
    "# Dispersión\n",
    "sns.scatterplot(x = pipeline.predict(X_train[features]), y = errors, alpha = 0.1, ax = axes[0])\n",
    "\n",
    "# q-q plot\n",
    "_ = stats.probplot(errors, dist = 'norm', plot = axes[1])"
   ]
  },
  {
   "cell_type": "code",
   "execution_count": 530,
   "metadata": {},
   "outputs": [
    {
     "data": {
      "image/png": "[encoded data removed]",
      "text/plain": [
       "<Figure size 1440x216 with 1 Axes>"
      ]
     },
     "metadata": {
      "needs_background": "light"
     },
     "output_type": "display_data"
    }
   ],
   "source": [
    "plt.figure(figsize = (20, 3))\n",
    "sns.boxplot(x = y_train, showmeans = True, orient = 'h')\n",
    "plt.title('Valor real de $\\t{Price}$ en el conjunto de entrenamiento')\n",
    "plt.grid()\n",
    "plt.show()"
   ]
  },
  {
   "cell_type": "markdown",
   "metadata": {},
   "source": [
    "## 7. Exportación del mejor modelo"
   ]
  },
  {
   "cell_type": "code",
   "execution_count": 531,
   "metadata": {},
   "outputs": [
    {
     "data": {
      "text/plain": [
       "['pipe.joblib']"
      ]
     },
     "execution_count": 531,
     "metadata": {},
     "output_type": "execute_result"
    }
   ],
   "source": [
    "dump(pipeline, \"pipe.joblib\")"
   ]
  },
  {
   "cell_type": "markdown",
   "metadata": {},
   "source": [
    "## 8. Generar predicciones"
   ]
  },
  {
   "cell_type": "code",
   "execution_count": 532,
   "metadata": {},
   "outputs": [],
   "source": [
    "pipeline_loaded = load(\"pipe.joblib\")"
   ]
  },
  {
   "cell_type": "code",
   "execution_count": 533,
   "metadata": {},
   "outputs": [],
   "source": [
    "df_price_new = pd.read_csv('./data/202320_Laboratorio 2 - Regresión_data_laptop_data_test_unlabeled.csv')"
   ]
  },
  {
   "cell_type": "code",
   "execution_count": 535,
   "metadata": {},
   "outputs": [],
   "source": [
    "df_price_new = df_price_new.dropna(subset = features)"
   ]
  },
  {
   "cell_type": "code",
   "execution_count": 536,
   "metadata": {},
   "outputs": [],
   "source": [
    "df_price_new[\"CalculatedPrice\"] = pipeline_loaded.predict(df_price_new[features])"
   ]
  },
  {
   "cell_type": "code",
   "execution_count": 538,
   "metadata": {},
   "outputs": [],
   "source": [
    "df_price_new.to_csv(\"Prediccion_precios_compuAndes.csv\", sep=\",\", index=False, encoding='utf-8')"
   ]
  }
 ],
 "metadata": {
  "kernelspec": {
   "display_name": "Python 3 (ipykernel)",
   "language": "python",
   "name": "python3"
  },
  "language_info": {
   "codemirror_mode": {
    "name": "ipython",
    "version": 3
   },
   "file_extension": ".py",
   "mimetype": "text/x-python",
   "name": "python",
   "nbconvert_exporter": "python",
   "pygments_lexer": "ipython3",
   "version": "3.9.12"
  }
 },
 "nbformat": 4,
 "nbformat_minor": 4
}
