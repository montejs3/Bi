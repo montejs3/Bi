{
 "cells": [
  {
   "cell_type": "markdown",
   "metadata": {},
   "source": [
    "# Laboratorio 2: CompuAlpes\n",
    "\n",
    "- Juan Camilo Colmenares - 202011866\n",
    "- Juan Montealegre - 202012723\n",
    "- David Gonzales - 201815834\n",
    "\n",
    "CompuAlpes es una reconocida tienda minorista que vende computadores portátiles de diferentes fabricantes y especificaciones técnicas. Con el auge de la tecnología y el creciente número de productos en el mercado, la empresa busca optimizar sus estrategias de fijación de precios y promociones para seguir siendo competitiva. Es en este último punto, donde ha identificado un reto relacionado con **determinar el precio adecuado para un portatil** ya que el mercado es dinámico y la valoración de las características técnicas cambia con el tiempo. Poner un precio demasiado alto puede alejar a los clientes, mientras que ponerlo demasiado bajo puede reducir los márgenes de ganancia.\n",
    "\n",
    "Esto motivó a CompuAlpes a proponer el objetivo de este proyecto, en el cual se desea **construir un modelo de regresión que permita estimar el precio de un portátil a partir de sus especificaciones técnicas, determinando las que más impactan en el precio o que son, de acuerdo a la evidencia, irrelevantes para la estimación**. Este modelo permitirá a CompuAlpes tener una base objetiva y cuantitativa al momento de establecer precios para sus productos."
   ]
  },
  {
   "cell_type": "code",
   "execution_count": 53,
   "metadata": {},
   "outputs": [],
   "source": [
    "import numpy as np\n",
    "import pandas as pd\n",
    "\n",
    "from joblib import dump, load\n",
    "\n",
    "import matplotlib.pyplot as plt\n",
    "import seaborn as sns\n",
    "\n",
    "from sklearn.model_selection import train_test_split\n",
    "from sklearn.linear_model import LinearRegression\n",
    "from sklearn.pipeline import Pipeline\n",
    "from sklearn.compose import ColumnTransformer\n",
    "from sklearn.preprocessing import StandardScaler\n",
    "from sklearn.preprocessing import PolynomialFeatures\n",
    "from sklearn.metrics import mean_absolute_error, mean_squared_error, r2_score\n",
    "\n",
    "import scipy.stats as stats"
   ]
  },
  {
   "cell_type": "markdown",
   "metadata": {},
   "source": [
    "### Carga de los datos"
   ]
  },
  {
   "cell_type": "code",
   "execution_count": 54,
   "metadata": {},
   "outputs": [],
   "source": [
    "df = pd.read_csv('./data/202320_Laboratorio 2 - Regresión_data_laptop_data_train.csv')"
   ]
  },
  {
   "cell_type": "markdown",
   "metadata": {},
   "source": [
    "## 1. Entendimiento de los datos"
   ]
  },
  {
   "cell_type": "code",
   "execution_count": 55,
   "metadata": {},
   "outputs": [
    {
     "data": {
      "text/plain": [
       "(1216, 14)"
      ]
     },
     "execution_count": 55,
     "metadata": {},
     "output_type": "execute_result"
    }
   ],
   "source": [
    "df.shape"
   ]
  },
  {
   "cell_type": "code",
   "execution_count": 56,
   "metadata": {},
   "outputs": [
    {
     "data": {
      "text/plain": [
       "id               int64\n",
       "Company         object\n",
       "TypeName        object\n",
       "Ram              int64\n",
       "Weight         float64\n",
       "Price          float64\n",
       "TouchScreen      int64\n",
       "Ips              int64\n",
       "Ppi            float64\n",
       "Cpu_brand       object\n",
       "HDD            float64\n",
       "SSD              int64\n",
       "Gpu_brand       object\n",
       "Os              object\n",
       "dtype: object"
      ]
     },
     "execution_count": 56,
     "metadata": {},
     "output_type": "execute_result"
    }
   ],
   "source": [
    "df.dtypes"
   ]
  },
  {
   "cell_type": "code",
   "execution_count": 57,
   "metadata": {},
   "outputs": [
    {
     "data": {
      "text/html": [
       "<div>\n",
       "<style scoped>\n",
       "    .dataframe tbody tr th:only-of-type {\n",
       "        vertical-align: middle;\n",
       "    }\n",
       "\n",
       "    .dataframe tbody tr th {\n",
       "        vertical-align: top;\n",
       "    }\n",
       "\n",
       "    .dataframe thead th {\n",
       "        text-align: right;\n",
       "    }\n",
       "</style>\n",
       "<table border=\"1\" class=\"dataframe\">\n",
       "  <thead>\n",
       "    <tr style=\"text-align: right;\">\n",
       "      <th></th>\n",
       "      <th>id</th>\n",
       "      <th>Company</th>\n",
       "      <th>TypeName</th>\n",
       "      <th>Ram</th>\n",
       "      <th>Weight</th>\n",
       "      <th>Price</th>\n",
       "      <th>TouchScreen</th>\n",
       "      <th>Ips</th>\n",
       "      <th>Ppi</th>\n",
       "      <th>Cpu_brand</th>\n",
       "      <th>HDD</th>\n",
       "      <th>SSD</th>\n",
       "      <th>Gpu_brand</th>\n",
       "      <th>Os</th>\n",
       "    </tr>\n",
       "  </thead>\n",
       "  <tbody>\n",
       "    <tr>\n",
       "      <th>515</th>\n",
       "      <td>81</td>\n",
       "      <td>Apple</td>\n",
       "      <td>Ultrabook</td>\n",
       "      <td>8</td>\n",
       "      <td>0.92</td>\n",
       "      <td>11.295426</td>\n",
       "      <td>0</td>\n",
       "      <td>1</td>\n",
       "      <td>226.415547</td>\n",
       "      <td>Intel Core i5</td>\n",
       "      <td>0.0</td>\n",
       "      <td>512</td>\n",
       "      <td>Intel</td>\n",
       "      <td>Mac</td>\n",
       "    </tr>\n",
       "    <tr>\n",
       "      <th>759</th>\n",
       "      <td>1177</td>\n",
       "      <td>Lenovo</td>\n",
       "      <td>Gaming</td>\n",
       "      <td>16</td>\n",
       "      <td>3.31</td>\n",
       "      <td>11.149519</td>\n",
       "      <td>0</td>\n",
       "      <td>1</td>\n",
       "      <td>141.211998</td>\n",
       "      <td>Intel Core i7</td>\n",
       "      <td>0.0</td>\n",
       "      <td>512</td>\n",
       "      <td>Nvidia</td>\n",
       "      <td>Windows</td>\n",
       "    </tr>\n",
       "    <tr>\n",
       "      <th>673</th>\n",
       "      <td>1246</td>\n",
       "      <td>Asus</td>\n",
       "      <td>Gaming</td>\n",
       "      <td>16</td>\n",
       "      <td>2.34</td>\n",
       "      <td>11.727036</td>\n",
       "      <td>0</td>\n",
       "      <td>1</td>\n",
       "      <td>141.211998</td>\n",
       "      <td>Intel Core i7</td>\n",
       "      <td>1000.0</td>\n",
       "      <td>256</td>\n",
       "      <td>Nvidia</td>\n",
       "      <td>Windows</td>\n",
       "    </tr>\n",
       "    <tr>\n",
       "      <th>570</th>\n",
       "      <td>881</td>\n",
       "      <td>HP</td>\n",
       "      <td>2 in 1 Convertible</td>\n",
       "      <td>4</td>\n",
       "      <td>2.30</td>\n",
       "      <td>10.504688</td>\n",
       "      <td>1</td>\n",
       "      <td>0</td>\n",
       "      <td>100.454670</td>\n",
       "      <td>Intel Core i5</td>\n",
       "      <td>500.0</td>\n",
       "      <td>0</td>\n",
       "      <td>Intel</td>\n",
       "      <td>Windows</td>\n",
       "    </tr>\n",
       "    <tr>\n",
       "      <th>531</th>\n",
       "      <td>1097</td>\n",
       "      <td>MSI</td>\n",
       "      <td>Gaming</td>\n",
       "      <td>8</td>\n",
       "      <td>2.60</td>\n",
       "      <td>11.352695</td>\n",
       "      <td>0</td>\n",
       "      <td>0</td>\n",
       "      <td>127.335675</td>\n",
       "      <td>Intel Core i7</td>\n",
       "      <td>0.0</td>\n",
       "      <td>256</td>\n",
       "      <td>Nvidia</td>\n",
       "      <td>Windows</td>\n",
       "    </tr>\n",
       "  </tbody>\n",
       "</table>\n",
       "</div>"
      ],
      "text/plain": [
       "       id Company            TypeName  Ram  Weight      Price  TouchScreen  \\\n",
       "515    81   Apple           Ultrabook    8    0.92  11.295426            0   \n",
       "759  1177  Lenovo              Gaming   16    3.31  11.149519            0   \n",
       "673  1246    Asus              Gaming   16    2.34  11.727036            0   \n",
       "570   881      HP  2 in 1 Convertible    4    2.30  10.504688            1   \n",
       "531  1097     MSI              Gaming    8    2.60  11.352695            0   \n",
       "\n",
       "     Ips         Ppi      Cpu_brand     HDD  SSD Gpu_brand       Os  \n",
       "515    1  226.415547  Intel Core i5     0.0  512     Intel      Mac  \n",
       "759    1  141.211998  Intel Core i7     0.0  512    Nvidia  Windows  \n",
       "673    1  141.211998  Intel Core i7  1000.0  256    Nvidia  Windows  \n",
       "570    0  100.454670  Intel Core i5   500.0    0     Intel  Windows  \n",
       "531    0  127.335675  Intel Core i7     0.0  256    Nvidia  Windows  "
      ]
     },
     "execution_count": 57,
     "metadata": {},
     "output_type": "execute_result"
    }
   ],
   "source": [
    "df.sample(5)"
   ]
  },
  {
   "cell_type": "code",
   "execution_count": 58,
   "metadata": {},
   "outputs": [
    {
     "data": {
      "image/png": "[encoded data removed]",
      "text/plain": [
       "<Figure size 1440x576 with 1 Axes>"
      ]
     },
     "metadata": {
      "needs_background": "light"
     },
     "output_type": "display_data"
    }
   ],
   "source": [
    "fig=plt.figure(figsize=(20,8))\n",
    "ax = sns.boxplot(data=df, orient=\"v\")"
   ]
  },
  {
   "cell_type": "markdown",
   "metadata": {},
   "source": [
    "Para entrenar un modelo de regresión todas las variables de entrada (features) deben ser numéricas. Con ayuda de los expertos, se seleccionan las variables numéricas que se consideran más importantes para la estimación de la variable objetivo (target) `Price`.\n",
    "\n",
    "Hay variables booleanas que deberían influir en el precio de una laptop como Ips pero para este modelo no parece aplicar.\n",
    "[Aquí se habla de eso](https://towardsdatascience.com/machine-learning-102-logistic-regression-9e6dc2807772)"
   ]
  },
  {
   "cell_type": "code",
   "execution_count": 59,
   "metadata": {},
   "outputs": [],
   "source": [
    "features = ['Ram', 'Weight', 'Ppi', 'HDD', 'SSD']"
   ]
  },
  {
   "cell_type": "code",
   "execution_count": 60,
   "metadata": {},
   "outputs": [
    {
     "data": {
      "text/plain": [
       "Price     0.012336\n",
       "Ram       0.000000\n",
       "Weight    0.018914\n",
       "Ppi       0.009868\n",
       "HDD       0.013158\n",
       "SSD       0.000000\n",
       "dtype: float64"
      ]
     },
     "execution_count": 60,
     "metadata": {},
     "output_type": "execute_result"
    }
   ],
   "source": [
    "df[['Price'] + features].isnull().sum() / df.shape[0]"
   ]
  },
  {
   "cell_type": "code",
   "execution_count": 77,
   "metadata": {},
   "outputs": [
    {
     "data": {
      "text/html": [
       "<div>\n",
       "<style scoped>\n",
       "    .dataframe tbody tr th:only-of-type {\n",
       "        vertical-align: middle;\n",
       "    }\n",
       "\n",
       "    .dataframe tbody tr th {\n",
       "        vertical-align: top;\n",
       "    }\n",
       "\n",
       "    .dataframe thead th {\n",
       "        text-align: right;\n",
       "    }\n",
       "</style>\n",
       "<table border=\"1\" class=\"dataframe\">\n",
       "  <thead>\n",
       "    <tr style=\"text-align: right;\">\n",
       "      <th></th>\n",
       "      <th>id</th>\n",
       "      <th>Company</th>\n",
       "      <th>TypeName</th>\n",
       "      <th>Ram</th>\n",
       "      <th>Weight</th>\n",
       "      <th>Price</th>\n",
       "      <th>TouchScreen</th>\n",
       "      <th>Ips</th>\n",
       "      <th>Ppi</th>\n",
       "      <th>Cpu_brand</th>\n",
       "      <th>HDD</th>\n",
       "      <th>SSD</th>\n",
       "      <th>Gpu_brand</th>\n",
       "      <th>Os</th>\n",
       "    </tr>\n",
       "  </thead>\n",
       "  <tbody>\n",
       "    <tr>\n",
       "      <th>415</th>\n",
       "      <td>314</td>\n",
       "      <td>Asus</td>\n",
       "      <td>2 in 1 Convertible</td>\n",
       "      <td>2</td>\n",
       "      <td>1.10</td>\n",
       "      <td>9.592332</td>\n",
       "      <td>1</td>\n",
       "      <td>0</td>\n",
       "      <td>135.094211</td>\n",
       "      <td>Other Intel Processor</td>\n",
       "      <td>0.0</td>\n",
       "      <td>0</td>\n",
       "      <td>Intel</td>\n",
       "      <td>Windows</td>\n",
       "    </tr>\n",
       "    <tr>\n",
       "      <th>455</th>\n",
       "      <td>515</td>\n",
       "      <td>Asus</td>\n",
       "      <td>Netbook</td>\n",
       "      <td>2</td>\n",
       "      <td>1.10</td>\n",
       "      <td>9.476819</td>\n",
       "      <td>0</td>\n",
       "      <td>0</td>\n",
       "      <td>135.094211</td>\n",
       "      <td>Other Intel Processor</td>\n",
       "      <td>0.0</td>\n",
       "      <td>0</td>\n",
       "      <td>Intel</td>\n",
       "      <td>Windows</td>\n",
       "    </tr>\n",
       "    <tr>\n",
       "      <th>546</th>\n",
       "      <td>1126</td>\n",
       "      <td>Lenovo</td>\n",
       "      <td>2 in 1 Convertible</td>\n",
       "      <td>4</td>\n",
       "      <td>0.69</td>\n",
       "      <td>10.147262</td>\n",
       "      <td>1</td>\n",
       "      <td>1</td>\n",
       "      <td>224.173809</td>\n",
       "      <td>Other Intel Processor</td>\n",
       "      <td>0.0</td>\n",
       "      <td>0</td>\n",
       "      <td>Intel</td>\n",
       "      <td>Windows</td>\n",
       "    </tr>\n",
       "    <tr>\n",
       "      <th>930</th>\n",
       "      <td>1082</td>\n",
       "      <td>Lenovo</td>\n",
       "      <td>&amp;&amp;2 in 1 Convertible</td>\n",
       "      <td>4</td>\n",
       "      <td>0.69</td>\n",
       "      <td>10.446778</td>\n",
       "      <td>1</td>\n",
       "      <td>1</td>\n",
       "      <td>224.173809</td>\n",
       "      <td>Other Intel Processor</td>\n",
       "      <td>0.0</td>\n",
       "      <td>0</td>\n",
       "      <td>Intel</td>\n",
       "      <td>Windows</td>\n",
       "    </tr>\n",
       "    <tr>\n",
       "      <th>20</th>\n",
       "      <td>888</td>\n",
       "      <td>Acer</td>\n",
       "      <td>Netbook</td>\n",
       "      <td>4</td>\n",
       "      <td>1.25</td>\n",
       "      <td>9.669293</td>\n",
       "      <td>0</td>\n",
       "      <td>1</td>\n",
       "      <td>135.094211</td>\n",
       "      <td>Other Intel Processor</td>\n",
       "      <td>0.0</td>\n",
       "      <td>0</td>\n",
       "      <td>Intel</td>\n",
       "      <td>Others</td>\n",
       "    </tr>\n",
       "    <tr>\n",
       "      <th>181</th>\n",
       "      <td>959</td>\n",
       "      <td>Acer</td>\n",
       "      <td>2 in 1 Convertible</td>\n",
       "      <td>4</td>\n",
       "      <td>1.25</td>\n",
       "      <td>9.939140</td>\n",
       "      <td>1</td>\n",
       "      <td>1</td>\n",
       "      <td>135.094211</td>\n",
       "      <td>Other Intel Processor</td>\n",
       "      <td>0.0</td>\n",
       "      <td>0</td>\n",
       "      <td>Intel</td>\n",
       "      <td>Others</td>\n",
       "    </tr>\n",
       "  </tbody>\n",
       "</table>\n",
       "</div>"
      ],
      "text/plain": [
       "       id Company              TypeName  Ram  Weight      Price  TouchScreen  \\\n",
       "415   314    Asus    2 in 1 Convertible    2    1.10   9.592332            1   \n",
       "455   515    Asus               Netbook    2    1.10   9.476819            0   \n",
       "546  1126  Lenovo    2 in 1 Convertible    4    0.69  10.147262            1   \n",
       "930  1082  Lenovo  &&2 in 1 Convertible    4    0.69  10.446778            1   \n",
       "20    888    Acer               Netbook    4    1.25   9.669293            0   \n",
       "181   959    Acer    2 in 1 Convertible    4    1.25   9.939140            1   \n",
       "\n",
       "     Ips         Ppi              Cpu_brand  HDD  SSD Gpu_brand       Os  \n",
       "415    0  135.094211  Other Intel Processor  0.0    0     Intel  Windows  \n",
       "455    0  135.094211  Other Intel Processor  0.0    0     Intel  Windows  \n",
       "546    1  224.173809  Other Intel Processor  0.0    0     Intel  Windows  \n",
       "930    1  224.173809  Other Intel Processor  0.0    0     Intel  Windows  \n",
       "20     1  135.094211  Other Intel Processor  0.0    0     Intel   Others  \n",
       "181    1  135.094211  Other Intel Processor  0.0    0     Intel   Others  "
      ]
     },
     "execution_count": 77,
     "metadata": {},
     "output_type": "execute_result"
    }
   ],
   "source": [
    "df.loc[df.duplicated(subset=features, keep=False)].sort_values(by=features).head(6)"
   ]
  },
  {
   "cell_type": "code",
   "execution_count": 71,
   "metadata": {},
   "outputs": [
    {
     "data": {
      "text/plain": [
       "631"
      ]
     },
     "execution_count": 71,
     "metadata": {},
     "output_type": "execute_result"
    }
   ],
   "source": [
    "duplicated_rows = df.loc[df.duplicated(subset = features, keep = False)].shape[0]\n",
    "duplicated_rows"
   ]
  },
  {
   "cell_type": "code",
   "execution_count": 72,
   "metadata": {},
   "outputs": [
    {
     "name": "stdout",
     "output_type": "stream",
     "text": [
      "Duplicates %: 0.5189144736842105\n"
     ]
    }
   ],
   "source": [
    "print('Duplicates %:', (duplicated_rows / df.shape[0]))"
   ]
  },
  {
   "cell_type": "code",
   "execution_count": 80,
   "metadata": {},
   "outputs": [
    {
     "data": {
      "text/html": [
       "<div>\n",
       "<style scoped>\n",
       "    .dataframe tbody tr th:only-of-type {\n",
       "        vertical-align: middle;\n",
       "    }\n",
       "\n",
       "    .dataframe tbody tr th {\n",
       "        vertical-align: top;\n",
       "    }\n",
       "\n",
       "    .dataframe thead th {\n",
       "        text-align: right;\n",
       "    }\n",
       "</style>\n",
       "<table border=\"1\" class=\"dataframe\">\n",
       "  <thead>\n",
       "    <tr style=\"text-align: right;\">\n",
       "      <th></th>\n",
       "      <th>id</th>\n",
       "      <th>Company</th>\n",
       "      <th>TypeName</th>\n",
       "      <th>Ram</th>\n",
       "      <th>Weight</th>\n",
       "      <th>Price</th>\n",
       "      <th>TouchScreen</th>\n",
       "      <th>Ips</th>\n",
       "      <th>Ppi</th>\n",
       "      <th>Cpu_brand</th>\n",
       "      <th>HDD</th>\n",
       "      <th>SSD</th>\n",
       "      <th>Gpu_brand</th>\n",
       "      <th>Os</th>\n",
       "    </tr>\n",
       "  </thead>\n",
       "  <tbody>\n",
       "    <tr>\n",
       "      <th>128</th>\n",
       "      <td>645</td>\n",
       "      <td>Lenovo</td>\n",
       "      <td>Notebook</td>\n",
       "      <td>4</td>\n",
       "      <td>1.43</td>\n",
       "      <td>9.588689</td>\n",
       "      <td>0</td>\n",
       "      <td>0</td>\n",
       "      <td>111.935204</td>\n",
       "      <td>Other Intel Processor</td>\n",
       "      <td>0.0</td>\n",
       "      <td>0</td>\n",
       "      <td>Intel</td>\n",
       "      <td>Windows</td>\n",
       "    </tr>\n",
       "    <tr>\n",
       "      <th>1096</th>\n",
       "      <td>645</td>\n",
       "      <td>Lenovo</td>\n",
       "      <td>Notebook</td>\n",
       "      <td>4</td>\n",
       "      <td>1.43</td>\n",
       "      <td>9.588689</td>\n",
       "      <td>0</td>\n",
       "      <td>0</td>\n",
       "      <td>111.935204</td>\n",
       "      <td>Other Intel Processor</td>\n",
       "      <td>0.0</td>\n",
       "      <td>0</td>\n",
       "      <td>Intel</td>\n",
       "      <td>Windows</td>\n",
       "    </tr>\n",
       "    <tr>\n",
       "      <th>395</th>\n",
       "      <td>212</td>\n",
       "      <td>HP</td>\n",
       "      <td>Notebook</td>\n",
       "      <td>4</td>\n",
       "      <td>2.10</td>\n",
       "      <td>9.830633</td>\n",
       "      <td>0</td>\n",
       "      <td>0</td>\n",
       "      <td>141.211998</td>\n",
       "      <td>Intel Core i3</td>\n",
       "      <td>500.0</td>\n",
       "      <td>0</td>\n",
       "      <td>Intel</td>\n",
       "      <td>Others</td>\n",
       "    </tr>\n",
       "    <tr>\n",
       "      <th>999</th>\n",
       "      <td>101</td>\n",
       "      <td>HP</td>\n",
       "      <td>Notebook</td>\n",
       "      <td>4</td>\n",
       "      <td>2.10</td>\n",
       "      <td>9.830633</td>\n",
       "      <td>0</td>\n",
       "      <td>0</td>\n",
       "      <td>141.211998</td>\n",
       "      <td>AMD Processor</td>\n",
       "      <td>500.0</td>\n",
       "      <td>0</td>\n",
       "      <td>AMD</td>\n",
       "      <td>Windows</td>\n",
       "    </tr>\n",
       "    <tr>\n",
       "      <th>422</th>\n",
       "      <td>884</td>\n",
       "      <td>Dell</td>\n",
       "      <td>&amp;&amp;Notebook</td>\n",
       "      <td>4</td>\n",
       "      <td>2.20</td>\n",
       "      <td>9.886358</td>\n",
       "      <td>0</td>\n",
       "      <td>0</td>\n",
       "      <td>100.454670</td>\n",
       "      <td>Other Intel Processor</td>\n",
       "      <td>500.0</td>\n",
       "      <td>0</td>\n",
       "      <td>Intel</td>\n",
       "      <td>Windows</td>\n",
       "    </tr>\n",
       "    <tr>\n",
       "      <th>622</th>\n",
       "      <td>1172</td>\n",
       "      <td>Asus</td>\n",
       "      <td>Notebook</td>\n",
       "      <td>4</td>\n",
       "      <td>2.20</td>\n",
       "      <td>9.886358</td>\n",
       "      <td>0</td>\n",
       "      <td>0</td>\n",
       "      <td>100.454670</td>\n",
       "      <td>Other Intel Processor</td>\n",
       "      <td>500.0</td>\n",
       "      <td>0</td>\n",
       "      <td>Intel</td>\n",
       "      <td>Windows</td>\n",
       "    </tr>\n",
       "  </tbody>\n",
       "</table>\n",
       "</div>"
      ],
      "text/plain": [
       "        id Company    TypeName  Ram  Weight     Price  TouchScreen  Ips  \\\n",
       "128    645  Lenovo    Notebook    4    1.43  9.588689            0    0   \n",
       "1096   645  Lenovo    Notebook    4    1.43  9.588689            0    0   \n",
       "395    212      HP    Notebook    4    2.10  9.830633            0    0   \n",
       "999    101      HP    Notebook    4    2.10  9.830633            0    0   \n",
       "422    884    Dell  &&Notebook    4    2.20  9.886358            0    0   \n",
       "622   1172    Asus    Notebook    4    2.20  9.886358            0    0   \n",
       "\n",
       "             Ppi              Cpu_brand    HDD  SSD Gpu_brand       Os  \n",
       "128   111.935204  Other Intel Processor    0.0    0     Intel  Windows  \n",
       "1096  111.935204  Other Intel Processor    0.0    0     Intel  Windows  \n",
       "395   141.211998          Intel Core i3  500.0    0     Intel   Others  \n",
       "999   141.211998          AMD Processor  500.0    0       AMD  Windows  \n",
       "422   100.454670  Other Intel Processor  500.0    0     Intel  Windows  \n",
       "622   100.454670  Other Intel Processor  500.0    0     Intel  Windows  "
      ]
     },
     "execution_count": 80,
     "metadata": {},
     "output_type": "execute_result"
    }
   ],
   "source": [
    "df.loc[df.duplicated(subset = features+['Price'], keep = False)].sort_values(by=features).head(6)"
   ]
  },
  {
   "cell_type": "code",
   "execution_count": 81,
   "metadata": {},
   "outputs": [
    {
     "data": {
      "text/plain": [
       "22"
      ]
     },
     "execution_count": 81,
     "metadata": {},
     "output_type": "execute_result"
    }
   ],
   "source": [
    "duplicated_rows = df.loc[df.duplicated(subset = features + ['Price'], keep = False)].shape[0]\n",
    "duplicated_rows"
   ]
  },
  {
   "cell_type": "code",
   "execution_count": 82,
   "metadata": {},
   "outputs": [
    {
     "name": "stdout",
     "output_type": "stream",
     "text": [
      "Duplicates %: 0.018092105263157895\n"
     ]
    }
   ],
   "source": [
    "print('Duplicates %:', (duplicated_rows / df.shape[0]))"
   ]
  },
  {
   "cell_type": "code",
   "execution_count": 65,
   "metadata": {},
   "outputs": [
    {
     "data": {
      "text/plain": [
       "<seaborn.axisgrid.PairGrid at 0x246e67e87f0>"
      ]
     },
     "execution_count": 65,
     "metadata": {},
     "output_type": "execute_result"
    },
    {
     "data": {
      "image/png": "[encoded data removed]",
      "text/plain": [
       "<Figure size 1440x288 with 5 Axes>"
      ]
     },
     "metadata": {
      "needs_background": "light"
     },
     "output_type": "display_data"
    }
   ],
   "source": [
    "sns.pairplot(df, height = 4, y_vars = 'Price', x_vars = features, kind = 'scatter')"
   ]
  },
  {
   "cell_type": "code",
   "execution_count": 66,
   "metadata": {},
   "outputs": [
    {
     "data": {
      "text/plain": [
       "<Axes: >"
      ]
     },
     "execution_count": 66,
     "metadata": {},
     "output_type": "execute_result"
    },
    {
     "data": {
      "image/png": "[encoded data removed]",
      "text/plain": [
       "<Figure size 864x720 with 2 Axes>"
      ]
     },
     "metadata": {
      "needs_background": "light"
     },
     "output_type": "display_data"
    }
   ],
   "source": [
    "plt.figure(figsize = (12, 10))\n",
    "sns.heatmap(df[features].corr(), cmap = 'vlag', vmin = -1, vmax = 1)"
   ]
  },
  {
   "cell_type": "markdown",
   "metadata": {},
   "source": [
    "## 2. Preparación de datos"
   ]
  },
  {
   "cell_type": "code",
   "execution_count": 86,
   "metadata": {},
   "outputs": [
    {
     "data": {
      "text/plain": [
       "(1170, 14)"
      ]
     },
     "execution_count": 86,
     "metadata": {},
     "output_type": "execute_result"
    }
   ],
   "source": [
    "df.shape"
   ]
  },
  {
   "cell_type": "code",
   "execution_count": 83,
   "metadata": {},
   "outputs": [],
   "source": [
    "df = df.dropna(subset = ['Price'] + features)"
   ]
  },
  {
   "cell_type": "code",
   "execution_count": null,
   "metadata": {},
   "outputs": [],
   "source": [
    "df= df.drop_duplicates(subset = features + ['Price'], inplace=True)"
   ]
  },
  {
   "cell_type": "code",
   "execution_count": 84,
   "metadata": {},
   "outputs": [
    {
     "data": {
      "text/plain": [
       "(1170, 14)"
      ]
     },
     "execution_count": 84,
     "metadata": {},
     "output_type": "execute_result"
    }
   ],
   "source": [
    "df.shape"
   ]
  },
  {
   "cell_type": "code",
   "execution_count": 87,
   "metadata": {},
   "outputs": [
    {
     "data": {
      "text/plain": [
       "Price     0.0\n",
       "Ram       0.0\n",
       "Weight    0.0\n",
       "Ppi       0.0\n",
       "HDD       0.0\n",
       "SSD       0.0\n",
       "dtype: float64"
      ]
     },
     "execution_count": 87,
     "metadata": {},
     "output_type": "execute_result"
    }
   ],
   "source": [
    "df[['Price'] + features].isnull().sum() / df.shape[0]"
   ]
  },
  {
   "cell_type": "code",
   "execution_count": 88,
   "metadata": {},
   "outputs": [
    {
     "data": {
      "text/plain": [
       "count    1170.000000\n",
       "mean       12.380936\n",
       "std        24.435044\n",
       "min         9.134616\n",
       "25%        10.402328\n",
       "50%        10.882316\n",
       "75%        11.288115\n",
       "max       499.766079\n",
       "Name: Price, dtype: float64"
      ]
     },
     "execution_count": 88,
     "metadata": {},
     "output_type": "execute_result"
    }
   ],
   "source": [
    "df.Price.describe()"
   ]
  },
  {
   "cell_type": "code",
   "execution_count": 89,
   "metadata": {},
   "outputs": [
    {
     "data": {
      "text/plain": [
       "array([ 10.08480861,  10.56311104,  11.06480418,  10.97771698,\n",
       "        11.55063273,  11.01872094,   9.83063295,  11.23748812,\n",
       "         9.26886585,  10.83096982,  11.12075716,  10.3368635 ,\n",
       "        11.14491104,   9.85888341,  11.05642892,  11.54031804,\n",
       "        10.91384551,  10.45099374,  11.51192496,   9.66929317,\n",
       "        10.65892197,  10.10461124,  11.41394456,  10.81276508,\n",
       "        11.10565954,  11.47054726,  11.73730601,  11.13017638,\n",
       "        11.21835895,  10.349205  ,  10.5108023 ,  11.55778513,\n",
       "        10.7406    ,  10.97861739,  10.34990418,  10.77684406,\n",
       "        11.57295735,  11.0222083 ,  11.77899608,  11.18267988,\n",
       "        11.54754948,  12.58788256,  11.73261217,  10.46628456,\n",
       "        10.55758617,  11.79920696,   9.99658438,  10.5344678 ,\n",
       "        10.90898405,  10.48134509,  11.219074  ,   9.77161878,\n",
       "        11.11838843,  10.59431336,  10.52521177,  12.00593479,\n",
       "        10.69578118,  11.3582826 ,  10.76565826,  11.26721724,\n",
       "        11.41335615,  11.02307825,  11.00261819,  10.77350144,\n",
       "        11.51989313,   9.47677842,   9.31789528,   9.6940679 ,\n",
       "        10.36915178,  11.28811452,  10.95935099,  11.83458801,\n",
       "        10.26713017,  11.28744719,  10.28365947,  11.2046749 ,\n",
       "         9.67265451,  10.07565574,  12.47234741,  11.35269474,\n",
       "        11.03946499,  10.16996642,  10.53941655,  10.8414521 ,\n",
       "         9.96449738,  11.41099905,  10.08258391,   9.55529085,\n",
       "        10.31944146,   9.87136783,   9.93914037,  11.91257852,\n",
       "         9.88364396,  11.23889064,   9.7089023 ,  10.96489629,\n",
       "        10.70060667,  11.03603739,  11.55778003,  10.98135005,\n",
       "        10.93685707,  10.63340518,  10.969494  ,  10.61909031,\n",
       "        11.1410545 ,  10.35398721,  11.05978745,  10.86209267,\n",
       "         9.58868913,  10.78017555,  12.03040125,  11.4217785 ,\n",
       "        11.17523937,  10.79448509,  10.29091903,  10.24843803,\n",
       "        11.52517019, 302.13740585,  10.24654946,  11.55880855,\n",
       "        11.50335501,  10.62842406,  10.40761648,  11.71579055,\n",
       "        11.90383371,  11.52464374,  10.68364511,  10.16792352,\n",
       "        11.14875277,  10.06006044,  10.79884715,  10.96857615,\n",
       "        10.18816712,  11.2719743 ,   9.60677281,  10.74290415,\n",
       "        10.60227878,  12.1806155 ,  10.43389931,  12.69144113,\n",
       "        10.12189028,  10.71962021,  11.501201  ,   9.9516581 ,\n",
       "        11.75836829,  11.93727636,  10.73132995,  10.07136307,\n",
       "        10.6664033 ,   9.63155284,  10.41969228,  11.4423605 ,\n",
       "        10.93201123,  10.8823158 ,  10.63357207,  11.89782208,\n",
       "        11.22192911,  10.32470002,  10.64632735,  10.57552676,\n",
       "        11.20322352,   9.32647084,  10.95097495,  11.22910218,\n",
       "        10.34185964,  10.49618215,  10.89523499,  10.99575173,\n",
       "        10.54642998,  10.71726172,  10.80966977,  11.00994896,\n",
       "         9.6760046 ,  10.96212749,  11.38348535,  10.58085895,\n",
       "        11.84649062,  10.26703757,  10.4036663 ,  11.34010804,\n",
       "        10.89326664,  10.85594511,  11.77531434,  11.88725155,\n",
       "        10.37082262,  10.01343195,  10.28000983,  11.51085773,\n",
       "        10.97315701,  10.37080593,  11.36820855,  11.04990644,\n",
       "        11.39793473,  10.30099468,   9.8219709 ,  10.97589549,\n",
       "        10.03468422,  10.46324504,  11.31184669,  10.46021153,\n",
       "        11.4021101 ,  11.17598592,  10.12618512,  10.43546548,\n",
       "         9.59196842,  10.47534807,  10.58221121,  10.36843246,\n",
       "        10.73249342,   9.60314617,  10.36747814,  10.60095339,\n",
       "        11.98617623,  10.94064137,  10.4805675 ,  11.62000179,\n",
       "        10.12402932,  11.1722476 ,   9.50641767,  11.04798293,\n",
       "        11.42854336,  10.79010392,  11.21190037,  11.19805405,\n",
       "        10.81931098,  10.6075628 ,  11.03087387,  11.32092587,\n",
       "        10.15970992,  11.60066817,  10.64568075,  11.01644762,\n",
       "        11.6709506 ,  10.67135994,  10.64378927,  10.19016912,\n",
       "        10.11188321,  10.83727237,  10.1065701 ,  10.62971355,\n",
       "        10.34717287,  10.16728937,  11.77530205,  10.71608039,\n",
       "        11.5638847 ,  10.3017105 ,   9.75938621,  10.77239592,\n",
       "        10.28546112,  11.19373786,  11.81447594,  11.27535839,\n",
       "        10.23634635,   9.91309723,   9.66253638,   9.64164163,\n",
       "        11.50925474,  11.67131902,   9.95949731,  11.55114568,\n",
       "        11.05878107,  10.71371352,  11.28544251,  10.35486967,\n",
       "         9.96702557,  10.33340329,  11.06563786,   9.49301392,\n",
       "        10.38737929,  11.27738337,  10.50496527,  11.91293572,\n",
       "         9.73761241,  10.69819082,  11.78198874,  11.3273609 ,\n",
       "        11.56792715,  10.05935404,  11.25418997,  10.50497986,\n",
       "        10.78900563,  11.58299213,  10.72157355,  11.68486936,\n",
       "        10.87225536,  10.86820267,   9.60318214,  11.47829924,\n",
       "        10.98677501,  11.5556994 ,  10.29879032,  11.29144453,\n",
       "        10.32993107,  11.64410812,  10.92541748,  11.86276961,\n",
       "        11.40605469,  11.11442803,  10.66017275,  10.49027372,\n",
       "        11.97120463,  11.43085951,  10.56846856,  11.59008035,\n",
       "        11.89491358,  11.00021006,  11.49796126,  10.86004768,\n",
       "        10.01257239,  11.17149825,   9.88635767,   9.59233212,\n",
       "        11.06979587,   9.92620358,  10.37747822,  10.31061528,\n",
       "        11.44121634,  10.59430001,  10.03701795,  11.57596336,\n",
       "        10.93172544,  11.39554095,  11.03431918,  11.62477735,\n",
       "        11.45880544,  10.05090706,  11.39613993,  11.74620626,\n",
       "         9.93398572,  10.87326597,  10.00383955,  10.39880799,\n",
       "         9.53624266,  10.58894524,  10.8537845 ,   9.47681924,\n",
       "        11.9815952 ,  10.93115363,  10.58760206,  10.64735344,\n",
       "        10.1760702 ,  10.99656463,  10.45253339,  10.81289384,\n",
       "        11.83844306,  10.87124372,  11.23865235,  11.12939483,\n",
       "        10.5766145 ,  11.76211283,  11.00464859,  10.372324  ,\n",
       "         9.51682457,  10.89227605,  11.73773163,  10.59829735,\n",
       "        10.88331631,  11.60110732,  11.40151468,  11.63567535,\n",
       "        11.089509  ,  10.90017342,  10.39718329,  11.06146249,\n",
       "        11.70215296,  10.96027735,  11.3774026 ,  10.56723476,\n",
       "        10.23296038,  10.22746491,   9.96452244,  10.7543573 ,\n",
       "        11.29542596,  11.17971032,  10.55342238,   9.69914613,\n",
       "        10.62084704,  10.90212825,  11.94768216,  10.44790732,\n",
       "        10.75434592,  10.37581847,  11.44293209,  10.96397421,\n",
       "        10.91190376,  10.62195154,  11.45429585, 499.7660791 ,\n",
       "        10.14726162,  11.59675619,  10.27478597,  11.59920297,\n",
       "         9.96201303,  10.69094441,  11.19739685, 418.32934676,\n",
       "        11.56134985,  10.55525658,  11.03061499,  11.44863011,\n",
       "        11.43620667,   9.65231483,  11.21262005,  11.1552424 ,\n",
       "         9.57627665,  10.50468785,  11.38409159,  10.53808986,\n",
       "         9.75630454,  11.55062759,   9.82488581,  10.65264449,\n",
       "        10.69939347,  11.29621373,  11.5834391 ,  11.11283946,\n",
       "        11.27992229,  11.69380198,  10.93019989,  11.38711731,\n",
       "        11.17575455,   9.75008152,  11.02655047,  11.82293286,\n",
       "        10.06641832,  11.1231203 ,   9.98927618,  10.66763236,\n",
       "        11.37128263,  11.53824227,  10.80859276,  10.74978491,\n",
       "        10.39555595,  11.28878141,  10.56586207,  11.14414092,\n",
       "        10.70418964,  11.92147062,  10.94204737,  11.07641294,\n",
       "        11.21975283,  10.58491027,  10.74405424,  10.70777173,\n",
       "        11.31340248,   9.77465368,  11.22477608,   9.97449759,\n",
       "        10.43544983,   9.82776351,  11.60134145,  10.00359855,\n",
       "        10.51947287,  10.8214409 ,  11.27332931,  11.39733682,\n",
       "        11.62048037,  11.52674789,  10.14703195,  11.72703634,\n",
       "         9.25367569,  10.07138559,  11.68979217,  11.12154549,\n",
       "        11.34767905,  11.08951714,  10.43075959,  10.75548293,\n",
       "         9.58136309,  10.54514062,   9.90248705,  11.71489846,\n",
       "        10.98316164,  12.01471842,  10.65766962,  10.93140146,\n",
       "        10.84249431,  11.31119501,  11.80320057,  10.68236224,\n",
       "         9.80156113,  11.18229434,  10.37065567,  10.03000037,\n",
       "        10.97407067,  10.66764477,  10.77673282,  10.07116034,\n",
       "        10.64634002,  11.2712961 ,  11.08134716,   9.63817422,\n",
       "        11.30793023,  12.36241772,  11.42184853,  10.65768215,\n",
       "         9.81907646,  10.51801858,  10.99395387,  10.12616379,\n",
       "        10.31238676,  11.1433625 ,  10.39328954,  11.16623706,\n",
       "        11.50810434,  11.91783442,  11.29741074,  10.32644674,\n",
       "        11.15715297,  11.14951935,  10.52949443,  10.82462731,\n",
       "        11.30107224,  11.13950771,  10.81610756,  10.35568356,\n",
       "        10.97498349,  11.32864295,   9.52852061,  11.22619654,\n",
       "        11.3761816 ,  10.59563423,  11.49579558,  10.94158521,\n",
       "        10.94436437,  11.06313473,   9.40928303,  11.5608421 ,\n",
       "        11.52936664,   9.95444679,   9.57027241,  10.61412882,\n",
       "        11.50657736,  11.2402912 ,  10.90115622,  12.13579352,\n",
       "         9.38720708,  11.21906685,  10.67259527,  11.16321819,\n",
       "        11.48215281,  10.78790612,  11.04883074,  10.08702837,\n",
       "        11.50281695,  11.76667054,  11.45033321,  11.45090026,\n",
       "        11.18932933,  11.00582593,  11.25481089,  10.92871023,\n",
       "        10.1861611 , 222.23980889,  11.27468249,  11.80161302,\n",
       "        10.71667123,  11.2332687 ,  11.01008111,  10.8832163 ,\n",
       "        11.47310097,  11.03860919,  10.71015269,  11.01609742,\n",
       "        11.45373072,  10.8813143 ,  11.05390261,  10.27757542,\n",
       "        10.20800904,  11.0178472 ,   9.81620268,  11.50442491,\n",
       "        11.83497418,  10.11974666,  11.72918457,  10.47233602,\n",
       "        10.46019626,  11.3432696 ,  10.39392596,  11.27272655,\n",
       "        10.8812141 ,  10.16976231,  10.77795579,  10.40365014,\n",
       "        11.65883579,  10.75661865,  10.84353544,  11.13407502,\n",
       "        10.72067972,  12.25687997,  10.2652766 ,  10.63485495,\n",
       "        10.91383581,  12.16113419,  10.77238474,  11.06229896,\n",
       "        11.26517155,  11.60061937,  10.4467784 ,   9.91573228,\n",
       "         9.13461633,  11.54342363,  11.93343838,   9.53238909,\n",
       "        10.8631136 ,  11.71186376,  11.35331993,  11.28209243,\n",
       "        10.67629214,  11.94279268,  11.1834209 ,  11.03772695,\n",
       "        11.07145425,  11.16774308,  11.08154402,  11.12626248,\n",
       "         9.87518437,  11.62684286,  11.14568057,  11.28141434,\n",
       "        11.19300446,  11.77736143,  10.73134159,   9.88092287,\n",
       "         9.69258873,  10.78528442,  11.26038194,  11.28396986,\n",
       "        11.45711673,   9.92880436,  11.21118017,  11.10586768,\n",
       "        10.15346365,   9.96324343,  10.07811962,  11.8483972 ,\n",
       "        12.0000959 ,  10.50351894,  10.53397157,  10.91067852,\n",
       "        11.40804483,  10.43515244,  11.59085937,  11.50871983,\n",
       "         9.64198771,  10.64124474,  10.57814892,  11.88100268,\n",
       "        11.64878415,  10.9453517 ,  10.43687294,  10.65138425,\n",
       "        10.11759843,  10.99308509,  10.88531431,  10.79174911,\n",
       "        10.46629974,  11.08997269,  10.92733319,  11.0581096 ,\n",
       "        10.77677732,  11.11601407,  11.12390677,  11.27007419,\n",
       "        10.51370085,  12.02988349,  10.14305655,  10.65390314,\n",
       "        10.43548113,   9.28827427,  10.23111911,  11.87619764,\n",
       "        10.18011879,  10.69698673,  11.69602272,  10.65693   ,\n",
       "        12.0769357 ,  11.65035036,  11.07393666,  10.40188766,\n",
       "        11.62262162,  10.09739572,  11.64178295,  11.05342188,\n",
       "        11.44716313,  12.03198779,  10.70490709,  11.6083981 ,\n",
       "        11.01828417,  12.26334105,  11.48489629, 417.85950982,\n",
       "        10.76001809,  11.2678982 ,  11.34705032,  10.620652  ,\n",
       "        10.74291566,  10.83307509,  12.05888964,  10.89316762,\n",
       "        10.23221277,  10.82250417,  11.11633098,  11.4816032 ,\n",
       "        11.46999124,  10.16790307,  10.57543153,  10.72908062,\n",
       "        11.05474542,  11.31444916,  11.76501559,  11.52937188,\n",
       "        11.51299106,  10.42128085,  10.62193855,  10.65514765,\n",
       "        10.90311893,  12.24172546,  10.1879667 ,  11.58888601,\n",
       "         9.23253543,  11.77940433,  11.73303979,  10.3192657 ,\n",
       "         9.8666526 ,  11.60164378,  11.26175274,  11.75753426,\n",
       "        11.08544049,  10.73829053,  11.59626611,   9.97573751,\n",
       "        11.01675394,  11.21692731,  11.68352256,  11.35206915,\n",
       "        10.99485768,  10.89377146,   9.95061668])"
      ]
     },
     "execution_count": 89,
     "metadata": {},
     "output_type": "execute_result"
    }
   ],
   "source": [
    "df.Price.unique()"
   ]
  },
  {
   "cell_type": "code",
   "execution_count": 90,
   "metadata": {},
   "outputs": [
    {
     "data": {
      "image/png": "[encoded data removed]",
      "text/plain": [
       "<Figure size 7200x432 with 1 Axes>"
      ]
     },
     "metadata": {
      "needs_background": "light"
     },
     "output_type": "display_data"
    }
   ],
   "source": [
    "plt.figure(figsize=(100, 6))\n",
    "sns.countplot(y='Price', data=df)\n",
    "plt.show()"
   ]
  },
  {
   "cell_type": "code",
   "execution_count": 91,
   "metadata": {},
   "outputs": [
    {
     "data": {
      "image/png": "[encoded data removed]",
      "text/plain": [
       "<Figure size 1440x576 with 1 Axes>"
      ]
     },
     "metadata": {
      "needs_background": "light"
     },
     "output_type": "display_data"
    }
   ],
   "source": [
    "fig=plt.figure(figsize=(20,8))\n",
    "ax = sns.boxplot(data=df['Price'], orient=\"h\")"
   ]
  },
  {
   "cell_type": "markdown",
   "metadata": {},
   "source": [
    "## 3. Particionamiento del conjunto de datos en entrenamiento y prueba"
   ]
  },
  {
   "cell_type": "code",
   "execution_count": null,
   "metadata": {},
   "outputs": [],
   "source": [
    "X_train, X_test, y_train, y_test = train_test_split(df[features], df[\"Price\"], test_size=0.3, random_state=1)"
   ]
  },
  {
   "cell_type": "code",
   "execution_count": null,
   "metadata": {},
   "outputs": [],
   "source": [
    "X_train.shape, y_train.shape"
   ]
  },
  {
   "cell_type": "code",
   "execution_count": null,
   "metadata": {},
   "outputs": [],
   "source": [
    "X_test.shape, y_test.shape  "
   ]
  },
  {
   "cell_type": "markdown",
   "metadata": {},
   "source": [
    "## 4. Entrenamiento de un primer modelo de regresión lineal\n"
   ]
  },
  {
   "cell_type": "code",
   "execution_count": null,
   "metadata": {},
   "outputs": [],
   "source": [
    "regression= LinearRegression()  "
   ]
  },
  {
   "cell_type": "code",
   "execution_count": null,
   "metadata": {},
   "outputs": [],
   "source": [
    "regression.fit(X_train, y_train)"
   ]
  },
  {
   "cell_type": "markdown",
   "metadata": {},
   "source": [
    "## 5. Interpretación de los coeficientes y del intercepto"
   ]
  },
  {
   "cell_type": "code",
   "execution_count": null,
   "metadata": {},
   "outputs": [],
   "source": [
    "pd.DataFrame({'features': features, 'coef': regression.coef_})  "
   ]
  },
  {
   "cell_type": "code",
   "execution_count": null,
   "metadata": {},
   "outputs": [],
   "source": [
    "regression.intercept_"
   ]
  },
  {
   "cell_type": "code",
   "execution_count": null,
   "metadata": {},
   "outputs": [],
   "source": [
    "f, axs = plt.subplots(1, len(features), sharey=True, figsize=(20, 4))\n",
    "\n",
    "for i in range(len(features)):\n",
    "    col = features[i]\n",
    "    x = X_train[col]\n",
    "    m = regression.coef_[i]\n",
    "    b = regression.intercept_\n",
    "\n",
    "    axs[i].plot(x, y_train, \"o\", alpha=0.1)\n",
    "    axs[i].plot(x, x * m + b)\n",
    "    axs[i].set_title(col)"
   ]
  },
  {
   "cell_type": "markdown",
   "metadata": {},
   "source": [
    "### 4.2. Validación (evaluación) del modelo"
   ]
  },
  {
   "cell_type": "markdown",
   "metadata": {},
   "source": [
    "**Mean Absolute Error (MAE)**"
   ]
  },
  {
   "cell_type": "code",
   "execution_count": null,
   "metadata": {},
   "outputs": [],
   "source": [
    "print(\"Train:\", mean_absolute_error(y_train, regression.predict(X_train)))\n",
    "print(\"Test:\", mean_absolute_error(y_test, regression.predict(X_test)))"
   ]
  },
  {
   "cell_type": "markdown",
   "metadata": {},
   "source": [
    "**Root Mean Squeared Error (RMSE)**"
   ]
  },
  {
   "cell_type": "code",
   "execution_count": null,
   "metadata": {},
   "outputs": [],
   "source": [
    "print(\"Train:\", np.sqrt(mean_squared_error(y_train, regression.predict(X_train))))\n",
    "print(\"Test:\", np.sqrt(mean_squared_error(y_test, regression.predict(X_test))))"
   ]
  },
  {
   "cell_type": "markdown",
   "metadata": {},
   "source": [
    "**Análisis del error**"
   ]
  },
  {
   "cell_type": "code",
   "execution_count": null,
   "metadata": {},
   "outputs": [],
   "source": [
    "plt.figure(figsize=(20, 3))\n",
    "sns.boxplot(x=y_test, showmeans=True, orient=\"h\")\n",
    "plt.title(\"Valor real de $\\t{Price}$ en el conjunto de prueba\")\n",
    "plt.grid()\n",
    "plt.show()"
   ]
  },
  {
   "cell_type": "code",
   "execution_count": null,
   "metadata": {},
   "outputs": [],
   "source": [
    "y_test.describe(percentiles=[0.25, 0.5, 0.75, 0.99])"
   ]
  },
  {
   "cell_type": "markdown",
   "metadata": {},
   "source": [
    "## 6. Entrenamiento de un segundo modelo aplicando normalización"
   ]
  },
  {
   "cell_type": "code",
   "execution_count": null,
   "metadata": {},
   "outputs": [],
   "source": [
    "pipeline = Pipeline(\n",
    "    [\n",
    "        (\"scaler\", StandardScaler()),\n",
    "        (\"model\", LinearRegression())\n",
    "    ]\n",
    ")"
   ]
  },
  {
   "cell_type": "code",
   "execution_count": null,
   "metadata": {},
   "outputs": [],
   "source": [
    "pipeline.fit(X_train, y_train)"
   ]
  },
  {
   "cell_type": "code",
   "execution_count": null,
   "metadata": {},
   "outputs": [],
   "source": [
    "pd.DataFrame({'features': features, 'coef': pipeline['model'].coef_})"
   ]
  },
  {
   "cell_type": "code",
   "execution_count": null,
   "metadata": {},
   "outputs": [],
   "source": [
    "pipeline['model'].intercept_"
   ]
  },
  {
   "cell_type": "code",
   "execution_count": null,
   "metadata": {},
   "outputs": [],
   "source": [
    "y_train.mean(), y_test.mean()"
   ]
  },
  {
   "cell_type": "code",
   "execution_count": null,
   "metadata": {},
   "outputs": [],
   "source": [
    "print(\"MAE:\")\n",
    "print(\"Train:\", mean_absolute_error(y_train, pipeline.predict(X_train)))\n",
    "print(\"Test:\", mean_absolute_error(y_test, pipeline.predict(X_test)))\n",
    "print(\"\\nRMSE:\")\n",
    "print(\"Train:\", np.sqrt(mean_squared_error(y_train, pipeline.predict(X_train))))\n",
    "print(\"Test:\", np.sqrt(mean_squared_error(y_test, pipeline.predict(X_test))))\n"
   ]
  },
  {
   "cell_type": "markdown",
   "metadata": {},
   "source": [
    "7.1 Colinealidad"
   ]
  },
  {
   "cell_type": "code",
   "execution_count": null,
   "metadata": {},
   "outputs": [],
   "source": [
    "plt.figure(figsize=(12, 10))\n",
    "sns.heatmap(X_train.corr(), cmap=\"Blues\", vmin=0, vmax=1)"
   ]
  },
  {
   "cell_type": "code",
   "execution_count": null,
   "metadata": {},
   "outputs": [],
   "source": [
    "X_train.corr()"
   ]
  },
  {
   "cell_type": "code",
   "execution_count": null,
   "metadata": {},
   "outputs": [],
   "source": []
  }
 ],
 "metadata": {
  "kernelspec": {
   "display_name": "Python 3",
   "language": "python",
   "name": "python3"
  },
  "language_info": {
   "codemirror_mode": {
    "name": "ipython",
    "version": 3
   },
   "file_extension": ".py",
   "mimetype": "text/x-python",
   "name": "python",
   "nbconvert_exporter": "python",
   "pygments_lexer": "ipython3",
   "version": "3.9.0"
  },
  "orig_nbformat": 4
 },
 "nbformat": 4,
 "nbformat_minor": 2
}
