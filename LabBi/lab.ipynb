{
 "cells": [
  {
   "cell_type": "markdown",
   "metadata": {},
   "source": [
    "# Lab Bi\n"
   ]
  },
  {
   "cell_type": "code",
   "execution_count": 2,
   "metadata": {},
   "outputs": [],
   "source": [
    "import pandas as pd\n",
    "import matplotlib.pyplot as plt\n",
    "import seaborn as sns\n"
   ]
  },
  {
   "cell_type": "markdown",
   "metadata": {},
   "source": [
    "## 1. Entendimiento de los datos\n",
    "\n",
    "En esta etapa es importante saber si los datos son o no suficientes para el alcance del proyecto y, en caso de serlo, entender bien sus características para poder definir el camino de limpieza y preparación para lograr el objetivo del proyecto.\n",
    "En particular, es importante realizar un perfilamiento completo que incluya lo descrito en el manterial del curso -ver infografía de entendimiento de datos-, donde se incluye estadística descriptiva y gráficos sobre los datos, señalando sus principales estadísticos: media, varianza, desviación estándar, etc., para el caso de las columnas numéricas. En caso de datos categóricos recuerde que es importante conocer las categorías y en qué proporción se presentan. Tener en cuenta que una parte fundamental de esta etapa está relacionada con el análisis a nivel de calidad de datos y, en particular, a nivel de las dimensiones de calidad (completitud, unicidad, consistencia, validez) para identificar las actividades de preparación que requieren los datos."
   ]
  },
  {
   "cell_type": "code",
   "execution_count": 36,
   "metadata": {},
   "outputs": [],
   "source": [
    "df = pd.read_csv('./data/data.csv', sep=';')"
   ]
  },
  {
   "cell_type": "code",
   "execution_count": 37,
   "metadata": {},
   "outputs": [
    {
     "data": {
      "text/plain": [
       "(7471, 18)"
      ]
     },
     "execution_count": 37,
     "metadata": {},
     "output_type": "execute_result"
    }
   ],
   "source": [
    "df.shape"
   ]
  },
  {
   "cell_type": "code",
   "execution_count": 38,
   "metadata": {},
   "outputs": [
    {
     "data": {
      "text/html": [
       "<div>\n",
       "<style scoped>\n",
       "    .dataframe tbody tr th:only-of-type {\n",
       "        vertical-align: middle;\n",
       "    }\n",
       "\n",
       "    .dataframe tbody tr th {\n",
       "        vertical-align: top;\n",
       "    }\n",
       "\n",
       "    .dataframe thead th {\n",
       "        text-align: right;\n",
       "    }\n",
       "</style>\n",
       "<table border=\"1\" class=\"dataframe\">\n",
       "  <thead>\n",
       "    <tr style=\"text-align: right;\">\n",
       "      <th></th>\n",
       "      <th>#</th>\n",
       "      <th>index</th>\n",
       "      <th>tconst</th>\n",
       "      <th>titleType</th>\n",
       "      <th>originalTitle</th>\n",
       "      <th>isAdult</th>\n",
       "      <th>startYear</th>\n",
       "      <th>runtimeMinutes</th>\n",
       "      <th>averageRating</th>\n",
       "      <th>numVotes</th>\n",
       "      <th>ordering</th>\n",
       "      <th>region</th>\n",
       "      <th>language</th>\n",
       "      <th>types</th>\n",
       "      <th>attributes</th>\n",
       "      <th>isOriginalTitle</th>\n",
       "      <th>main_genre</th>\n",
       "      <th>secondary_genre</th>\n",
       "    </tr>\n",
       "  </thead>\n",
       "  <tbody>\n",
       "    <tr>\n",
       "      <th>387</th>\n",
       "      <td>656</td>\n",
       "      <td>1219</td>\n",
       "      <td>tt0259534</td>\n",
       "      <td>movie</td>\n",
       "      <td>Ramayana: The Legend of Prince Rama</td>\n",
       "      <td>0.0</td>\n",
       "      <td>1993.0</td>\n",
       "      <td>135</td>\n",
       "      <td>92.0</td>\n",
       "      <td>11754.0</td>\n",
       "      <td>4.0</td>\n",
       "      <td>IN</td>\n",
       "      <td>en</td>\n",
       "      <td>imdbDisplay</td>\n",
       "      <td>\\N</td>\n",
       "      <td>0.0</td>\n",
       "      <td>Action</td>\n",
       "      <td>Adventure</td>\n",
       "    </tr>\n",
       "    <tr>\n",
       "      <th>3821</th>\n",
       "      <td>4120</td>\n",
       "      <td>5536</td>\n",
       "      <td>tt3396910</td>\n",
       "      <td>movie</td>\n",
       "      <td>Banshee</td>\n",
       "      <td>0.0</td>\n",
       "      <td>2013.0</td>\n",
       "      <td>50</td>\n",
       "      <td>8.5</td>\n",
       "      <td>11340.0</td>\n",
       "      <td>16.0</td>\n",
       "      <td>IN</td>\n",
       "      <td>en</td>\n",
       "      <td>imdbDisplay</td>\n",
       "      <td>\\N</td>\n",
       "      <td>0.0</td>\n",
       "      <td>Action</td>\n",
       "      <td>No tiene</td>\n",
       "    </tr>\n",
       "    <tr>\n",
       "      <th>5749</th>\n",
       "      <td>6108</td>\n",
       "      <td>8014</td>\n",
       "      <td>tt0180241</td>\n",
       "      <td>tvSeries</td>\n",
       "      <td>Tenacious D</td>\n",
       "      <td>0.0</td>\n",
       "      <td>1997.0</td>\n",
       "      <td>30</td>\n",
       "      <td>8.1</td>\n",
       "      <td>3801.0</td>\n",
       "      <td>2.0</td>\n",
       "      <td>CA</td>\n",
       "      <td>en</td>\n",
       "      <td>imdbDisplay</td>\n",
       "      <td>\\N</td>\n",
       "      <td>0.0</td>\n",
       "      <td>Comedy</td>\n",
       "      <td>Music</td>\n",
       "    </tr>\n",
       "    <tr>\n",
       "      <th>6066</th>\n",
       "      <td>6431</td>\n",
       "      <td>8469</td>\n",
       "      <td>tt0417397</td>\n",
       "      <td>movie</td>\n",
       "      <td>9 rota</td>\n",
       "      <td>0.0</td>\n",
       "      <td>2005.0</td>\n",
       "      <td>139</td>\n",
       "      <td>7.1</td>\n",
       "      <td>21277.0</td>\n",
       "      <td>19.0</td>\n",
       "      <td>CA</td>\n",
       "      <td>en</td>\n",
       "      <td>imdbDisplay</td>\n",
       "      <td>\\N</td>\n",
       "      <td>0.0</td>\n",
       "      <td>Action</td>\n",
       "      <td>Drama</td>\n",
       "    </tr>\n",
       "    <tr>\n",
       "      <th>269</th>\n",
       "      <td>535</td>\n",
       "      <td>1067</td>\n",
       "      <td>tt0195685</td>\n",
       "      <td>movie</td>\n",
       "      <td>Erin Brockovich</td>\n",
       "      <td>0.0</td>\n",
       "      <td>2000.0</td>\n",
       "      <td>131</td>\n",
       "      <td>7.4</td>\n",
       "      <td>208262.0</td>\n",
       "      <td>27.0</td>\n",
       "      <td>IN</td>\n",
       "      <td>en</td>\n",
       "      <td>imdbDisplay</td>\n",
       "      <td>\\N</td>\n",
       "      <td>0.0</td>\n",
       "      <td>Biography</td>\n",
       "      <td>Drama</td>\n",
       "    </tr>\n",
       "  </tbody>\n",
       "</table>\n",
       "</div>"
      ],
      "text/plain": [
       "         #  index     tconst titleType                        originalTitle  \\\n",
       "387    656   1219  tt0259534     movie  Ramayana: The Legend of Prince Rama   \n",
       "3821  4120   5536  tt3396910     movie                              Banshee   \n",
       "5749  6108   8014  tt0180241  tvSeries                          Tenacious D   \n",
       "6066  6431   8469  tt0417397     movie                               9 rota   \n",
       "269    535   1067  tt0195685     movie                      Erin Brockovich   \n",
       "\n",
       "      isAdult  startYear runtimeMinutes  averageRating  numVotes  ordering  \\\n",
       "387       0.0     1993.0            135           92.0   11754.0       4.0   \n",
       "3821      0.0     2013.0             50            8.5   11340.0      16.0   \n",
       "5749      0.0     1997.0             30            8.1    3801.0       2.0   \n",
       "6066      0.0     2005.0            139            7.1   21277.0      19.0   \n",
       "269       0.0     2000.0            131            7.4  208262.0      27.0   \n",
       "\n",
       "     region language        types attributes  isOriginalTitle main_genre  \\\n",
       "387      IN       en  imdbDisplay         \\N              0.0     Action   \n",
       "3821     IN       en  imdbDisplay         \\N              0.0     Action   \n",
       "5749     CA       en  imdbDisplay         \\N              0.0     Comedy   \n",
       "6066     CA       en  imdbDisplay         \\N              0.0     Action   \n",
       "269      IN       en  imdbDisplay         \\N              0.0  Biography   \n",
       "\n",
       "     secondary_genre  \n",
       "387        Adventure  \n",
       "3821        No tiene  \n",
       "5749           Music  \n",
       "6066           Drama  \n",
       "269            Drama  "
      ]
     },
     "execution_count": 38,
     "metadata": {},
     "output_type": "execute_result"
    }
   ],
   "source": [
    "df.sample(5)"
   ]
  },
  {
   "cell_type": "markdown",
   "metadata": {},
   "source": [
    "## 2. Preparación de datos\n",
    "\n",
    "Es el procedimiento llevado a cabo para transformar los valores actuales de acuerdo con el objetivo de negocio a resolver, las técnicas y algoritmos a utilizar, y la calidad de los datos. Incluye la limpieza de los datos, como el manejo de los datos nulos (missing values) y los valores atípicos (outliers) con la justificación respectiva."
   ]
  },
  {
   "cell_type": "code",
   "execution_count": 41,
   "metadata": {},
   "outputs": [
    {
     "data": {
      "text/plain": [
       "numVotes           0.000134\n",
       "ordering           0.000134\n",
       "main_genre         0.000134\n",
       "isOriginalTitle    0.000134\n",
       "attributes         0.000134\n",
       "types              0.000134\n",
       "language           0.000134\n",
       "region             0.000134\n",
       "secondary_genre    0.000134\n",
       "averageRating      0.000134\n",
       "runtimeMinutes     0.000134\n",
       "startYear          0.000134\n",
       "isAdult            0.000134\n",
       "index              0.000000\n",
       "originalTitle      0.000000\n",
       "titleType          0.000000\n",
       "tconst             0.000000\n",
       "#                  0.000000\n",
       "dtype: float64"
      ]
     },
     "execution_count": 41,
     "metadata": {},
     "output_type": "execute_result"
    }
   ],
   "source": [
    "(df.isnull().sum() / df.shape[0]).sort_values(ascending = False)"
   ]
  },
  {
   "cell_type": "markdown",
   "metadata": {},
   "source": [
    "Ya que a priori se ve que los datos de todas las columnas tienen alto nivel de completitud pasaremos a analizar las columnas teniendo en cuenta los datos del diccionario de datos que nos pasaron"
   ]
  },
  {
   "cell_type": "code",
   "execution_count": 42,
   "metadata": {},
   "outputs": [
    {
     "data": {
      "text/plain": [
       "array(['movie', 'tvSeries', 'MOVIE', 'tvMiniSeries', 'MOvie', 'Movie',\n",
       "       'tvMovie'], dtype=object)"
      ]
     },
     "execution_count": 42,
     "metadata": {},
     "output_type": "execute_result"
    }
   ],
   "source": [
    "df.titleType.unique()"
   ]
  },
  {
   "cell_type": "markdown",
   "metadata": {},
   "source": [
    "En el diccionario de datos se nos dice lo siguiente sobre la columna de titleType, Tipo de contenido (movie, tvSeries, tvMiniSeries, tvMovie), al comparar nos damos cuenta de que hay datos  pero escritos de manera diferente, como MOVIE y MOvie, esto es lo mismo que movie pero al estar escrito diferente queda como si fuese una categoria diferente, es por esto que cambiaremos esos datos para que queden solo los tipos que se nos dieron en el diccionario de datos"
   ]
  },
  {
   "cell_type": "code",
   "execution_count": 43,
   "metadata": {},
   "outputs": [
    {
     "data": {
      "text/plain": [
       "array(['movie', 'tvseries', 'tvminiseries', 'tvmovie'], dtype=object)"
      ]
     },
     "execution_count": 43,
     "metadata": {},
     "output_type": "execute_result"
    }
   ],
   "source": [
    "df.titleType = df.titleType.str.lower()\n",
    "df.titleType.unique()"
   ]
  },
  {
   "cell_type": "markdown",
   "metadata": {},
   "source": [
    "Como vemos ahora los datos de titleType se encuentran en el formato correcto"
   ]
  },
  {
   "cell_type": "code",
   "execution_count": 45,
   "metadata": {},
   "outputs": [
    {
     "name": "stdout",
     "output_type": "stream",
     "text": [
      "[ 0. nan] 0       0.0\n",
      "1       0.0\n",
      "2       0.0\n",
      "3       0.0\n",
      "4       0.0\n",
      "       ... \n",
      "7466    0.0\n",
      "7467    0.0\n",
      "7468    0.0\n",
      "7469    0.0\n",
      "7470    0.0\n",
      "Name: isOriginalTitle, Length: 7471, dtype: float64\n"
     ]
    }
   ],
   "source": [
    "print(df.isAdult.unique(), df.isOriginalTitle)"
   ]
  },
  {
   "cell_type": "markdown",
   "metadata": {},
   "source": [
    "Como vemos las columnas de isAdult y "
   ]
  },
  {
   "cell_type": "markdown",
   "metadata": {},
   "source": [
    "Al analizar la columna isAdult vemos que "
   ]
  },
  {
   "cell_type": "code",
   "execution_count": 34,
   "metadata": {},
   "outputs": [],
   "source": [
    "df = df.drop(['#', 'index', 'isAdult', 'attributes', 'isOriginalTitle', 'language'], axis=1)"
   ]
  },
  {
   "cell_type": "code",
   "execution_count": 29,
   "metadata": {},
   "outputs": [
    {
     "data": {
      "text/plain": [
       "array(['movie', 'tvSeries', 'MOVIE', 'tvMiniSeries', 'MOvie', 'Movie',\n",
       "       'tvMovie'], dtype=object)"
      ]
     },
     "execution_count": 29,
     "metadata": {},
     "output_type": "execute_result"
    }
   ],
   "source": [
    "df.titleType.unique()"
   ]
  },
  {
   "cell_type": "code",
   "execution_count": 31,
   "metadata": {},
   "outputs": [
    {
     "data": {
      "text/plain": [
       "array(['movie', 'tvseries', 'tvminiseries', 'tvmovie'], dtype=object)"
      ]
     },
     "execution_count": 31,
     "metadata": {},
     "output_type": "execute_result"
    }
   ],
   "source": [
    "df.titleType.unique()"
   ]
  },
  {
   "cell_type": "code",
   "execution_count": 35,
   "metadata": {},
   "outputs": [
    {
     "data": {
      "text/html": [
       "<div>\n",
       "<style scoped>\n",
       "    .dataframe tbody tr th:only-of-type {\n",
       "        vertical-align: middle;\n",
       "    }\n",
       "\n",
       "    .dataframe tbody tr th {\n",
       "        vertical-align: top;\n",
       "    }\n",
       "\n",
       "    .dataframe thead th {\n",
       "        text-align: right;\n",
       "    }\n",
       "</style>\n",
       "<table border=\"1\" class=\"dataframe\">\n",
       "  <thead>\n",
       "    <tr style=\"text-align: right;\">\n",
       "      <th></th>\n",
       "      <th>tconst</th>\n",
       "      <th>titleType</th>\n",
       "      <th>originalTitle</th>\n",
       "      <th>startYear</th>\n",
       "      <th>runtimeMinutes</th>\n",
       "      <th>averageRating</th>\n",
       "      <th>numVotes</th>\n",
       "      <th>ordering</th>\n",
       "      <th>region</th>\n",
       "      <th>types</th>\n",
       "      <th>main_genre</th>\n",
       "      <th>secondary_genre</th>\n",
       "    </tr>\n",
       "  </thead>\n",
       "  <tbody>\n",
       "    <tr>\n",
       "      <th>5185</th>\n",
       "      <td>tt7988304</td>\n",
       "      <td>tvseries</td>\n",
       "      <td>The Young Offenders</td>\n",
       "      <td>2018.0</td>\n",
       "      <td>30</td>\n",
       "      <td>8.0</td>\n",
       "      <td>4393.0</td>\n",
       "      <td>6.0</td>\n",
       "      <td>IN</td>\n",
       "      <td>imdbDisplay</td>\n",
       "      <td>Comedy</td>\n",
       "      <td>No tiene</td>\n",
       "    </tr>\n",
       "    <tr>\n",
       "      <th>4254</th>\n",
       "      <td>tt4834206</td>\n",
       "      <td>tvseries</td>\n",
       "      <td>A Series of Unfortunate Events</td>\n",
       "      <td>2017.0</td>\n",
       "      <td>50</td>\n",
       "      <td>7.8</td>\n",
       "      <td>64028.0</td>\n",
       "      <td>48.0</td>\n",
       "      <td>IN</td>\n",
       "      <td>imdbDisplay</td>\n",
       "      <td>Adventure</td>\n",
       "      <td>Comedy</td>\n",
       "    </tr>\n",
       "    <tr>\n",
       "      <th>1970</th>\n",
       "      <td>tt1241325</td>\n",
       "      <td>movie</td>\n",
       "      <td>Objectified</td>\n",
       "      <td>2009.0</td>\n",
       "      <td>75</td>\n",
       "      <td>7.0</td>\n",
       "      <td>3678.0</td>\n",
       "      <td>5.0</td>\n",
       "      <td>IN</td>\n",
       "      <td>imdbDisplay</td>\n",
       "      <td>Documentary</td>\n",
       "      <td>No tiene</td>\n",
       "    </tr>\n",
       "    <tr>\n",
       "      <th>7406</th>\n",
       "      <td>tt8168186</td>\n",
       "      <td>tvmovie</td>\n",
       "      <td>Jonas</td>\n",
       "      <td>2018.0</td>\n",
       "      <td>82</td>\n",
       "      <td>7.0</td>\n",
       "      <td>6600.0</td>\n",
       "      <td>9.0</td>\n",
       "      <td>CA</td>\n",
       "      <td>imdbDisplay</td>\n",
       "      <td>Drama</td>\n",
       "      <td>Mystery</td>\n",
       "    </tr>\n",
       "    <tr>\n",
       "      <th>770</th>\n",
       "      <td>tt0391304</td>\n",
       "      <td>movie</td>\n",
       "      <td>A Lot Like Love</td>\n",
       "      <td>2005.0</td>\n",
       "      <td>107</td>\n",
       "      <td>6.6</td>\n",
       "      <td>70400.0</td>\n",
       "      <td>20.0</td>\n",
       "      <td>IN</td>\n",
       "      <td>imdbDisplay</td>\n",
       "      <td>Comedy</td>\n",
       "      <td>Drama</td>\n",
       "    </tr>\n",
       "  </tbody>\n",
       "</table>\n",
       "</div>"
      ],
      "text/plain": [
       "         tconst titleType                   originalTitle  startYear  \\\n",
       "5185  tt7988304  tvseries             The Young Offenders     2018.0   \n",
       "4254  tt4834206  tvseries  A Series of Unfortunate Events     2017.0   \n",
       "1970  tt1241325     movie                     Objectified     2009.0   \n",
       "7406  tt8168186   tvmovie                           Jonas     2018.0   \n",
       "770   tt0391304     movie                 A Lot Like Love     2005.0   \n",
       "\n",
       "     runtimeMinutes  averageRating  numVotes  ordering region        types  \\\n",
       "5185             30            8.0    4393.0       6.0     IN  imdbDisplay   \n",
       "4254             50            7.8   64028.0      48.0     IN  imdbDisplay   \n",
       "1970             75            7.0    3678.0       5.0     IN  imdbDisplay   \n",
       "7406             82            7.0    6600.0       9.0     CA  imdbDisplay   \n",
       "770             107            6.6   70400.0      20.0     IN  imdbDisplay   \n",
       "\n",
       "       main_genre secondary_genre  \n",
       "5185       Comedy        No tiene  \n",
       "4254    Adventure          Comedy  \n",
       "1970  Documentary        No tiene  \n",
       "7406        Drama         Mystery  \n",
       "770        Comedy           Drama  "
      ]
     },
     "execution_count": 35,
     "metadata": {},
     "output_type": "execute_result"
    }
   ],
   "source": [
    "df.sample(5)"
   ]
  },
  {
   "cell_type": "markdown",
   "metadata": {},
   "source": [
    "## 3. Modelamiento \n",
    "En este paso se lleva a cabo la elección del modelo con el que queremos cumplir nuestra tarea de aprendizaje.\n",
    "En este caso, deben usar el algoritmo de K-Means y deberán compararlo con otros dos algoritmos de agrupación, como clustering jerárquico, DBScan, HDBScan, Gaussian Mixture.\n",
    "Tengan en cuenta que, en ambientes profesionales, la elección y justificación del algoritmo y sus hiperparámetros hace parte de su tarea de consultoría.\n",
    "Se sugiere explorar la generación de grupos que puedan llevar a mejores valores de coeficiente de silueta, al igual que a una mejor descripción de los grupos identificados que aporte a la organización."
   ]
  },
  {
   "cell_type": "markdown",
   "metadata": {},
   "source": [
    "## 3. Validación \n",
    "En modelos de aprendizaje no supervisado la validación de los modelos es un reto importante que deben asumir los consultores."
   ]
  },
  {
   "cell_type": "markdown",
   "metadata": {},
   "source": [
    "## 4.  Visualización\n",
    "El estudiante debe proponer una visualización de los resultados obtenidos en un tablero de control,\n",
    "de tal manera que el cliente tenga la capacidad de entender los resultados obtenidos en su labor de consultoría."
   ]
  }
 ],
 "metadata": {
  "kernelspec": {
   "display_name": "base",
   "language": "python",
   "name": "python3"
  },
  "language_info": {
   "codemirror_mode": {
    "name": "ipython",
    "version": 3
   },
   "file_extension": ".py",
   "mimetype": "text/x-python",
   "name": "python",
   "nbconvert_exporter": "python",
   "pygments_lexer": "ipython3",
   "version": "3.8.1"
  },
  "orig_nbformat": 4
 },
 "nbformat": 4,
 "nbformat_minor": 2
}
