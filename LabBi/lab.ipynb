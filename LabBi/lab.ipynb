{
 "cells": [
  {
   "cell_type": "markdown",
   "metadata": {},
   "source": [
    "# Lab Bi\n"
   ]
  },
  {
   "cell_type": "code",
   "execution_count": 2,
   "metadata": {},
   "outputs": [],
   "source": [
    "import pandas as pd\n",
    "import matplotlib.pyplot as plt\n",
    "import seaborn as sns\n"
   ]
  },
  {
   "cell_type": "code",
   "execution_count": 24,
   "metadata": {},
   "outputs": [],
   "source": [
    "df = pd.read_csv('./data/data.csv', sep=';')\n"
   ]
  },
  {
   "cell_type": "code",
   "execution_count": 25,
   "metadata": {},
   "outputs": [
    {
     "data": {
      "text/plain": [
       "(7471, 18)"
      ]
     },
     "execution_count": 25,
     "metadata": {},
     "output_type": "execute_result"
    }
   ],
   "source": [
    "df.shape"
   ]
  },
  {
   "cell_type": "code",
   "execution_count": 26,
   "metadata": {},
   "outputs": [
    {
     "data": {
      "text/html": [
       "<div>\n",
       "<style scoped>\n",
       "    .dataframe tbody tr th:only-of-type {\n",
       "        vertical-align: middle;\n",
       "    }\n",
       "\n",
       "    .dataframe tbody tr th {\n",
       "        vertical-align: top;\n",
       "    }\n",
       "\n",
       "    .dataframe thead th {\n",
       "        text-align: right;\n",
       "    }\n",
       "</style>\n",
       "<table border=\"1\" class=\"dataframe\">\n",
       "  <thead>\n",
       "    <tr style=\"text-align: right;\">\n",
       "      <th></th>\n",
       "      <th>#</th>\n",
       "      <th>index</th>\n",
       "      <th>tconst</th>\n",
       "      <th>titleType</th>\n",
       "      <th>originalTitle</th>\n",
       "      <th>isAdult</th>\n",
       "      <th>startYear</th>\n",
       "      <th>runtimeMinutes</th>\n",
       "      <th>averageRating</th>\n",
       "      <th>numVotes</th>\n",
       "      <th>ordering</th>\n",
       "      <th>region</th>\n",
       "      <th>language</th>\n",
       "      <th>types</th>\n",
       "      <th>attributes</th>\n",
       "      <th>isOriginalTitle</th>\n",
       "      <th>main_genre</th>\n",
       "      <th>secondary_genre</th>\n",
       "    </tr>\n",
       "  </thead>\n",
       "  <tbody>\n",
       "    <tr>\n",
       "      <th>2014</th>\n",
       "      <td>2300</td>\n",
       "      <td>3268</td>\n",
       "      <td>tt12682076</td>\n",
       "      <td>tvSeries</td>\n",
       "      <td>The Wonder Years</td>\n",
       "      <td>0.0</td>\n",
       "      <td>2021.0</td>\n",
       "      <td>21</td>\n",
       "      <td>6.6</td>\n",
       "      <td>4637.0</td>\n",
       "      <td>16.0</td>\n",
       "      <td>IN</td>\n",
       "      <td>en</td>\n",
       "      <td>imdbDisplay</td>\n",
       "      <td>\\N</td>\n",
       "      <td>0.0</td>\n",
       "      <td>Comedy</td>\n",
       "      <td>Drama</td>\n",
       "    </tr>\n",
       "    <tr>\n",
       "      <th>4018</th>\n",
       "      <td>4318</td>\n",
       "      <td>5764</td>\n",
       "      <td>tt3922798</td>\n",
       "      <td>movie</td>\n",
       "      <td>The Siege of Jadotville</td>\n",
       "      <td>0.0</td>\n",
       "      <td>2016.0</td>\n",
       "      <td>108</td>\n",
       "      <td>7.2</td>\n",
       "      <td>42129.0</td>\n",
       "      <td>15.0</td>\n",
       "      <td>IN</td>\n",
       "      <td>en</td>\n",
       "      <td>imdbDisplay</td>\n",
       "      <td>\\N</td>\n",
       "      <td>0.0</td>\n",
       "      <td>Action</td>\n",
       "      <td>Drama</td>\n",
       "    </tr>\n",
       "    <tr>\n",
       "      <th>4383</th>\n",
       "      <td>4686</td>\n",
       "      <td>6198</td>\n",
       "      <td>tt5198068</td>\n",
       "      <td>movie</td>\n",
       "      <td>WolfWalkers</td>\n",
       "      <td>0.0</td>\n",
       "      <td>2020.0</td>\n",
       "      <td>103</td>\n",
       "      <td>8.0</td>\n",
       "      <td>35523.0</td>\n",
       "      <td>12.0</td>\n",
       "      <td>IN</td>\n",
       "      <td>en</td>\n",
       "      <td>imdbDisplay</td>\n",
       "      <td>\\N</td>\n",
       "      <td>0.0</td>\n",
       "      <td>Action</td>\n",
       "      <td>Adventure</td>\n",
       "    </tr>\n",
       "    <tr>\n",
       "      <th>5877</th>\n",
       "      <td>6244</td>\n",
       "      <td>8204</td>\n",
       "      <td>tt0297037</td>\n",
       "      <td>movie</td>\n",
       "      <td>Brown Sugar</td>\n",
       "      <td>0.0</td>\n",
       "      <td>2002.0</td>\n",
       "      <td>109</td>\n",
       "      <td>6.5</td>\n",
       "      <td>9916.0</td>\n",
       "      <td>4.0</td>\n",
       "      <td>CA</td>\n",
       "      <td>en</td>\n",
       "      <td>imdbDisplay</td>\n",
       "      <td>\\N</td>\n",
       "      <td>0.0</td>\n",
       "      <td>Comedy</td>\n",
       "      <td>Drama</td>\n",
       "    </tr>\n",
       "    <tr>\n",
       "      <th>6851</th>\n",
       "      <td>7227</td>\n",
       "      <td>9522</td>\n",
       "      <td>tt2351310</td>\n",
       "      <td>movie</td>\n",
       "      <td>Gamgi</td>\n",
       "      <td>0.0</td>\n",
       "      <td>2013.0</td>\n",
       "      <td>122</td>\n",
       "      <td>6.6</td>\n",
       "      <td>13992.0</td>\n",
       "      <td>17.0</td>\n",
       "      <td>CA</td>\n",
       "      <td>en</td>\n",
       "      <td>imdbDisplay</td>\n",
       "      <td>\\N</td>\n",
       "      <td>0.0</td>\n",
       "      <td>Action</td>\n",
       "      <td>Drama</td>\n",
       "    </tr>\n",
       "  </tbody>\n",
       "</table>\n",
       "</div>"
      ],
      "text/plain": [
       "         #  index      tconst titleType            originalTitle  isAdult  \\\n",
       "2014  2300   3268  tt12682076  tvSeries         The Wonder Years      0.0   \n",
       "4018  4318   5764   tt3922798     movie  The Siege of Jadotville      0.0   \n",
       "4383  4686   6198   tt5198068     movie              WolfWalkers      0.0   \n",
       "5877  6244   8204   tt0297037     movie              Brown Sugar      0.0   \n",
       "6851  7227   9522   tt2351310     movie                    Gamgi      0.0   \n",
       "\n",
       "      startYear runtimeMinutes  averageRating  numVotes  ordering region  \\\n",
       "2014     2021.0             21            6.6    4637.0      16.0     IN   \n",
       "4018     2016.0            108            7.2   42129.0      15.0     IN   \n",
       "4383     2020.0            103            8.0   35523.0      12.0     IN   \n",
       "5877     2002.0            109            6.5    9916.0       4.0     CA   \n",
       "6851     2013.0            122            6.6   13992.0      17.0     CA   \n",
       "\n",
       "     language        types attributes  isOriginalTitle main_genre  \\\n",
       "2014       en  imdbDisplay         \\N              0.0     Comedy   \n",
       "4018       en  imdbDisplay         \\N              0.0     Action   \n",
       "4383       en  imdbDisplay         \\N              0.0     Action   \n",
       "5877       en  imdbDisplay         \\N              0.0     Comedy   \n",
       "6851       en  imdbDisplay         \\N              0.0     Action   \n",
       "\n",
       "     secondary_genre  \n",
       "2014           Drama  \n",
       "4018           Drama  \n",
       "4383       Adventure  \n",
       "5877           Drama  \n",
       "6851           Drama  "
      ]
     },
     "execution_count": 26,
     "metadata": {},
     "output_type": "execute_result"
    }
   ],
   "source": [
    "df.sample(5)"
   ]
  },
  {
   "cell_type": "code",
   "execution_count": 27,
   "metadata": {},
   "outputs": [
    {
     "name": "stdout",
     "output_type": "stream",
     "text": [
      "['\\\\N' nan] [ 0. nan]\n"
     ]
    }
   ],
   "source": [
    "print(df.attributes.unique() , df.isAdult.unique())"
   ]
  },
  {
   "cell_type": "code",
   "execution_count": 34,
   "metadata": {},
   "outputs": [],
   "source": [
    "df = df.drop(['#', 'index', 'isAdult', 'attributes', 'isOriginalTitle', 'language'], axis=1)"
   ]
  },
  {
   "cell_type": "code",
   "execution_count": 29,
   "metadata": {},
   "outputs": [
    {
     "data": {
      "text/plain": [
       "array(['movie', 'tvSeries', 'MOVIE', 'tvMiniSeries', 'MOvie', 'Movie',\n",
       "       'tvMovie'], dtype=object)"
      ]
     },
     "execution_count": 29,
     "metadata": {},
     "output_type": "execute_result"
    }
   ],
   "source": [
    "df.titleType.unique()"
   ]
  },
  {
   "cell_type": "code",
   "execution_count": 30,
   "metadata": {},
   "outputs": [],
   "source": [
    "df.titleType = df.titleType.str.lower()"
   ]
  },
  {
   "cell_type": "code",
   "execution_count": 31,
   "metadata": {},
   "outputs": [
    {
     "data": {
      "text/plain": [
       "array(['movie', 'tvseries', 'tvminiseries', 'tvmovie'], dtype=object)"
      ]
     },
     "execution_count": 31,
     "metadata": {},
     "output_type": "execute_result"
    }
   ],
   "source": [
    "df.titleType.unique()"
   ]
  },
  {
   "cell_type": "code",
   "execution_count": 35,
   "metadata": {},
   "outputs": [
    {
     "data": {
      "text/html": [
       "<div>\n",
       "<style scoped>\n",
       "    .dataframe tbody tr th:only-of-type {\n",
       "        vertical-align: middle;\n",
       "    }\n",
       "\n",
       "    .dataframe tbody tr th {\n",
       "        vertical-align: top;\n",
       "    }\n",
       "\n",
       "    .dataframe thead th {\n",
       "        text-align: right;\n",
       "    }\n",
       "</style>\n",
       "<table border=\"1\" class=\"dataframe\">\n",
       "  <thead>\n",
       "    <tr style=\"text-align: right;\">\n",
       "      <th></th>\n",
       "      <th>tconst</th>\n",
       "      <th>titleType</th>\n",
       "      <th>originalTitle</th>\n",
       "      <th>startYear</th>\n",
       "      <th>runtimeMinutes</th>\n",
       "      <th>averageRating</th>\n",
       "      <th>numVotes</th>\n",
       "      <th>ordering</th>\n",
       "      <th>region</th>\n",
       "      <th>types</th>\n",
       "      <th>main_genre</th>\n",
       "      <th>secondary_genre</th>\n",
       "    </tr>\n",
       "  </thead>\n",
       "  <tbody>\n",
       "    <tr>\n",
       "      <th>5185</th>\n",
       "      <td>tt7988304</td>\n",
       "      <td>tvseries</td>\n",
       "      <td>The Young Offenders</td>\n",
       "      <td>2018.0</td>\n",
       "      <td>30</td>\n",
       "      <td>8.0</td>\n",
       "      <td>4393.0</td>\n",
       "      <td>6.0</td>\n",
       "      <td>IN</td>\n",
       "      <td>imdbDisplay</td>\n",
       "      <td>Comedy</td>\n",
       "      <td>No tiene</td>\n",
       "    </tr>\n",
       "    <tr>\n",
       "      <th>4254</th>\n",
       "      <td>tt4834206</td>\n",
       "      <td>tvseries</td>\n",
       "      <td>A Series of Unfortunate Events</td>\n",
       "      <td>2017.0</td>\n",
       "      <td>50</td>\n",
       "      <td>7.8</td>\n",
       "      <td>64028.0</td>\n",
       "      <td>48.0</td>\n",
       "      <td>IN</td>\n",
       "      <td>imdbDisplay</td>\n",
       "      <td>Adventure</td>\n",
       "      <td>Comedy</td>\n",
       "    </tr>\n",
       "    <tr>\n",
       "      <th>1970</th>\n",
       "      <td>tt1241325</td>\n",
       "      <td>movie</td>\n",
       "      <td>Objectified</td>\n",
       "      <td>2009.0</td>\n",
       "      <td>75</td>\n",
       "      <td>7.0</td>\n",
       "      <td>3678.0</td>\n",
       "      <td>5.0</td>\n",
       "      <td>IN</td>\n",
       "      <td>imdbDisplay</td>\n",
       "      <td>Documentary</td>\n",
       "      <td>No tiene</td>\n",
       "    </tr>\n",
       "    <tr>\n",
       "      <th>7406</th>\n",
       "      <td>tt8168186</td>\n",
       "      <td>tvmovie</td>\n",
       "      <td>Jonas</td>\n",
       "      <td>2018.0</td>\n",
       "      <td>82</td>\n",
       "      <td>7.0</td>\n",
       "      <td>6600.0</td>\n",
       "      <td>9.0</td>\n",
       "      <td>CA</td>\n",
       "      <td>imdbDisplay</td>\n",
       "      <td>Drama</td>\n",
       "      <td>Mystery</td>\n",
       "    </tr>\n",
       "    <tr>\n",
       "      <th>770</th>\n",
       "      <td>tt0391304</td>\n",
       "      <td>movie</td>\n",
       "      <td>A Lot Like Love</td>\n",
       "      <td>2005.0</td>\n",
       "      <td>107</td>\n",
       "      <td>6.6</td>\n",
       "      <td>70400.0</td>\n",
       "      <td>20.0</td>\n",
       "      <td>IN</td>\n",
       "      <td>imdbDisplay</td>\n",
       "      <td>Comedy</td>\n",
       "      <td>Drama</td>\n",
       "    </tr>\n",
       "  </tbody>\n",
       "</table>\n",
       "</div>"
      ],
      "text/plain": [
       "         tconst titleType                   originalTitle  startYear  \\\n",
       "5185  tt7988304  tvseries             The Young Offenders     2018.0   \n",
       "4254  tt4834206  tvseries  A Series of Unfortunate Events     2017.0   \n",
       "1970  tt1241325     movie                     Objectified     2009.0   \n",
       "7406  tt8168186   tvmovie                           Jonas     2018.0   \n",
       "770   tt0391304     movie                 A Lot Like Love     2005.0   \n",
       "\n",
       "     runtimeMinutes  averageRating  numVotes  ordering region        types  \\\n",
       "5185             30            8.0    4393.0       6.0     IN  imdbDisplay   \n",
       "4254             50            7.8   64028.0      48.0     IN  imdbDisplay   \n",
       "1970             75            7.0    3678.0       5.0     IN  imdbDisplay   \n",
       "7406             82            7.0    6600.0       9.0     CA  imdbDisplay   \n",
       "770             107            6.6   70400.0      20.0     IN  imdbDisplay   \n",
       "\n",
       "       main_genre secondary_genre  \n",
       "5185       Comedy        No tiene  \n",
       "4254    Adventure          Comedy  \n",
       "1970  Documentary        No tiene  \n",
       "7406        Drama         Mystery  \n",
       "770        Comedy           Drama  "
      ]
     },
     "execution_count": 35,
     "metadata": {},
     "output_type": "execute_result"
    }
   ],
   "source": [
    "df.sample(5)"
   ]
  }
 ],
 "metadata": {
  "kernelspec": {
   "display_name": "base",
   "language": "python",
   "name": "python3"
  },
  "language_info": {
   "codemirror_mode": {
    "name": "ipython",
    "version": 3
   },
   "file_extension": ".py",
   "mimetype": "text/x-python",
   "name": "python",
   "nbconvert_exporter": "python",
   "pygments_lexer": "ipython3",
   "version": "3.8.1"
  },
  "orig_nbformat": 4
 },
 "nbformat": 4,
 "nbformat_minor": 2
}
