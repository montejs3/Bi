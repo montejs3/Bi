{
 "cells": [
  {
   "cell_type": "markdown",
   "metadata": {},
   "source": [
    "# Laboratorio 1: MovieAlpes\n"
   ]
  },
  {
   "cell_type": "code",
   "execution_count": 9,
   "metadata": {},
   "outputs": [],
   "source": [
    "import pandas as pd\n",
    "import matplotlib.pyplot as plt\n",
    "import seaborn as sns\n"
   ]
  },
  {
   "cell_type": "markdown",
   "metadata": {},
   "source": [
    "## 1. Entendimiento de los datos\n",
    "\n",
    "En esta etapa es importante saber si los datos son o no suficientes para el alcance del proyecto y, en caso de serlo, entender bien sus características para poder definir el camino de limpieza y preparación para lograr el objetivo del proyecto.\n",
    "En particular, es importante realizar un perfilamiento completo que incluya lo descrito en el manterial del curso -ver infografía de entendimiento de datos-, donde se incluye estadística descriptiva y gráficos sobre los datos, señalando sus principales estadísticos: media, varianza, desviación estándar, etc., para el caso de las columnas numéricas. En caso de datos categóricos recuerde que es importante conocer las categorías y en qué proporción se presentan. Tener en cuenta que una parte fundamental de esta etapa está relacionada con el análisis a nivel de calidad de datos y, en particular, a nivel de las dimensiones de calidad (completitud, unicidad, consistencia, validez) para identificar las actividades de preparación que requieren los datos."
   ]
  },
  {
   "cell_type": "code",
   "execution_count": 10,
   "metadata": {},
   "outputs": [],
   "source": [
    "df = pd.read_csv('./data/data.csv', sep=';')"
   ]
  },
  {
   "cell_type": "code",
   "execution_count": 12,
   "metadata": {},
   "outputs": [
    {
     "data": {
      "text/plain": [
       "(7471, 18)"
      ]
     },
     "execution_count": 12,
     "metadata": {},
     "output_type": "execute_result"
    }
   ],
   "source": [
    "df.shape"
   ]
  },
  {
   "cell_type": "code",
   "execution_count": 13,
   "metadata": {},
   "outputs": [
    {
     "data": {
      "text/html": [
       "<div>\n",
       "<style scoped>\n",
       "    .dataframe tbody tr th:only-of-type {\n",
       "        vertical-align: middle;\n",
       "    }\n",
       "\n",
       "    .dataframe tbody tr th {\n",
       "        vertical-align: top;\n",
       "    }\n",
       "\n",
       "    .dataframe thead th {\n",
       "        text-align: right;\n",
       "    }\n",
       "</style>\n",
       "<table border=\"1\" class=\"dataframe\">\n",
       "  <thead>\n",
       "    <tr style=\"text-align: right;\">\n",
       "      <th></th>\n",
       "      <th>#</th>\n",
       "      <th>index</th>\n",
       "      <th>tconst</th>\n",
       "      <th>titleType</th>\n",
       "      <th>originalTitle</th>\n",
       "      <th>isAdult</th>\n",
       "      <th>startYear</th>\n",
       "      <th>runtimeMinutes</th>\n",
       "      <th>averageRating</th>\n",
       "      <th>numVotes</th>\n",
       "      <th>ordering</th>\n",
       "      <th>region</th>\n",
       "      <th>language</th>\n",
       "      <th>types</th>\n",
       "      <th>attributes</th>\n",
       "      <th>isOriginalTitle</th>\n",
       "      <th>main_genre</th>\n",
       "      <th>secondary_genre</th>\n",
       "    </tr>\n",
       "  </thead>\n",
       "  <tbody>\n",
       "    <tr>\n",
       "      <th>5596</th>\n",
       "      <td>5909</td>\n",
       "      <td>7635</td>\n",
       "      <td>tt9472282</td>\n",
       "      <td>tvSeries</td>\n",
       "      <td>DNA</td>\n",
       "      <td>0.0</td>\n",
       "      <td>2019.0</td>\n",
       "      <td>321</td>\n",
       "      <td>7.4</td>\n",
       "      <td>3155.0</td>\n",
       "      <td>7.0</td>\n",
       "      <td>IN</td>\n",
       "      <td>en</td>\n",
       "      <td>imdbDisplay</td>\n",
       "      <td>\\N</td>\n",
       "      <td>0.0</td>\n",
       "      <td>Crime</td>\n",
       "      <td>Drama</td>\n",
       "    </tr>\n",
       "    <tr>\n",
       "      <th>5040</th>\n",
       "      <td>5348</td>\n",
       "      <td>6984</td>\n",
       "      <td>tt7529298</td>\n",
       "      <td>movie</td>\n",
       "      <td>Attack</td>\n",
       "      <td>0.0</td>\n",
       "      <td>2022.0</td>\n",
       "      <td>121</td>\n",
       "      <td>6.8</td>\n",
       "      <td>16248.0</td>\n",
       "      <td>1.0</td>\n",
       "      <td>IN</td>\n",
       "      <td>en</td>\n",
       "      <td>imdbDisplay</td>\n",
       "      <td>\\N</td>\n",
       "      <td>0.0</td>\n",
       "      <td>Action</td>\n",
       "      <td>Sci-Fi</td>\n",
       "    </tr>\n",
       "    <tr>\n",
       "      <th>2179</th>\n",
       "      <td>2467</td>\n",
       "      <td>3477</td>\n",
       "      <td>tt13368190</td>\n",
       "      <td>tvSeries</td>\n",
       "      <td>Judy Justice</td>\n",
       "      <td>0.0</td>\n",
       "      <td>2021.0</td>\n",
       "      <td>\\N</td>\n",
       "      <td>7.0</td>\n",
       "      <td>3510.0</td>\n",
       "      <td>13.0</td>\n",
       "      <td>IN</td>\n",
       "      <td>en</td>\n",
       "      <td>imdbDisplay</td>\n",
       "      <td>\\N</td>\n",
       "      <td>0.0</td>\n",
       "      <td>Crime</td>\n",
       "      <td>Drama</td>\n",
       "    </tr>\n",
       "    <tr>\n",
       "      <th>382</th>\n",
       "      <td>650</td>\n",
       "      <td>1211</td>\n",
       "      <td>tt0256408</td>\n",
       "      <td>movie</td>\n",
       "      <td>Startup.com</td>\n",
       "      <td>0.0</td>\n",
       "      <td>2001.0</td>\n",
       "      <td>107</td>\n",
       "      <td>7.1</td>\n",
       "      <td>3436.0</td>\n",
       "      <td>2.0</td>\n",
       "      <td>IN</td>\n",
       "      <td>en</td>\n",
       "      <td>imdbDisplay</td>\n",
       "      <td>\\N</td>\n",
       "      <td>0.0</td>\n",
       "      <td>Documentary</td>\n",
       "      <td>No tiene</td>\n",
       "    </tr>\n",
       "    <tr>\n",
       "      <th>3264</th>\n",
       "      <td>3561</td>\n",
       "      <td>4845</td>\n",
       "      <td>tt21819228</td>\n",
       "      <td>movie</td>\n",
       "      <td>Stutz</td>\n",
       "      <td>0.0</td>\n",
       "      <td>2022.0</td>\n",
       "      <td>96</td>\n",
       "      <td>7.8</td>\n",
       "      <td>15804.0</td>\n",
       "      <td>19.0</td>\n",
       "      <td>IN</td>\n",
       "      <td>en</td>\n",
       "      <td>imdbDisplay</td>\n",
       "      <td>\\N</td>\n",
       "      <td>0.0</td>\n",
       "      <td>Documentary</td>\n",
       "      <td>No tiene</td>\n",
       "    </tr>\n",
       "  </tbody>\n",
       "</table>\n",
       "</div>"
      ],
      "text/plain": [
       "         #  index      tconst titleType originalTitle  isAdult  startYear  \\\n",
       "5596  5909   7635   tt9472282  tvSeries           DNA      0.0     2019.0   \n",
       "5040  5348   6984   tt7529298     movie        Attack      0.0     2022.0   \n",
       "2179  2467   3477  tt13368190  tvSeries  Judy Justice      0.0     2021.0   \n",
       "382    650   1211   tt0256408     movie   Startup.com      0.0     2001.0   \n",
       "3264  3561   4845  tt21819228     movie         Stutz      0.0     2022.0   \n",
       "\n",
       "     runtimeMinutes  averageRating  numVotes  ordering region language  \\\n",
       "5596            321            7.4    3155.0       7.0     IN       en   \n",
       "5040            121            6.8   16248.0       1.0     IN       en   \n",
       "2179             \\N            7.0    3510.0      13.0     IN       en   \n",
       "382             107            7.1    3436.0       2.0     IN       en   \n",
       "3264             96            7.8   15804.0      19.0     IN       en   \n",
       "\n",
       "            types attributes  isOriginalTitle   main_genre secondary_genre  \n",
       "5596  imdbDisplay         \\N              0.0        Crime           Drama  \n",
       "5040  imdbDisplay         \\N              0.0       Action          Sci-Fi  \n",
       "2179  imdbDisplay         \\N              0.0        Crime           Drama  \n",
       "382   imdbDisplay         \\N              0.0  Documentary        No tiene  \n",
       "3264  imdbDisplay         \\N              0.0  Documentary        No tiene  "
      ]
     },
     "execution_count": 13,
     "metadata": {},
     "output_type": "execute_result"
    }
   ],
   "source": [
    "df.sample(5)"
   ]
  },
  {
   "cell_type": "markdown",
   "metadata": {},
   "source": [
    "## 2. Preparación de datos\n",
    "\n",
    "Es el procedimiento llevado a cabo para transformar los valores actuales de acuerdo con el objetivo de negocio a resolver, las técnicas y algoritmos a utilizar, y la calidad de los datos. Incluye la limpieza de los datos, como el manejo de los datos nulos (missing values) y los valores atípicos (outliers) con la justificación respectiva."
   ]
  },
  {
   "cell_type": "code",
   "execution_count": 19,
   "metadata": {},
   "outputs": [
    {
     "data": {
      "text/plain": [
       "numVotes           0.000134\n",
       "ordering           0.000134\n",
       "main_genre         0.000134\n",
       "isOriginalTitle    0.000134\n",
       "attributes         0.000134\n",
       "types              0.000134\n",
       "language           0.000134\n",
       "region             0.000134\n",
       "secondary_genre    0.000134\n",
       "averageRating      0.000134\n",
       "runtimeMinutes     0.000134\n",
       "startYear          0.000134\n",
       "isAdult            0.000134\n",
       "index              0.000000\n",
       "originalTitle      0.000000\n",
       "titleType          0.000000\n",
       "tconst             0.000000\n",
       "#                  0.000000\n",
       "dtype: float64"
      ]
     },
     "execution_count": 19,
     "metadata": {},
     "output_type": "execute_result"
    }
   ],
   "source": [
    "(df.isnull().sum() / df.shape[0]).sort_values(ascending = False)"
   ]
  },
  {
   "cell_type": "markdown",
   "metadata": {},
   "source": [
    "Ya que a priori se ve que los datos de todas las columnas tienen alto nivel de completitud pasaremos a analizar las columnas teniendo en cuenta los datos del diccionario de datos que nos pasaron"
   ]
  },
  {
   "cell_type": "code",
   "execution_count": 21,
   "metadata": {},
   "outputs": [
    {
     "data": {
      "text/plain": [
       "array(['movie', 'tvSeries', 'MOVIE', 'tvMiniSeries', 'MOvie', 'Movie',\n",
       "       'tvMovie'], dtype=object)"
      ]
     },
     "execution_count": 21,
     "metadata": {},
     "output_type": "execute_result"
    }
   ],
   "source": [
    "df.titleType.unique()"
   ]
  },
  {
   "cell_type": "markdown",
   "metadata": {},
   "source": [
    "En el diccionario de datos se nos dice lo siguiente sobre la columna de titleType, Tipo de contenido (movie, tvSeries, tvMiniSeries, tvMovie), al comparar nos damos cuenta de que hay datos  pero escritos de manera diferente, como MOVIE y MOvie, esto es lo mismo que movie pero al estar escrito diferente queda como si fuese una categoria diferente, es por esto que cambiaremos esos datos para que queden solo los tipos que se nos dieron en el diccionario de datos"
   ]
  },
  {
   "cell_type": "code",
   "execution_count": 22,
   "metadata": {},
   "outputs": [
    {
     "data": {
      "text/plain": [
       "array(['movie', 'tvseries', 'tvminiseries', 'tvmovie'], dtype=object)"
      ]
     },
     "execution_count": 22,
     "metadata": {},
     "output_type": "execute_result"
    }
   ],
   "source": [
    "df.titleType = df.titleType.str.lower()\n",
    "df.titleType.unique()"
   ]
  },
  {
   "cell_type": "markdown",
   "metadata": {},
   "source": [
    "Como vemos ahora los datos de titleType se encuentran en el formato correcto"
   ]
  },
  {
   "cell_type": "code",
   "execution_count": 25,
   "metadata": {},
   "outputs": [
    {
     "name": "stdout",
     "output_type": "stream",
     "text": [
      "[ 0. nan] [ 0. nan] ['\\\\N' nan] ['en' nan]\n"
     ]
    }
   ],
   "source": [
    "print(df.isAdult.unique(), df.isOriginalTitle.unique(), df.attributes.unique(), df.language.unique())"
   ]
  },
  {
   "cell_type": "markdown",
   "metadata": {},
   "source": [
    "Como vemos las columnas de isAdult, isOriginalTitle y attributes no aportan valor al analisis de datos ya que solo tienen valores de 0 o nan y la columna de language tampoco aporta ya que solo tiene peliculas en ingles. Es por esto que a continuación eliminaremos todas las columnas que no agregan valor analisis de datos. Dentro de las columnas que eliminaremos tambien se esncuentran #, index y language el cual solo presenta en o nan por lo tanto no le terminan agregando valor al analisis "
   ]
  },
  {
   "cell_type": "code",
   "execution_count": 30,
   "metadata": {},
   "outputs": [],
   "source": [
    "df = df.drop(['#', 'index', 'isAdult', 'attributes', 'isOriginalTitle', 'language'], axis=1)"
   ]
  },
  {
   "cell_type": "code",
   "execution_count": 45,
   "metadata": {},
   "outputs": [
    {
     "data": {
      "text/html": [
       "<div>\n",
       "<style scoped>\n",
       "    .dataframe tbody tr th:only-of-type {\n",
       "        vertical-align: middle;\n",
       "    }\n",
       "\n",
       "    .dataframe tbody tr th {\n",
       "        vertical-align: top;\n",
       "    }\n",
       "\n",
       "    .dataframe thead th {\n",
       "        text-align: right;\n",
       "    }\n",
       "</style>\n",
       "<table border=\"1\" class=\"dataframe\">\n",
       "  <thead>\n",
       "    <tr style=\"text-align: right;\">\n",
       "      <th></th>\n",
       "      <th>tconst</th>\n",
       "      <th>titleType</th>\n",
       "      <th>originalTitle</th>\n",
       "      <th>startYear</th>\n",
       "      <th>runtimeMinutes</th>\n",
       "      <th>averageRating</th>\n",
       "      <th>numVotes</th>\n",
       "      <th>ordering</th>\n",
       "      <th>region</th>\n",
       "      <th>types</th>\n",
       "      <th>main_genre</th>\n",
       "      <th>secondary_genre</th>\n",
       "    </tr>\n",
       "  </thead>\n",
       "  <tbody>\n",
       "    <tr>\n",
       "      <th>3220</th>\n",
       "      <td>tt2098220</td>\n",
       "      <td>tvseries</td>\n",
       "      <td>Hunter x Hunter</td>\n",
       "      <td>2011-01-01</td>\n",
       "      <td>24</td>\n",
       "      <td>9.0</td>\n",
       "      <td>113339.0</td>\n",
       "      <td>6.0</td>\n",
       "      <td>IN</td>\n",
       "      <td>imdbDisplay</td>\n",
       "      <td>Action</td>\n",
       "      <td>Adventure</td>\n",
       "    </tr>\n",
       "    <tr>\n",
       "      <th>2082</th>\n",
       "      <td>tt1298650</td>\n",
       "      <td>movie</td>\n",
       "      <td>Pirates of the Caribbean: On Stranger Tides</td>\n",
       "      <td>2011-01-01</td>\n",
       "      <td>137</td>\n",
       "      <td>6.6</td>\n",
       "      <td>543552.0</td>\n",
       "      <td>29.0</td>\n",
       "      <td>IN</td>\n",
       "      <td>imdbDisplay</td>\n",
       "      <td>Action</td>\n",
       "      <td>Adventure</td>\n",
       "    </tr>\n",
       "    <tr>\n",
       "      <th>1532</th>\n",
       "      <td>tt10698680</td>\n",
       "      <td>movie</td>\n",
       "      <td>K.G.F: Chapter 2</td>\n",
       "      <td>2022-01-01</td>\n",
       "      <td>168</td>\n",
       "      <td>8.3</td>\n",
       "      <td>140428.0</td>\n",
       "      <td>19.0</td>\n",
       "      <td>IN</td>\n",
       "      <td>imdbDisplay</td>\n",
       "      <td>Action</td>\n",
       "      <td>Crime</td>\n",
       "    </tr>\n",
       "    <tr>\n",
       "      <th>7064</th>\n",
       "      <td>tt3759416</td>\n",
       "      <td>movie</td>\n",
       "      <td>AstÃ©rix: Le domaine des dieux</td>\n",
       "      <td>2014-01-01</td>\n",
       "      <td>85</td>\n",
       "      <td>6.9</td>\n",
       "      <td>14741.0</td>\n",
       "      <td>20.0</td>\n",
       "      <td>CA</td>\n",
       "      <td>imdbDisplay</td>\n",
       "      <td>Adventure</td>\n",
       "      <td>Animation</td>\n",
       "    </tr>\n",
       "    <tr>\n",
       "      <th>7150</th>\n",
       "      <td>tt4698584</td>\n",
       "      <td>movie</td>\n",
       "      <td>Neruda</td>\n",
       "      <td>2016-01-01</td>\n",
       "      <td>107</td>\n",
       "      <td>6.8</td>\n",
       "      <td>10730.0</td>\n",
       "      <td>10.0</td>\n",
       "      <td>CA</td>\n",
       "      <td>imdbDisplay</td>\n",
       "      <td>Biography</td>\n",
       "      <td>Crime</td>\n",
       "    </tr>\n",
       "  </tbody>\n",
       "</table>\n",
       "</div>"
      ],
      "text/plain": [
       "          tconst titleType                                originalTitle  \\\n",
       "3220   tt2098220  tvseries                              Hunter x Hunter   \n",
       "2082   tt1298650     movie  Pirates of the Caribbean: On Stranger Tides   \n",
       "1532  tt10698680     movie                             K.G.F: Chapter 2   \n",
       "7064   tt3759416     movie               AstÃ©rix: Le domaine des dieux   \n",
       "7150   tt4698584     movie                                       Neruda   \n",
       "\n",
       "      startYear runtimeMinutes  averageRating  numVotes  ordering region  \\\n",
       "3220 2011-01-01             24            9.0  113339.0       6.0     IN   \n",
       "2082 2011-01-01            137            6.6  543552.0      29.0     IN   \n",
       "1532 2022-01-01            168            8.3  140428.0      19.0     IN   \n",
       "7064 2014-01-01             85            6.9   14741.0      20.0     CA   \n",
       "7150 2016-01-01            107            6.8   10730.0      10.0     CA   \n",
       "\n",
       "            types main_genre secondary_genre  \n",
       "3220  imdbDisplay     Action       Adventure  \n",
       "2082  imdbDisplay     Action       Adventure  \n",
       "1532  imdbDisplay     Action           Crime  \n",
       "7064  imdbDisplay  Adventure       Animation  \n",
       "7150  imdbDisplay  Biography           Crime  "
      ]
     },
     "execution_count": 45,
     "metadata": {},
     "output_type": "execute_result"
    }
   ],
   "source": [
    "df.sample(5)"
   ]
  },
  {
   "cell_type": "code",
   "execution_count": 32,
   "metadata": {},
   "outputs": [
    {
     "data": {
      "text/html": [
       "<div>\n",
       "<style scoped>\n",
       "    .dataframe tbody tr th:only-of-type {\n",
       "        vertical-align: middle;\n",
       "    }\n",
       "\n",
       "    .dataframe tbody tr th {\n",
       "        vertical-align: top;\n",
       "    }\n",
       "\n",
       "    .dataframe thead th {\n",
       "        text-align: right;\n",
       "    }\n",
       "</style>\n",
       "<table border=\"1\" class=\"dataframe\">\n",
       "  <thead>\n",
       "    <tr style=\"text-align: right;\">\n",
       "      <th></th>\n",
       "      <th>tconst</th>\n",
       "      <th>titleType</th>\n",
       "      <th>originalTitle</th>\n",
       "      <th>startYear</th>\n",
       "      <th>runtimeMinutes</th>\n",
       "      <th>averageRating</th>\n",
       "      <th>numVotes</th>\n",
       "      <th>ordering</th>\n",
       "      <th>region</th>\n",
       "      <th>types</th>\n",
       "      <th>main_genre</th>\n",
       "      <th>secondary_genre</th>\n",
       "    </tr>\n",
       "  </thead>\n",
       "  <tbody>\n",
       "  </tbody>\n",
       "</table>\n",
       "</div>"
      ],
      "text/plain": [
       "Empty DataFrame\n",
       "Columns: [tconst, titleType, originalTitle, startYear, runtimeMinutes, averageRating, numVotes, ordering, region, types, main_genre, secondary_genre]\n",
       "Index: []"
      ]
     },
     "execution_count": 32,
     "metadata": {},
     "output_type": "execute_result"
    }
   ],
   "source": [
    "# Se muestran algunos registros de canciones aparentemente repetidos\n",
    "# Los repetidos se pueden analizar por la totalidad de sus valores o como en este caso por un subconjunto de estos\n",
    "df.loc[df.duplicated(subset = df.columns[1:], keep = False)].sort_values(by = 'originalTitle').head(10)"
   ]
  },
  {
   "cell_type": "markdown",
   "metadata": {},
   "source": [
    "Se busca en los registros por nombre de pelicula los valores duplicados."
   ]
  },
  {
   "cell_type": "code",
   "execution_count": 26,
   "metadata": {},
   "outputs": [
    {
     "name": "stdout",
     "output_type": "stream",
     "text": [
      "Total de peliculas repetidas: 6\n"
     ]
    }
   ],
   "source": [
    "print('Total de peliculas repetidas:', df.loc[df.duplicated(subset = df.columns[1:], keep = False)].shape[0])"
   ]
  },
  {
   "cell_type": "code",
   "execution_count": 28,
   "metadata": {},
   "outputs": [],
   "source": [
    "# Se eliminan los repetidos que se hayan identificado aún cuando la columna id sea diferente\n",
    "df.drop_duplicates(subset = df.columns[1:], inplace = True)"
   ]
  },
  {
   "cell_type": "code",
   "execution_count": 31,
   "metadata": {},
   "outputs": [
    {
     "name": "stdout",
     "output_type": "stream",
     "text": [
      "Total de peliculas repetidas: 0\n"
     ]
    }
   ],
   "source": [
    "print('Total de peliculas repetidas:', df.loc[df.duplicated(subset = df.columns[1:], keep = False)].shape[0])"
   ]
  },
  {
   "cell_type": "code",
   "execution_count": 34,
   "metadata": {},
   "outputs": [
    {
     "data": {
      "text/plain": [
       "(7468, 12)"
      ]
     },
     "execution_count": 34,
     "metadata": {},
     "output_type": "execute_result"
    }
   ],
   "source": [
    "df.shape"
   ]
  },
  {
   "cell_type": "code",
   "execution_count": 35,
   "metadata": {},
   "outputs": [
    {
     "data": {
      "text/plain": [
       "(7467, 12)"
      ]
     },
     "execution_count": 35,
     "metadata": {},
     "output_type": "execute_result"
    }
   ],
   "source": [
    "df.dropna(inplace = True)\n",
    "df.shape\n"
   ]
  },
  {
   "cell_type": "code",
   "execution_count": 46,
   "metadata": {},
   "outputs": [
    {
     "data": {
      "text/plain": [
       "tconst             0.0\n",
       "titleType          0.0\n",
       "originalTitle      0.0\n",
       "startYear          0.0\n",
       "runtimeMinutes     0.0\n",
       "averageRating      0.0\n",
       "numVotes           0.0\n",
       "ordering           0.0\n",
       "region             0.0\n",
       "types              0.0\n",
       "main_genre         0.0\n",
       "secondary_genre    0.0\n",
       "dtype: float64"
      ]
     },
     "execution_count": 46,
     "metadata": {},
     "output_type": "execute_result"
    }
   ],
   "source": [
    "(df.isnull().sum() / df.shape[0]).sort_values(ascending = False)"
   ]
  },
  {
   "cell_type": "code",
   "execution_count": 39,
   "metadata": {},
   "outputs": [
    {
     "data": {
      "text/plain": [
       "tconst              object\n",
       "titleType           object\n",
       "originalTitle       object\n",
       "startYear          float64\n",
       "runtimeMinutes      object\n",
       "averageRating      float64\n",
       "numVotes           float64\n",
       "ordering           float64\n",
       "region              object\n",
       "types               object\n",
       "main_genre          object\n",
       "secondary_genre     object\n",
       "dtype: object"
      ]
     },
     "execution_count": 39,
     "metadata": {},
     "output_type": "execute_result"
    }
   ],
   "source": [
    "df.startYear.unique()\n",
    "df.dtypes"
   ]
  },
  {
   "cell_type": "code",
   "execution_count": 54,
   "metadata": {},
   "outputs": [],
   "source": [
    "# Dado que se tienen fechas no estandarizadas, se aplica un preprocesamiento que garantice dicha estandarización\n",
    "df['startYear'] = pd.to_datetime(df['startYear'], format='%yyyy')"
   ]
  },
  {
   "cell_type": "code",
   "execution_count": 55,
   "metadata": {},
   "outputs": [
    {
     "data": {
      "text/plain": [
       "1232   2021-01-01\n",
       "6924   2013-01-01\n",
       "4746   2019-01-01\n",
       "1372   2020-01-01\n",
       "455    2001-01-01\n",
       "Name: startYear, dtype: datetime64[ns]"
      ]
     },
     "execution_count": 55,
     "metadata": {},
     "output_type": "execute_result"
    }
   ],
   "source": [
    "df.startYear.sample(5)"
   ]
  },
  {
   "cell_type": "code",
   "execution_count": 59,
   "metadata": {},
   "outputs": [
    {
     "data": {
      "text/html": [
       "<div>\n",
       "<style scoped>\n",
       "    .dataframe tbody tr th:only-of-type {\n",
       "        vertical-align: middle;\n",
       "    }\n",
       "\n",
       "    .dataframe tbody tr th {\n",
       "        vertical-align: top;\n",
       "    }\n",
       "\n",
       "    .dataframe thead th {\n",
       "        text-align: right;\n",
       "    }\n",
       "</style>\n",
       "<table border=\"1\" class=\"dataframe\">\n",
       "  <thead>\n",
       "    <tr style=\"text-align: right;\">\n",
       "      <th></th>\n",
       "      <th>tconst</th>\n",
       "      <th>titleType</th>\n",
       "      <th>originalTitle</th>\n",
       "      <th>startYear</th>\n",
       "      <th>runtimeMinutes</th>\n",
       "      <th>averageRating</th>\n",
       "      <th>numVotes</th>\n",
       "      <th>ordering</th>\n",
       "      <th>region</th>\n",
       "      <th>types</th>\n",
       "      <th>main_genre</th>\n",
       "      <th>secondary_genre</th>\n",
       "    </tr>\n",
       "  </thead>\n",
       "  <tbody>\n",
       "    <tr>\n",
       "      <th>139</th>\n",
       "      <td>tt0108937</td>\n",
       "      <td>tvseries</td>\n",
       "      <td>Space Ghost Coast to Coast</td>\n",
       "      <td>1993</td>\n",
       "      <td>15</td>\n",
       "      <td>7.9</td>\n",
       "      <td>7489.0</td>\n",
       "      <td>3.0</td>\n",
       "      <td>IN</td>\n",
       "      <td>imdbDisplay</td>\n",
       "      <td>Animation</td>\n",
       "      <td>Comedy</td>\n",
       "    </tr>\n",
       "    <tr>\n",
       "      <th>1827</th>\n",
       "      <td>tt11773456</td>\n",
       "      <td>movie</td>\n",
       "      <td>Naandhi</td>\n",
       "      <td>2021</td>\n",
       "      <td>146</td>\n",
       "      <td>7.9</td>\n",
       "      <td>4662.0</td>\n",
       "      <td>8.0</td>\n",
       "      <td>IN</td>\n",
       "      <td>imdbDisplay</td>\n",
       "      <td>Crime</td>\n",
       "      <td>Drama</td>\n",
       "    </tr>\n",
       "    <tr>\n",
       "      <th>1470</th>\n",
       "      <td>tt10457128</td>\n",
       "      <td>movie</td>\n",
       "      <td>ÃtÃ© 85</td>\n",
       "      <td>2020</td>\n",
       "      <td>101</td>\n",
       "      <td>6.9</td>\n",
       "      <td>11349.0</td>\n",
       "      <td>25.0</td>\n",
       "      <td>IN</td>\n",
       "      <td>imdbDisplay</td>\n",
       "      <td>Drama</td>\n",
       "      <td>Romance</td>\n",
       "    </tr>\n",
       "    <tr>\n",
       "      <th>6484</th>\n",
       "      <td>tt1264904</td>\n",
       "      <td>movie</td>\n",
       "      <td>Le Petit Nicolas</td>\n",
       "      <td>2009</td>\n",
       "      <td>91</td>\n",
       "      <td>7.1</td>\n",
       "      <td>13728.0</td>\n",
       "      <td>12.0</td>\n",
       "      <td>CA</td>\n",
       "      <td>imdbDisplay</td>\n",
       "      <td>Comedy</td>\n",
       "      <td>Family</td>\n",
       "    </tr>\n",
       "    <tr>\n",
       "      <th>2716</th>\n",
       "      <td>tt1590089</td>\n",
       "      <td>movie</td>\n",
       "      <td>Kokuhaku</td>\n",
       "      <td>2010</td>\n",
       "      <td>106</td>\n",
       "      <td>7.7</td>\n",
       "      <td>40670.0</td>\n",
       "      <td>21.0</td>\n",
       "      <td>IN</td>\n",
       "      <td>imdbDisplay</td>\n",
       "      <td>Drama</td>\n",
       "      <td>Thriller</td>\n",
       "    </tr>\n",
       "  </tbody>\n",
       "</table>\n",
       "</div>"
      ],
      "text/plain": [
       "          tconst titleType               originalTitle  startYear  \\\n",
       "139    tt0108937  tvseries  Space Ghost Coast to Coast       1993   \n",
       "1827  tt11773456     movie                     Naandhi       2021   \n",
       "1470  tt10457128     movie                    ÃtÃ© 85       2020   \n",
       "6484   tt1264904     movie            Le Petit Nicolas       2009   \n",
       "2716   tt1590089     movie                    Kokuhaku       2010   \n",
       "\n",
       "     runtimeMinutes  averageRating  numVotes  ordering region        types  \\\n",
       "139              15            7.9    7489.0       3.0     IN  imdbDisplay   \n",
       "1827            146            7.9    4662.0       8.0     IN  imdbDisplay   \n",
       "1470            101            6.9   11349.0      25.0     IN  imdbDisplay   \n",
       "6484             91            7.1   13728.0      12.0     CA  imdbDisplay   \n",
       "2716            106            7.7   40670.0      21.0     IN  imdbDisplay   \n",
       "\n",
       "     main_genre secondary_genre  \n",
       "139   Animation          Comedy  \n",
       "1827      Crime           Drama  \n",
       "1470      Drama         Romance  \n",
       "6484     Comedy          Family  \n",
       "2716      Drama        Thriller  "
      ]
     },
     "execution_count": 59,
     "metadata": {},
     "output_type": "execute_result"
    }
   ],
   "source": [
    "\n",
    "df['startYear'] = df['startYear'].dt.year\n"
   ]
  },
  {
   "cell_type": "code",
   "execution_count": 63,
   "metadata": {},
   "outputs": [
    {
     "data": {
      "image/png": "[encoded data removed]",
      "text/plain": [
       "<Figure size 1440x576 with 1 Axes>"
      ]
     },
     "metadata": {
      "needs_background": "light"
     },
     "output_type": "display_data"
    }
   ],
   "source": [
    "fig = plt.figure(figsize = (20, 8))\n",
    "ax = sns.boxplot(data = df, orient = 'h')"
   ]
  },
  {
   "cell_type": "code",
   "execution_count": 65,
   "metadata": {},
   "outputs": [
    {
     "data": {
      "image/png": "[encoded data removed]",
      "text/plain": [
       "<Figure size 1440x576 with 1 Axes>"
      ]
     },
     "metadata": {
      "needs_background": "light"
     },
     "output_type": "display_data"
    }
   ],
   "source": [
    "# Se remueve la variable duration_ms para propósitos de visualización\n",
    "fig = plt.figure(figsize = (20, 8))\n",
    "ax = sns.boxplot(data = df.drop(['numVotes'], axis = 1), orient = 'h')"
   ]
  },
  {
   "cell_type": "markdown",
   "metadata": {},
   "source": [
    "## 3. Modelamiento \n",
    "En este paso se lleva a cabo la elección del modelo con el que queremos cumplir nuestra tarea de aprendizaje.\n",
    "En este caso, deben usar el algoritmo de K-Means y deberán compararlo con otros dos algoritmos de agrupación, como clustering jerárquico, DBScan, HDBScan, Gaussian Mixture.\n",
    "Tengan en cuenta que, en ambientes profesionales, la elección y justificación del algoritmo y sus hiperparámetros hace parte de su tarea de consultoría.\n",
    "Se sugiere explorar la generación de grupos que puedan llevar a mejores valores de coeficiente de silueta, al igual que a una mejor descripción de los grupos identificados que aporte a la organización."
   ]
  },
  {
   "cell_type": "markdown",
   "metadata": {},
   "source": [
    "## 3. Validación \n",
    "En modelos de aprendizaje no supervisado la validación de los modelos es un reto importante que deben asumir los consultores."
   ]
  },
  {
   "cell_type": "markdown",
   "metadata": {},
   "source": [
    "## 4.  Visualización\n",
    "El estudiante debe proponer una visualización de los resultados obtenidos en un tablero de control,\n",
    "de tal manera que el cliente tenga la capacidad de entender los resultados obtenidos en su labor de consultoría."
   ]
  }
 ],
 "metadata": {
  "kernelspec": {
   "display_name": "base",
   "language": "python",
   "name": "python3"
  },
  "language_info": {
   "codemirror_mode": {
    "name": "ipython",
    "version": 3
   },
   "file_extension": ".py",
   "mimetype": "text/x-python",
   "name": "python",
   "nbconvert_exporter": "python",
   "pygments_lexer": "ipython3",
   "version": "3.9.0"
  },
  "orig_nbformat": 4
 },
 "nbformat": 4,
 "nbformat_minor": 2
}
